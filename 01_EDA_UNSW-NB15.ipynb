{
 "cells": [
  {
   "cell_type": "markdown",
   "metadata": {},
   "source": [
    "# EDA for UNSW-NB15 Data Set\n",
    "\n",
    "I've taken two datasets of point anomaly data down from [the dataset hosting] website(https://www.unsw.adfa.edu.au/unsw-canberra-cyber/cybersecurity/ADFA-NB15-Datasets/). The first contains pre-partioned CSV files for a training and test set of data. The rows in these files have eliminated columns pertaining to specific IP address and port numbers, as well as eliminated two columns that indicated when the connectioned was opened and closed. I did all of my EDA for that dataset using only the training data CSV file. This training set contains just over 175k observations and is housed in the generically named dataframe `data`.\n",
    "\n",
    "The second dataset consists of four larger CSV files that contain slightly less polished data. There are some missing values that had to be explained and accounted for (as can be seen in the more involved transformations). These files also include IP addresses and ports used for the observation, as well as date time values. There is also one feature, `rate`, in the pre-partitioned set that is not in these files. Because there are more than 2.5M observations across these four CSV files, I've put them together and used them for my analysis. This dataset is housed in a dataframe referred to as `all_data` in this notebook."
   ]
  },
  {
   "cell_type": "code",
   "execution_count": 42,
   "metadata": {},
   "outputs": [],
   "source": [
    "# Data Containers\n",
    "import pandas as pd\n",
    "import numpy as np\n",
    "\n",
    "import matplotlib.pyplot as plt\n",
    "%matplotlib inline\n",
    "\n",
    "# Data Processing Imports\n",
    "from sklearn.decomposition import PCA\n",
    "from sklearn.preprocessing import OneHotEncoder, StandardScaler\n",
    "from sklearn.pipeline import Pipeline\n",
    "from sklearn.compose import ColumnTransformer\n",
    "from sklearn.preprocessing import FunctionTransformer\n",
    "\n",
    "# Pipeline Testing\n",
    "from sklearn.ensemble import RandomForestClassifier\n",
    "from sklearn.metrics import confusion_matrix, roc_auc_score"
   ]
  },
  {
   "cell_type": "code",
   "execution_count": 4,
   "metadata": {},
   "outputs": [],
   "source": [
    "def reduce_column(s, to_keep):\n",
    "    '''\n",
    "    Reduces the string values found in a column\n",
    "    to the values provided in the list 'to_keep'.\n",
    "    ---\n",
    "    Input:\n",
    "        s: string\n",
    "        to_keep: list of strings\n",
    "    Returns:\n",
    "        string, s if s should be kept, else 'other'\n",
    "    '''\n",
    "    s = s.lower().strip()\n",
    "    if s not in to_keep:\n",
    "        return 'other'\n",
    "    else:\n",
    "        return s"
   ]
  },
  {
   "cell_type": "markdown",
   "metadata": {},
   "source": [
    "# EDA For Provided Training Set"
   ]
  },
  {
   "cell_type": "code",
   "execution_count": 6,
   "metadata": {},
   "outputs": [
    {
     "data": {
      "text/html": [
       "<div>\n",
       "<style scoped>\n",
       "    .dataframe tbody tr th:only-of-type {\n",
       "        vertical-align: middle;\n",
       "    }\n",
       "\n",
       "    .dataframe tbody tr th {\n",
       "        vertical-align: top;\n",
       "    }\n",
       "\n",
       "    .dataframe thead th {\n",
       "        text-align: right;\n",
       "    }\n",
       "</style>\n",
       "<table border=\"1\" class=\"dataframe\">\n",
       "  <thead>\n",
       "    <tr style=\"text-align: right;\">\n",
       "      <th></th>\n",
       "      <th>dur</th>\n",
       "      <th>proto</th>\n",
       "      <th>service</th>\n",
       "      <th>state</th>\n",
       "      <th>spkts</th>\n",
       "      <th>dpkts</th>\n",
       "      <th>sbytes</th>\n",
       "      <th>dbytes</th>\n",
       "      <th>rate</th>\n",
       "      <th>sttl</th>\n",
       "      <th>...</th>\n",
       "      <th>ct_dst_sport_ltm</th>\n",
       "      <th>ct_dst_src_ltm</th>\n",
       "      <th>is_ftp_login</th>\n",
       "      <th>ct_ftp_cmd</th>\n",
       "      <th>ct_flw_http_mthd</th>\n",
       "      <th>ct_src_ltm</th>\n",
       "      <th>ct_srv_dst</th>\n",
       "      <th>is_sm_ips_ports</th>\n",
       "      <th>attack_cat</th>\n",
       "      <th>label</th>\n",
       "    </tr>\n",
       "    <tr>\n",
       "      <th>id</th>\n",
       "      <th></th>\n",
       "      <th></th>\n",
       "      <th></th>\n",
       "      <th></th>\n",
       "      <th></th>\n",
       "      <th></th>\n",
       "      <th></th>\n",
       "      <th></th>\n",
       "      <th></th>\n",
       "      <th></th>\n",
       "      <th></th>\n",
       "      <th></th>\n",
       "      <th></th>\n",
       "      <th></th>\n",
       "      <th></th>\n",
       "      <th></th>\n",
       "      <th></th>\n",
       "      <th></th>\n",
       "      <th></th>\n",
       "      <th></th>\n",
       "      <th></th>\n",
       "    </tr>\n",
       "  </thead>\n",
       "  <tbody>\n",
       "    <tr>\n",
       "      <th>1</th>\n",
       "      <td>0.121478</td>\n",
       "      <td>tcp</td>\n",
       "      <td>-</td>\n",
       "      <td>FIN</td>\n",
       "      <td>6</td>\n",
       "      <td>4</td>\n",
       "      <td>258</td>\n",
       "      <td>172</td>\n",
       "      <td>74.087490</td>\n",
       "      <td>252</td>\n",
       "      <td>...</td>\n",
       "      <td>1</td>\n",
       "      <td>1</td>\n",
       "      <td>0</td>\n",
       "      <td>0</td>\n",
       "      <td>0</td>\n",
       "      <td>1</td>\n",
       "      <td>1</td>\n",
       "      <td>0</td>\n",
       "      <td>Normal</td>\n",
       "      <td>0</td>\n",
       "    </tr>\n",
       "    <tr>\n",
       "      <th>2</th>\n",
       "      <td>0.649902</td>\n",
       "      <td>tcp</td>\n",
       "      <td>-</td>\n",
       "      <td>FIN</td>\n",
       "      <td>14</td>\n",
       "      <td>38</td>\n",
       "      <td>734</td>\n",
       "      <td>42014</td>\n",
       "      <td>78.473372</td>\n",
       "      <td>62</td>\n",
       "      <td>...</td>\n",
       "      <td>1</td>\n",
       "      <td>2</td>\n",
       "      <td>0</td>\n",
       "      <td>0</td>\n",
       "      <td>0</td>\n",
       "      <td>1</td>\n",
       "      <td>6</td>\n",
       "      <td>0</td>\n",
       "      <td>Normal</td>\n",
       "      <td>0</td>\n",
       "    </tr>\n",
       "    <tr>\n",
       "      <th>3</th>\n",
       "      <td>1.623129</td>\n",
       "      <td>tcp</td>\n",
       "      <td>-</td>\n",
       "      <td>FIN</td>\n",
       "      <td>8</td>\n",
       "      <td>16</td>\n",
       "      <td>364</td>\n",
       "      <td>13186</td>\n",
       "      <td>14.170161</td>\n",
       "      <td>62</td>\n",
       "      <td>...</td>\n",
       "      <td>1</td>\n",
       "      <td>3</td>\n",
       "      <td>0</td>\n",
       "      <td>0</td>\n",
       "      <td>0</td>\n",
       "      <td>2</td>\n",
       "      <td>6</td>\n",
       "      <td>0</td>\n",
       "      <td>Normal</td>\n",
       "      <td>0</td>\n",
       "    </tr>\n",
       "    <tr>\n",
       "      <th>4</th>\n",
       "      <td>1.681642</td>\n",
       "      <td>tcp</td>\n",
       "      <td>ftp</td>\n",
       "      <td>FIN</td>\n",
       "      <td>12</td>\n",
       "      <td>12</td>\n",
       "      <td>628</td>\n",
       "      <td>770</td>\n",
       "      <td>13.677108</td>\n",
       "      <td>62</td>\n",
       "      <td>...</td>\n",
       "      <td>1</td>\n",
       "      <td>3</td>\n",
       "      <td>1</td>\n",
       "      <td>1</td>\n",
       "      <td>0</td>\n",
       "      <td>2</td>\n",
       "      <td>1</td>\n",
       "      <td>0</td>\n",
       "      <td>Normal</td>\n",
       "      <td>0</td>\n",
       "    </tr>\n",
       "    <tr>\n",
       "      <th>5</th>\n",
       "      <td>0.449454</td>\n",
       "      <td>tcp</td>\n",
       "      <td>-</td>\n",
       "      <td>FIN</td>\n",
       "      <td>10</td>\n",
       "      <td>6</td>\n",
       "      <td>534</td>\n",
       "      <td>268</td>\n",
       "      <td>33.373826</td>\n",
       "      <td>254</td>\n",
       "      <td>...</td>\n",
       "      <td>1</td>\n",
       "      <td>40</td>\n",
       "      <td>0</td>\n",
       "      <td>0</td>\n",
       "      <td>0</td>\n",
       "      <td>2</td>\n",
       "      <td>39</td>\n",
       "      <td>0</td>\n",
       "      <td>Normal</td>\n",
       "      <td>0</td>\n",
       "    </tr>\n",
       "  </tbody>\n",
       "</table>\n",
       "<p>5 rows × 44 columns</p>\n",
       "</div>"
      ],
      "text/plain": [
       "         dur proto service state  spkts  dpkts  sbytes  dbytes       rate  \\\n",
       "id                                                                          \n",
       "1   0.121478   tcp       -   FIN      6      4     258     172  74.087490   \n",
       "2   0.649902   tcp       -   FIN     14     38     734   42014  78.473372   \n",
       "3   1.623129   tcp       -   FIN      8     16     364   13186  14.170161   \n",
       "4   1.681642   tcp     ftp   FIN     12     12     628     770  13.677108   \n",
       "5   0.449454   tcp       -   FIN     10      6     534     268  33.373826   \n",
       "\n",
       "    sttl  ...    ct_dst_sport_ltm  ct_dst_src_ltm  is_ftp_login  ct_ftp_cmd  \\\n",
       "id        ...                                                                 \n",
       "1    252  ...                   1               1             0           0   \n",
       "2     62  ...                   1               2             0           0   \n",
       "3     62  ...                   1               3             0           0   \n",
       "4     62  ...                   1               3             1           1   \n",
       "5    254  ...                   1              40             0           0   \n",
       "\n",
       "    ct_flw_http_mthd  ct_src_ltm  ct_srv_dst  is_sm_ips_ports  attack_cat  \\\n",
       "id                                                                          \n",
       "1                  0           1           1                0      Normal   \n",
       "2                  0           1           6                0      Normal   \n",
       "3                  0           2           6                0      Normal   \n",
       "4                  0           2           1                0      Normal   \n",
       "5                  0           2          39                0      Normal   \n",
       "\n",
       "    label  \n",
       "id         \n",
       "1       0  \n",
       "2       0  \n",
       "3       0  \n",
       "4       0  \n",
       "5       0  \n",
       "\n",
       "[5 rows x 44 columns]"
      ]
     },
     "execution_count": 6,
     "metadata": {},
     "output_type": "execute_result"
    }
   ],
   "source": [
    "# Read in and preview training set csv data\n",
    "data = pd.read_csv('./data/UNSW_NB15_train_set.csv', header=0, index_col=0)\n",
    "data.head()"
   ]
  },
  {
   "cell_type": "code",
   "execution_count": 7,
   "metadata": {},
   "outputs": [
    {
     "data": {
      "text/plain": [
       "Index(['dur', 'proto', 'service', 'state', 'spkts', 'dpkts', 'sbytes',\n",
       "       'dbytes', 'rate', 'sttl', 'dttl', 'sload', 'dload', 'sloss', 'dloss',\n",
       "       'sinpkt', 'dinpkt', 'sjit', 'djit', 'swin', 'stcpb', 'dtcpb', 'dwin',\n",
       "       'tcprtt', 'synack', 'ackdat', 'smean', 'dmean', 'trans_depth',\n",
       "       'response_body_len', 'ct_srv_src', 'ct_state_ttl', 'ct_dst_ltm',\n",
       "       'ct_src_dport_ltm', 'ct_dst_sport_ltm', 'ct_dst_src_ltm',\n",
       "       'is_ftp_login', 'ct_ftp_cmd', 'ct_flw_http_mthd', 'ct_src_ltm',\n",
       "       'ct_srv_dst', 'is_sm_ips_ports', 'attack_cat', 'label'],\n",
       "      dtype='object')"
      ]
     },
     "execution_count": 7,
     "metadata": {},
     "output_type": "execute_result"
    }
   ],
   "source": [
    "# Look at available columns. Descriptions can be found in the file UNSW-NB15_features.csv\n",
    "data.columns"
   ]
  },
  {
   "cell_type": "markdown",
   "metadata": {},
   "source": [
    "Note that IP address and port numbers are not included in the data set, and that we've used the id column as an index. Pre-dropped columns:\n",
    "* id\n",
    "* srcip\n",
    "* sport\n",
    "* dstip\n",
    "* dsport  \n",
    "\n",
    "This brings us to 42 data columns that we'll have to use as features and 2 columns to use as target values, depending on whether I want to tackle a binary or multiclass classification problem."
   ]
  },
  {
   "cell_type": "code",
   "execution_count": 8,
   "metadata": {},
   "outputs": [
    {
     "name": "stdout",
     "output_type": "stream",
     "text": [
      "175341\n"
     ]
    }
   ],
   "source": [
    "# Total number of observations\n",
    "n_obs = data.shape[0]\n",
    "print(n_obs)"
   ]
  },
  {
   "cell_type": "code",
   "execution_count": 9,
   "metadata": {},
   "outputs": [
    {
     "data": {
      "text/plain": [
       "0"
      ]
     },
     "execution_count": 9,
     "metadata": {},
     "output_type": "execute_result"
    }
   ],
   "source": [
    "# Check the amount of invalid (NaN) data\n",
    "data.isnull().sum().sum()"
   ]
  },
  {
   "cell_type": "code",
   "execution_count": 10,
   "metadata": {},
   "outputs": [
    {
     "data": {
      "text/plain": [
       "array(['Normal', 'Backdoor', 'Analysis', 'Fuzzers', 'Shellcode',\n",
       "       'Reconnaissance', 'Exploits', 'DoS', 'Worms', 'Generic'],\n",
       "      dtype=object)"
      ]
     },
     "execution_count": 10,
     "metadata": {},
     "output_type": "execute_result"
    }
   ],
   "source": [
    "# Get the types of attacks available in the dataset\n",
    "data.attack_cat.unique()"
   ]
  },
  {
   "cell_type": "markdown",
   "metadata": {},
   "source": [
    "The pre-provided datasets are actually more suited to classification approaches rather than anomaly detection. From below, there are actually more attack instances than normal data in the provided training set."
   ]
  },
  {
   "cell_type": "code",
   "execution_count": 11,
   "metadata": {},
   "outputs": [
    {
     "name": "stdout",
     "output_type": "stream",
     "text": [
      "No. of attacks: 119341\n",
      "No. of normal:  56000\n"
     ]
    }
   ],
   "source": [
    "# Determine number of attack and normal data instances in the dataset\n",
    "mask = data.label == 1\n",
    "print(\"No. of attacks:\", data[mask].label.size)\n",
    "print(\"No. of normal: \", data[~mask].label.size)"
   ]
  },
  {
   "cell_type": "markdown",
   "metadata": {},
   "source": [
    "Using the correlation matrix to have a quick look at which features correlate with an attack label."
   ]
  },
  {
   "cell_type": "code",
   "execution_count": 12,
   "metadata": {},
   "outputs": [
    {
     "data": {
      "text/plain": [
       "label                1.000000\n",
       "sttl                 0.692741\n",
       "ct_state_ttl         0.577704\n",
       "ct_dst_sport_ltm     0.357213\n",
       "rate                 0.337979\n",
       "ct_src_dport_ltm     0.305579\n",
       "ct_dst_src_ltm       0.303855\n",
       "ct_src_ltm           0.238225\n",
       "ct_dst_ltm           0.229887\n",
       "ct_srv_src           0.229044\n",
       "ct_srv_dst           0.228046\n",
       "sload                0.182870\n",
       "ackdat               0.097364\n",
       "dttl                 0.095049\n",
       "tcprtt               0.081584\n",
       "synack               0.058299\n",
       "dur                  0.036175\n",
       "sbytes               0.018576\n",
       "ct_flw_http_mthd     0.015800\n",
       "trans_depth          0.010801\n",
       "sloss               -0.000640\n",
       "sjit                -0.007069\n",
       "smean               -0.010798\n",
       "ct_ftp_cmd          -0.011055\n",
       "is_ftp_login        -0.011055\n",
       "response_body_len   -0.021361\n",
       "dinpkt              -0.022887\n",
       "spkts               -0.052178\n",
       "djit                -0.060870\n",
       "dbytes              -0.076871\n",
       "dloss               -0.094685\n",
       "dpkts               -0.118591\n",
       "sinpkt              -0.176110\n",
       "is_sm_ips_ports     -0.184679\n",
       "dtcpb               -0.250340\n",
       "stcpb               -0.255006\n",
       "dwin                -0.319626\n",
       "swin                -0.333633\n",
       "dmean               -0.341806\n",
       "dload               -0.393739\n",
       "Name: label, dtype: float64"
      ]
     },
     "execution_count": 12,
     "metadata": {},
     "output_type": "execute_result"
    }
   ],
   "source": [
    "data.corr()['label'].sort_values(ascending=False)"
   ]
  },
  {
   "cell_type": "code",
   "execution_count": 13,
   "metadata": {},
   "outputs": [
    {
     "name": "stdout",
     "output_type": "stream",
     "text": [
      "dur 74039\n",
      "proto 133\n",
      "service 13\n",
      "state 9\n",
      "spkts 480\n",
      "dpkts 443\n",
      "sbytes 7214\n",
      "dbytes 6660\n",
      "rate 76991\n",
      "sttl 11\n",
      "dttl 6\n",
      "sload 80885\n",
      "dload 77474\n",
      "sloss 409\n",
      "dloss 370\n",
      "sinpkt 76161\n",
      "dinpkt 74245\n",
      "sjit 77532\n",
      "djit 76831\n",
      "swin 13\n",
      "stcpb 75265\n",
      "dtcpb 75089\n",
      "dwin 7\n",
      "tcprtt 43319\n",
      "synack 40142\n",
      "ackdat 37708\n",
      "smean 1357\n",
      "dmean 1328\n",
      "trans_depth 11\n",
      "response_body_len 2386\n",
      "ct_srv_src 52\n",
      "ct_state_ttl 5\n",
      "ct_dst_ltm 50\n",
      "ct_src_dport_ltm 47\n",
      "ct_dst_sport_ltm 32\n",
      "ct_dst_src_ltm 54\n",
      "is_ftp_login 4\n",
      "ct_ftp_cmd 4\n",
      "ct_flw_http_mthd 11\n",
      "ct_src_ltm 50\n",
      "ct_srv_dst 52\n",
      "is_sm_ips_ports 2\n",
      "attack_cat 10\n",
      "label 2\n"
     ]
    }
   ],
   "source": [
    "# Determining unique values for each row.\n",
    "# This dataset contains a mixture of categorical, continuous, and ordinal features that I'll have to examine.\n",
    "for col in data.columns:\n",
    "    print(col, len(data[col].unique()))"
   ]
  },
  {
   "cell_type": "code",
   "execution_count": 14,
   "metadata": {},
   "outputs": [
    {
     "data": {
      "text/plain": [
       "0    172774\n",
       "1      2545\n",
       "4        16\n",
       "2         6\n",
       "Name: is_ftp_login, dtype: int64"
      ]
     },
     "execution_count": 14,
     "metadata": {},
     "output_type": "execute_result"
    }
   ],
   "source": [
    "# Columns will need to be inspected to confirm that values correspond to the correct range.\n",
    "# For example, the feature `is_ftp_login` should be binary but has values > 1\n",
    "data.is_ftp_login.value_counts()"
   ]
  },
  {
   "cell_type": "markdown",
   "metadata": {},
   "source": [
    "The categorical features I'm concerned with below are `proto`, `state`, and `service`. They govern the type of connection and requests for a given observation. I'm planning on doing some initial modeling with only the numeric features as a baseline, but these context features may be useful for identifying certain connection types that are characteristic of attacks."
   ]
  },
  {
   "cell_type": "code",
   "execution_count": 25,
   "metadata": {},
   "outputs": [
    {
     "data": {
      "text/plain": [
       "tcp       79946\n",
       "udp       63283\n",
       "unas      12084\n",
       "arp        2859\n",
       "ospf       2595\n",
       "sctp       1150\n",
       "any         300\n",
       "gre         225\n",
       "mobile      201\n",
       "ipv6        201\n",
       "Name: proto, dtype: int64"
      ]
     },
     "execution_count": 25,
     "metadata": {},
     "output_type": "execute_result"
    }
   ],
   "source": [
    "# There are 133 unique protocols in the dataset.\n",
    "# May be worth reducing this column to 3-5 values for more concise encoding (without adding 132 features)\n",
    "data.proto.value_counts().head(10)"
   ]
  },
  {
   "cell_type": "code",
   "execution_count": 16,
   "metadata": {},
   "outputs": [
    {
     "data": {
      "text/plain": [
       "INT    82275\n",
       "FIN    77825\n",
       "CON    13152\n",
       "REQ     1991\n",
       "RST       83\n",
       "ECO       12\n",
       "no         1\n",
       "PAR        1\n",
       "URN        1\n",
       "Name: state, dtype: int64"
      ]
     },
     "execution_count": 16,
     "metadata": {},
     "output_type": "execute_result"
    }
   ],
   "source": [
    "# Inspect unique values for 'state' feature\n",
    "data.state.value_counts()"
   ]
  },
  {
   "cell_type": "code",
   "execution_count": 18,
   "metadata": {},
   "outputs": [
    {
     "data": {
      "text/plain": [
       "-           94168\n",
       "dns         47294\n",
       "http        18724\n",
       "smtp         5058\n",
       "ftp-data     3995\n",
       "ftp          3428\n",
       "ssh          1302\n",
       "pop3         1105\n",
       "dhcp           94\n",
       "snmp           80\n",
       "ssl            56\n",
       "irc            25\n",
       "radius         12\n",
       "Name: service, dtype: int64"
      ]
     },
     "execution_count": 18,
     "metadata": {},
     "output_type": "execute_result"
    }
   ],
   "source": [
    "# Inspect unique values for 'service' feature\n",
    "data.service.value_counts()"
   ]
  },
  {
   "cell_type": "code",
   "execution_count": 19,
   "metadata": {},
   "outputs": [
    {
     "data": {
      "text/plain": [
       "array([252,  62, 254,   0,   1,  31,  63,  64,  60,  29, 255])"
      ]
     },
     "execution_count": 19,
     "metadata": {},
     "output_type": "execute_result"
    }
   ],
   "source": [
    "# Source Time To Live (sttl) is an example of one of the ordinal features.\n",
    "# The greater the value, the more routers the information can pass through.\n",
    "data.sttl.unique()"
   ]
  },
  {
   "cell_type": "markdown",
   "metadata": {},
   "source": [
    "# Full Dataset EDA\n",
    "Currently, the test and training set partitions are very balanced. I'm taking a look at the full dataset to explore the actual class balance and get a feel for the features and what they mean. Once preliminary feature engineering and model selection has been finished, I think that the model should then be trained on the full dataset. Given my computer's hardware and the time frame for accomplishing my project, locally tuning models using even 80% of the full dataset is not recommended.\n",
    "\n",
    "This dataset is created by reading in 4 large (100+ mb) CSV files and agglomerating them in a single dataframe. Through some preliminary work I've identified discrepancies for a few features where 0 values were sometimes left blank. Those discrepancies are reflected in the column transformations in the blocks below.  \n",
    "\n",
    "I've also reduced the categorical features into one of either 3-5 values depending on the column. Many of the values are rare enough without showing any correlation with the attack class that I've grouped many of them under \"other.\" This did occur to me here, however I have to credit [this paper](https://pdfs.semanticscholar.org/a403/951e44231dc55f752f61e10b01e4fb9a1189.pdf) for demonstrating this categorical streamlining in practice.  \n",
    "\n",
    "The following block of code is the inspiration for the `load_agg_data` and `load_agg_Xy` function in the `data_prep.py` file that allow me to quickly prepare the dataset for modeling. "
   ]
  },
  {
   "cell_type": "code",
   "execution_count": 20,
   "metadata": {},
   "outputs": [
    {
     "name": "stderr",
     "output_type": "stream",
     "text": [
      "/anaconda3/lib/python3.6/site-packages/IPython/core/interactiveshell.py:3018: DtypeWarning: Columns (1,3,47) have mixed types. Specify dtype option on import or set low_memory=False.\n",
      "  interactivity=interactivity, compiler=compiler, result=result)\n",
      "/anaconda3/lib/python3.6/site-packages/IPython/core/interactiveshell.py:3018: DtypeWarning: Columns (3,39,47) have mixed types. Specify dtype option on import or set low_memory=False.\n",
      "  interactivity=interactivity, compiler=compiler, result=result)\n"
     ]
    },
    {
     "data": {
      "text/plain": [
       "(2540047, 49)"
      ]
     },
     "execution_count": 20,
     "metadata": {},
     "output_type": "execute_result"
    }
   ],
   "source": [
    "dfs = []\n",
    "for i in range(1,5):\n",
    "    path = './data/UNSW-NB15_{}.csv'\n",
    "    dfs.append(pd.read_csv(path.format(i), header = None))\n",
    "all_data = pd.concat(dfs).reset_index(drop=True)\n",
    "## Grab feature names from related csv of feature descriptions\n",
    "all_data.columns = pd.read_csv('./data/UNSW-NB15_features.csv').Name.apply(lambda x: x.lower())\n",
    "\n",
    "\n",
    "## Column cleaning steps: some of the CSV's leave the point blank for zero values.\n",
    "## This results in Pandas loading in NaN values in columns where it otherwise expects numeric values. \n",
    "# Fill all NaN attack categories w/ value: 'normal'\n",
    "all_data['attack_cat'] = all_data.attack_cat.fillna(value='normal').apply(lambda x: x.strip().lower())\n",
    "# Replace blank spaces with zero\n",
    "all_data['ct_ftp_cmd'] = all_data.ct_ftp_cmd.replace(to_replace=' ', value=0).astype(int)\n",
    "# Replace NaN with zero\n",
    "all_data['ct_flw_http_mthd'] = all_data.ct_flw_http_mthd.fillna(value=0)\n",
    "# Replace NaN with zero and all values > 0 with 1\n",
    "all_data['is_ftp_login'] = (all_data.is_ftp_login.fillna(value=0) >0).astype(int)\n",
    "\n",
    "## Reduce categorical features into smaller sets:\n",
    "## Ex: 135 unique values in `proto` become \"tcp\", \"udp\", \"arp\", \"unas\", and \"other\"\n",
    "transformations = {\n",
    "    'proto':['tcp', 'udp', 'arp', 'unas'],\n",
    "    'state':['fin', 'con', 'int'],\n",
    "    'service':['-', 'dns']\n",
    "}\n",
    "for col, keepers in transformations.items():\n",
    "    all_data[col] = all_data[col].apply(reduce_column, args=(keepers,))\n",
    "\n",
    "all_data.shape"
   ]
  },
  {
   "cell_type": "code",
   "execution_count": 21,
   "metadata": {},
   "outputs": [
    {
     "name": "stdout",
     "output_type": "stream",
     "text": [
      "<class 'pandas.core.frame.DataFrame'>\n",
      "RangeIndex: 2540047 entries, 0 to 2540046\n",
      "Data columns (total 49 columns):\n",
      "srcip               object\n",
      "sport               object\n",
      "dstip               object\n",
      "dsport              object\n",
      "proto               object\n",
      "state               object\n",
      "dur                 float64\n",
      "sbytes              int64\n",
      "dbytes              int64\n",
      "sttl                int64\n",
      "dttl                int64\n",
      "sloss               int64\n",
      "dloss               int64\n",
      "service             object\n",
      "sload               float64\n",
      "dload               float64\n",
      "spkts               int64\n",
      "dpkts               int64\n",
      "swin                int64\n",
      "dwin                int64\n",
      "stcpb               int64\n",
      "dtcpb               int64\n",
      "smeansz             int64\n",
      "dmeansz             int64\n",
      "trans_depth         int64\n",
      "res_bdy_len         int64\n",
      "sjit                float64\n",
      "djit                float64\n",
      "stime               int64\n",
      "ltime               int64\n",
      "sintpkt             float64\n",
      "dintpkt             float64\n",
      "tcprtt              float64\n",
      "synack              float64\n",
      "ackdat              float64\n",
      "is_sm_ips_ports     int64\n",
      "ct_state_ttl        int64\n",
      "ct_flw_http_mthd    float64\n",
      "is_ftp_login        int64\n",
      "ct_ftp_cmd          int64\n",
      "ct_srv_src          int64\n",
      "ct_srv_dst          int64\n",
      "ct_dst_ltm          int64\n",
      "ct_src_ltm          int64\n",
      "ct_src_dport_ltm    int64\n",
      "ct_dst_sport_ltm    int64\n",
      "ct_dst_src_ltm      int64\n",
      "attack_cat          object\n",
      "label               int64\n",
      "dtypes: float64(11), int64(30), object(8)\n",
      "memory usage: 949.6+ MB\n"
     ]
    }
   ],
   "source": [
    "all_data.info()"
   ]
  },
  {
   "cell_type": "code",
   "execution_count": 22,
   "metadata": {},
   "outputs": [
    {
     "data": {
      "text/plain": [
       "0.12648702957071267"
      ]
     },
     "execution_count": 22,
     "metadata": {},
     "output_type": "execute_result"
    }
   ],
   "source": [
    "# Fraction of connections that are attacks: roughly 12.6%\n",
    "np.sum(all_data.label == 1)/all_data.shape[0]"
   ]
  },
  {
   "cell_type": "code",
   "execution_count": 23,
   "metadata": {},
   "outputs": [
    {
     "data": {
      "text/plain": [
       "0"
      ]
     },
     "execution_count": 23,
     "metadata": {},
     "output_type": "execute_result"
    }
   ],
   "source": [
    "# Confirm missing data has been addressed in processes above\n",
    "all_data.isnull().sum().sum()"
   ]
  },
  {
   "cell_type": "code",
   "execution_count": 24,
   "metadata": {},
   "outputs": [
    {
     "name": "stdout",
     "output_type": "stream",
     "text": [
      "No. of common columns: 38\n",
      "{'response_body_len', 'rate', 'dinpkt', 'dmean', 'smean', 'sinpkt'}\n",
      "{'dsport', 'srcip', 'dmeansz', 'dintpkt', 'ltime', 'stime', 'sintpkt', 'sport', 'smeansz', 'dstip', 'res_bdy_len'}\n"
     ]
    }
   ],
   "source": [
    "# Compare columns in larger csv files w/ those in partitioned training and test sets\n",
    "full_cols = set(all_data.columns)\n",
    "train_cols = set(data.columns)\n",
    "\n",
    "# Number of columns the two datasets have in common:\n",
    "print('No. of common columns:', len(train_cols.intersection(full_cols)))\n",
    "\n",
    "#Columns in training data not in raw CSV's\n",
    "print(train_cols - full_cols)\n",
    "\n",
    "# Columns in raw CSV's not in training data\n",
    "print(full_cols - train_cols)"
   ]
  },
  {
   "cell_type": "code",
   "execution_count": 26,
   "metadata": {},
   "outputs": [
    {
     "data": {
      "text/plain": [
       "Name\n",
       "label               1.000000\n",
       "sttl                0.904393\n",
       "ct_state_ttl        0.873694\n",
       "ct_dst_src_ltm      0.439916\n",
       "ct_dst_sport_ltm    0.419056\n",
       "ct_src_dport_ltm    0.396749\n",
       "ct_srv_dst          0.386509\n",
       "ct_srv_src          0.383007\n",
       "ct_src_ltm          0.343246\n",
       "ct_dst_ltm          0.339464\n",
       "ltime               0.275660\n",
       "stime               0.275660\n",
       "sload               0.192278\n",
       "ackdat              0.143443\n",
       "tcprtt              0.143109\n",
       "dttl                0.134947\n",
       "synack              0.122253\n",
       "sjit                0.020959\n",
       "sbytes              0.010180\n",
       "dur                 0.001959\n",
       "dintpkt            -0.010632\n",
       "is_sm_ips_ports    -0.015477\n",
       "sintpkt            -0.019034\n",
       "ct_flw_http_mthd   -0.026561\n",
       "res_bdy_len        -0.027339\n",
       "trans_depth        -0.029041\n",
       "ct_ftp_cmd         -0.029654\n",
       "is_ftp_login       -0.032642\n",
       "sloss              -0.043272\n",
       "djit               -0.054420\n",
       "smeansz            -0.065363\n",
       "dbytes             -0.075543\n",
       "dloss              -0.095855\n",
       "dpkts              -0.115947\n",
       "spkts              -0.120880\n",
       "dload              -0.219710\n",
       "stcpb              -0.233422\n",
       "dtcpb              -0.233513\n",
       "dmeansz            -0.272397\n",
       "dwin               -0.313920\n",
       "swin               -0.315108\n",
       "Name: label, dtype: float64"
      ]
     },
     "execution_count": 26,
     "metadata": {},
     "output_type": "execute_result"
    }
   ],
   "source": [
    "# Correlation for features in the full dataset.\n",
    "# I'm seeing similar features to the limited dataset correlation matrix, but the trend is stronger here.\n",
    "all_data.corr()['label'].sort_values(ascending=False)"
   ]
  },
  {
   "cell_type": "markdown",
   "metadata": {},
   "source": [
    "The block below is a collection of functions I used to inspect the columns to get a feel for each feature's range of unique values, distribution, and their tendency to be associated with attacks or not."
   ]
  },
  {
   "cell_type": "code",
   "execution_count": 27,
   "metadata": {},
   "outputs": [],
   "source": [
    "## Column inspection blocks used to inspect the values in each row (uncomment as needed):\n",
    "\n",
    "## Determine the distribution and value ranges for a given column\n",
    "#col = 'ackdat'\n",
    "#all_data[col].describe(), all_data[col].value_counts(dropna=False), all_data[col].hist(bins=20)\n",
    "\n",
    "## Determine how specific values in a column correspond to attack or normal data labels\n",
    "#all_data[all_data.sttl == 254].label.value_counts(sort=False)\n",
    "\n",
    "## Convert the above call into a ratio\n",
    "#counts = all_data[all_data.is_sm_ips_ports == 0].label.value_counts(sort=False)\n",
    "#counts[1]/np.sum(counts) #attack ratio: standard for whole dataset is 0.126..."
   ]
  },
  {
   "cell_type": "markdown",
   "metadata": {},
   "source": [
    "## What is the 'Rate' column?\n",
    "The column comparisons between the two datasets reveal differences in column names due to spelling or dropping of IP, port, and connection time data. They also identify a column `rate` in the provided training set that is not in the raw CSV files.\n",
    "\n",
    "In the blocks below I take the first row in the training set and find it again in the full dataset to see if `rate` corresponds to anything in that dataset. It doesn't appear to do so, but the feature should be scaled along with the rest of the numeric features. More research on this dataset online may yeild the answer."
   ]
  },
  {
   "cell_type": "code",
   "execution_count": 28,
   "metadata": {},
   "outputs": [
    {
     "data": {
      "text/html": [
       "<div>\n",
       "<style scoped>\n",
       "    .dataframe tbody tr th:only-of-type {\n",
       "        vertical-align: middle;\n",
       "    }\n",
       "\n",
       "    .dataframe tbody tr th {\n",
       "        vertical-align: top;\n",
       "    }\n",
       "\n",
       "    .dataframe thead th {\n",
       "        text-align: right;\n",
       "    }\n",
       "</style>\n",
       "<table border=\"1\" class=\"dataframe\">\n",
       "  <thead>\n",
       "    <tr style=\"text-align: right;\">\n",
       "      <th></th>\n",
       "      <th>dur</th>\n",
       "      <th>proto</th>\n",
       "      <th>service</th>\n",
       "      <th>state</th>\n",
       "      <th>spkts</th>\n",
       "      <th>dpkts</th>\n",
       "      <th>sbytes</th>\n",
       "      <th>dbytes</th>\n",
       "      <th>rate</th>\n",
       "      <th>sttl</th>\n",
       "      <th>...</th>\n",
       "      <th>ct_dst_sport_ltm</th>\n",
       "      <th>ct_dst_src_ltm</th>\n",
       "      <th>is_ftp_login</th>\n",
       "      <th>ct_ftp_cmd</th>\n",
       "      <th>ct_flw_http_mthd</th>\n",
       "      <th>ct_src_ltm</th>\n",
       "      <th>ct_srv_dst</th>\n",
       "      <th>is_sm_ips_ports</th>\n",
       "      <th>attack_cat</th>\n",
       "      <th>label</th>\n",
       "    </tr>\n",
       "    <tr>\n",
       "      <th>id</th>\n",
       "      <th></th>\n",
       "      <th></th>\n",
       "      <th></th>\n",
       "      <th></th>\n",
       "      <th></th>\n",
       "      <th></th>\n",
       "      <th></th>\n",
       "      <th></th>\n",
       "      <th></th>\n",
       "      <th></th>\n",
       "      <th></th>\n",
       "      <th></th>\n",
       "      <th></th>\n",
       "      <th></th>\n",
       "      <th></th>\n",
       "      <th></th>\n",
       "      <th></th>\n",
       "      <th></th>\n",
       "      <th></th>\n",
       "      <th></th>\n",
       "      <th></th>\n",
       "    </tr>\n",
       "  </thead>\n",
       "  <tbody>\n",
       "    <tr>\n",
       "      <th>1</th>\n",
       "      <td>0.121478</td>\n",
       "      <td>tcp</td>\n",
       "      <td>-</td>\n",
       "      <td>FIN</td>\n",
       "      <td>6</td>\n",
       "      <td>4</td>\n",
       "      <td>258</td>\n",
       "      <td>172</td>\n",
       "      <td>74.08749</td>\n",
       "      <td>252</td>\n",
       "      <td>...</td>\n",
       "      <td>1</td>\n",
       "      <td>1</td>\n",
       "      <td>0</td>\n",
       "      <td>0</td>\n",
       "      <td>0</td>\n",
       "      <td>1</td>\n",
       "      <td>1</td>\n",
       "      <td>0</td>\n",
       "      <td>Normal</td>\n",
       "      <td>0</td>\n",
       "    </tr>\n",
       "  </tbody>\n",
       "</table>\n",
       "<p>1 rows × 44 columns</p>\n",
       "</div>"
      ],
      "text/plain": [
       "         dur proto service state  spkts  dpkts  sbytes  dbytes      rate  \\\n",
       "id                                                                         \n",
       "1   0.121478   tcp       -   FIN      6      4     258     172  74.08749   \n",
       "\n",
       "    sttl  ...    ct_dst_sport_ltm  ct_dst_src_ltm  is_ftp_login  ct_ftp_cmd  \\\n",
       "id        ...                                                                 \n",
       "1    252  ...                   1               1             0           0   \n",
       "\n",
       "    ct_flw_http_mthd  ct_src_ltm  ct_srv_dst  is_sm_ips_ports  attack_cat  \\\n",
       "id                                                                          \n",
       "1                  0           1           1                0      Normal   \n",
       "\n",
       "    label  \n",
       "id         \n",
       "1       0  \n",
       "\n",
       "[1 rows x 44 columns]"
      ]
     },
     "execution_count": 28,
     "metadata": {},
     "output_type": "execute_result"
    }
   ],
   "source": [
    "# Get first observation in training set\n",
    "data.head(1)"
   ]
  },
  {
   "cell_type": "code",
   "execution_count": 29,
   "metadata": {},
   "outputs": [
    {
     "data": {
      "text/html": [
       "<div>\n",
       "<style scoped>\n",
       "    .dataframe tbody tr th:only-of-type {\n",
       "        vertical-align: middle;\n",
       "    }\n",
       "\n",
       "    .dataframe tbody tr th {\n",
       "        vertical-align: top;\n",
       "    }\n",
       "\n",
       "    .dataframe thead th {\n",
       "        text-align: right;\n",
       "    }\n",
       "</style>\n",
       "<table border=\"1\" class=\"dataframe\">\n",
       "  <thead>\n",
       "    <tr style=\"text-align: right;\">\n",
       "      <th>Name</th>\n",
       "      <th>srcip</th>\n",
       "      <th>sport</th>\n",
       "      <th>dstip</th>\n",
       "      <th>dsport</th>\n",
       "      <th>proto</th>\n",
       "      <th>state</th>\n",
       "      <th>dur</th>\n",
       "      <th>sbytes</th>\n",
       "      <th>dbytes</th>\n",
       "      <th>sttl</th>\n",
       "      <th>...</th>\n",
       "      <th>ct_ftp_cmd</th>\n",
       "      <th>ct_srv_src</th>\n",
       "      <th>ct_srv_dst</th>\n",
       "      <th>ct_dst_ltm</th>\n",
       "      <th>ct_src_ltm</th>\n",
       "      <th>ct_src_dport_ltm</th>\n",
       "      <th>ct_dst_sport_ltm</th>\n",
       "      <th>ct_dst_src_ltm</th>\n",
       "      <th>attack_cat</th>\n",
       "      <th>label</th>\n",
       "    </tr>\n",
       "  </thead>\n",
       "  <tbody>\n",
       "    <tr>\n",
       "      <th>1087203</th>\n",
       "      <td>149.171.126.14</td>\n",
       "      <td>179</td>\n",
       "      <td>175.45.176.3</td>\n",
       "      <td>33159</td>\n",
       "      <td>tcp</td>\n",
       "      <td>fin</td>\n",
       "      <td>0.121478</td>\n",
       "      <td>258</td>\n",
       "      <td>172</td>\n",
       "      <td>252</td>\n",
       "      <td>...</td>\n",
       "      <td>0</td>\n",
       "      <td>1</td>\n",
       "      <td>1</td>\n",
       "      <td>1</td>\n",
       "      <td>1</td>\n",
       "      <td>1</td>\n",
       "      <td>1</td>\n",
       "      <td>1</td>\n",
       "      <td>normal</td>\n",
       "      <td>0</td>\n",
       "    </tr>\n",
       "  </tbody>\n",
       "</table>\n",
       "<p>1 rows × 49 columns</p>\n",
       "</div>"
      ],
      "text/plain": [
       "Name              srcip sport         dstip dsport proto state       dur  \\\n",
       "1087203  149.171.126.14   179  175.45.176.3  33159   tcp   fin  0.121478   \n",
       "\n",
       "Name     sbytes  dbytes  sttl  ...    ct_ftp_cmd  ct_srv_src  ct_srv_dst  \\\n",
       "1087203     258     172   252  ...             0           1           1   \n",
       "\n",
       "Name    ct_dst_ltm  ct_src_ltm  ct_src_dport_ltm  ct_dst_sport_ltm  \\\n",
       "1087203          1           1                 1                 1   \n",
       "\n",
       "Name     ct_dst_src_ltm  attack_cat  label  \n",
       "1087203               1      normal      0  \n",
       "\n",
       "[1 rows x 49 columns]"
      ]
     },
     "execution_count": 29,
     "metadata": {},
     "output_type": "execute_result"
    }
   ],
   "source": [
    "## Look at that observation as seen in the raw CSV files.\n",
    "## Can we identify rate as a combination of existing features?\n",
    "mask = (all_data.spkts == 6) & (all_data.dbytes==172) & (all_data.dur == 0.121478)\n",
    "all_data[mask]"
   ]
  },
  {
   "cell_type": "markdown",
   "metadata": {},
   "source": [
    "# One - Hot Encoding\n",
    "Categorical features should make it into the model, but first should be narrowed to a select few values. For example, the variable `proto` identifies the connection protocol used. There are 135 different protocols in the dataset of 2.5M connections, but only 6 of the protocols occur more than a thousand times. Of those top 6, `tcp` accounts for just under 1.5M connections (~59%) and `udp` for another 990k (~39%).  \n",
    "\n",
    "Going off the heuristic that more features leads to more model complexity and associated over-fitting challenges, it would be unwise to blindly one-hot-encode this and all other categorical features. If I were training a neural network it might be acceptable, but that's not the case for this project.  \n",
    "\n",
    "I performed some EDA where I looked at what proprotion of observations with a given categorical feature were anomalies or normal data. From those observations, I think I can reduce the categories for most categorical variables down to 3 or 4 values. For example, `proto` can be reduced to `tcp`, `udp`, `unas`, `arp`, and `other`. Other papers have proposed even fewer: `tcp`, `udp`, and `other`. I've opted to keep `unas` and `arp` because they are almost entirely all attack observations and I want to have that powerful of a contextual feature available.\n",
    "\n",
    "**Note that features are arranged in alphabetical order after being encoded.** Using the above example, the output of a OHE would be an array with five columns, each column corresponding to `arp`, `other`, `tcp`, `udp`, `unas`, respectively."
   ]
  },
  {
   "cell_type": "code",
   "execution_count": 32,
   "metadata": {},
   "outputs": [],
   "source": [
    "# Create encoder instance that returns an array. Visualize effect using Pandas DataFrame\n",
    "ohe = OneHotEncoder(sparse=False)"
   ]
  },
  {
   "cell_type": "code",
   "execution_count": 33,
   "metadata": {},
   "outputs": [
    {
     "data": {
      "text/html": [
       "<div>\n",
       "<style scoped>\n",
       "    .dataframe tbody tr th:only-of-type {\n",
       "        vertical-align: middle;\n",
       "    }\n",
       "\n",
       "    .dataframe tbody tr th {\n",
       "        vertical-align: top;\n",
       "    }\n",
       "\n",
       "    .dataframe thead th {\n",
       "        text-align: right;\n",
       "    }\n",
       "</style>\n",
       "<table border=\"1\" class=\"dataframe\">\n",
       "  <thead>\n",
       "    <tr style=\"text-align: right;\">\n",
       "      <th></th>\n",
       "      <th>x0_arp</th>\n",
       "      <th>x0_other</th>\n",
       "      <th>x0_tcp</th>\n",
       "      <th>x0_udp</th>\n",
       "      <th>x0_unas</th>\n",
       "    </tr>\n",
       "  </thead>\n",
       "  <tbody>\n",
       "    <tr>\n",
       "      <th>0</th>\n",
       "      <td>0.0</td>\n",
       "      <td>0.0</td>\n",
       "      <td>0.0</td>\n",
       "      <td>1.0</td>\n",
       "      <td>0.0</td>\n",
       "    </tr>\n",
       "    <tr>\n",
       "      <th>1</th>\n",
       "      <td>0.0</td>\n",
       "      <td>0.0</td>\n",
       "      <td>0.0</td>\n",
       "      <td>1.0</td>\n",
       "      <td>0.0</td>\n",
       "    </tr>\n",
       "    <tr>\n",
       "      <th>2</th>\n",
       "      <td>0.0</td>\n",
       "      <td>0.0</td>\n",
       "      <td>0.0</td>\n",
       "      <td>1.0</td>\n",
       "      <td>0.0</td>\n",
       "    </tr>\n",
       "    <tr>\n",
       "      <th>3</th>\n",
       "      <td>0.0</td>\n",
       "      <td>0.0</td>\n",
       "      <td>0.0</td>\n",
       "      <td>1.0</td>\n",
       "      <td>0.0</td>\n",
       "    </tr>\n",
       "    <tr>\n",
       "      <th>4</th>\n",
       "      <td>0.0</td>\n",
       "      <td>0.0</td>\n",
       "      <td>0.0</td>\n",
       "      <td>1.0</td>\n",
       "      <td>0.0</td>\n",
       "    </tr>\n",
       "  </tbody>\n",
       "</table>\n",
       "</div>"
      ],
      "text/plain": [
       "   x0_arp  x0_other  x0_tcp  x0_udp  x0_unas\n",
       "0     0.0       0.0     0.0     1.0      0.0\n",
       "1     0.0       0.0     0.0     1.0      0.0\n",
       "2     0.0       0.0     0.0     1.0      0.0\n",
       "3     0.0       0.0     0.0     1.0      0.0\n",
       "4     0.0       0.0     0.0     1.0      0.0"
      ]
     },
     "execution_count": 33,
     "metadata": {},
     "output_type": "execute_result"
    }
   ],
   "source": [
    "# Test OneHotEncoder on the proto column.\n",
    "# Will need to get a \"leave-one-out\" encoder for linear models\n",
    "test_proto = pd.DataFrame(ohe.fit_transform(pd.DataFrame(all_data.proto)))\n",
    "test_proto.columns = ohe.get_feature_names()\n",
    "test_proto.head()"
   ]
  },
  {
   "cell_type": "markdown",
   "metadata": {},
   "source": [
    "# Column-Specific Transformations Experimentation\n",
    "\n",
    "When data is transformed in the pipeline, the original column is removed and the new data is added to the front row of the existing data structure (array or sparse matrix). The columns are transformed in the order specified in the \"columns to transform\" parameter in the transformer tuples sent to the ColumnTransformer object. The order in which they occur in the list of transformers also dictates the order in which it appears in the new data structure: the first tuples of transformations are the most to the left in the new structure.\n",
    "\n",
    "The `remainder` parameter determines whether or not un-transformed columns are retained in the data. Setting it to `\"passthrough\"` allows me to retain the binary columns and the `label` column and look at the correlation matrix for the transformed data.\n",
    "\n",
    "Standard scaling is incorporated for all other numeric feature columns after inspections revealed that none of them are normally distributed. Rather, they almost all have a Poisson distribution."
   ]
  },
  {
   "cell_type": "code",
   "execution_count": 34,
   "metadata": {},
   "outputs": [],
   "source": [
    "# The columns below, besides 'attack_cat' which acts as an optional label for multiclass, are\n",
    "# not needed for further modeling after some research online as to what they mean.\n",
    "droppable_cols = ['srcip', 'sport', 'dstip', 'dsport', 'ltime', 'stime', 'attack_cat']\n",
    "binary_cols = ['is_sm_ips_ports', 'is_ftp_login']\n",
    "target_cols = ['label']"
   ]
  },
  {
   "cell_type": "code",
   "execution_count": 35,
   "metadata": {},
   "outputs": [],
   "source": [
    "# Define the individual steps\n",
    "ohe_step = ('ohe', OneHotEncoder(sparse=False))\n",
    "ssc_step = ('std_sclr', StandardScaler())\n",
    "log_step = ('log10', FunctionTransformer(np.log10))\n",
    "\n",
    "# Make the step part of a pipeline\n",
    "ohe_pipe = Pipeline([ohe_step])\n",
    "ssc_pipe = Pipeline([ssc_step])\n",
    "log_ssc_pipe = Pipeline([log_step, ssc_step])\n",
    "\n",
    "# Columns to transform: categorical columns for encoding, numeric feature columns for standardizing\n",
    "ohe_cols = ['proto', 'state', 'service']\n",
    "non_ssc_cols = ohe_cols+droppable_cols+binary_cols+target_cols\n",
    "#ssc_cols = all_data.drop(columns = ohe_cols+droppable_cols+['label']).columns\n",
    "ssc_cols = [col for col in all_data.columns if col not in non_ssc_cols]\n",
    "\n",
    "# Transformer input: tuple w/ contents ('name', SomeTransformer(Parameters), columns)\n",
    "transformer = [\n",
    "    ('one_hot_encoding', ohe_pipe, ohe_cols),\n",
    "    ('standard_scaling', ssc_pipe, ssc_cols)\n",
    "]"
   ]
  },
  {
   "cell_type": "code",
   "execution_count": 36,
   "metadata": {},
   "outputs": [],
   "source": [
    "# Implementing and testing the column transformer\n",
    "ct = ColumnTransformer(transformers=transformer, remainder='passthrough')\n",
    "#ct = ColumnTransformer(transformers=transformer)"
   ]
  },
  {
   "cell_type": "code",
   "execution_count": 37,
   "metadata": {},
   "outputs": [],
   "source": [
    "# Recreating column labels for one_hot_encoded data\n",
    "cat_cols = np.concatenate((np.sort(all_data.proto.unique()),\n",
    "                           np.sort(all_data.state.unique()),\n",
    "                           np.sort(all_data.service.unique())))\n",
    "\n",
    "# Combining transformed column labels with non-transformed column labels.\n",
    "# Order matters here: transformed columns in order, non-transformed features, target column\n",
    "new_cols =  np.concatenate((cat_cols, ssc_cols, binary_cols, target_cols))"
   ]
  },
  {
   "cell_type": "code",
   "execution_count": 38,
   "metadata": {},
   "outputs": [
    {
     "name": "stderr",
     "output_type": "stream",
     "text": [
      "/anaconda3/lib/python3.6/site-packages/sklearn/preprocessing/data.py:617: DataConversionWarning: Data with input dtype int64, float64 were all converted to float64 by StandardScaler.\n",
      "  return self.partial_fit(X, y)\n",
      "/anaconda3/lib/python3.6/site-packages/sklearn/base.py:462: DataConversionWarning: Data with input dtype int64, float64 were all converted to float64 by StandardScaler.\n",
      "  return self.fit(X, **fit_params).transform(X)\n"
     ]
    }
   ],
   "source": [
    "#pd.DataFrame(ct.fit_transform(all_data.drop(columns=['attack_cat']))).head()\n",
    "new_data = pd.DataFrame(ct.fit_transform(all_data.drop(columns=droppable_cols)))\n",
    "new_data.columns = new_cols"
   ]
  },
  {
   "cell_type": "code",
   "execution_count": 39,
   "metadata": {},
   "outputs": [
    {
     "data": {
      "text/html": [
       "<div>\n",
       "<style scoped>\n",
       "    .dataframe tbody tr th:only-of-type {\n",
       "        vertical-align: middle;\n",
       "    }\n",
       "\n",
       "    .dataframe tbody tr th {\n",
       "        vertical-align: top;\n",
       "    }\n",
       "\n",
       "    .dataframe thead th {\n",
       "        text-align: right;\n",
       "    }\n",
       "</style>\n",
       "<table border=\"1\" class=\"dataframe\">\n",
       "  <thead>\n",
       "    <tr style=\"text-align: right;\">\n",
       "      <th></th>\n",
       "      <th>arp</th>\n",
       "      <th>other</th>\n",
       "      <th>tcp</th>\n",
       "      <th>udp</th>\n",
       "      <th>unas</th>\n",
       "      <th>con</th>\n",
       "      <th>fin</th>\n",
       "      <th>int</th>\n",
       "      <th>other</th>\n",
       "      <th>-</th>\n",
       "      <th>...</th>\n",
       "      <th>ct_srv_src</th>\n",
       "      <th>ct_srv_dst</th>\n",
       "      <th>ct_dst_ltm</th>\n",
       "      <th>ct_src_ltm</th>\n",
       "      <th>ct_src_dport_ltm</th>\n",
       "      <th>ct_dst_sport_ltm</th>\n",
       "      <th>ct_dst_src_ltm</th>\n",
       "      <th>is_sm_ips_ports</th>\n",
       "      <th>is_ftp_login</th>\n",
       "      <th>label</th>\n",
       "    </tr>\n",
       "  </thead>\n",
       "  <tbody>\n",
       "    <tr>\n",
       "      <th>0</th>\n",
       "      <td>0.0</td>\n",
       "      <td>0.0</td>\n",
       "      <td>0.0</td>\n",
       "      <td>1.0</td>\n",
       "      <td>0.0</td>\n",
       "      <td>1.0</td>\n",
       "      <td>0.0</td>\n",
       "      <td>0.0</td>\n",
       "      <td>0.0</td>\n",
       "      <td>0.0</td>\n",
       "      <td>...</td>\n",
       "      <td>-0.572772</td>\n",
       "      <td>-0.183780</td>\n",
       "      <td>-0.666391</td>\n",
       "      <td>-0.475437</td>\n",
       "      <td>-0.429620</td>\n",
       "      <td>-0.419913</td>\n",
       "      <td>-0.519252</td>\n",
       "      <td>0.0</td>\n",
       "      <td>0.0</td>\n",
       "      <td>0.0</td>\n",
       "    </tr>\n",
       "    <tr>\n",
       "      <th>1</th>\n",
       "      <td>0.0</td>\n",
       "      <td>0.0</td>\n",
       "      <td>0.0</td>\n",
       "      <td>1.0</td>\n",
       "      <td>0.0</td>\n",
       "      <td>1.0</td>\n",
       "      <td>0.0</td>\n",
       "      <td>0.0</td>\n",
       "      <td>0.0</td>\n",
       "      <td>1.0</td>\n",
       "      <td>...</td>\n",
       "      <td>-0.665051</td>\n",
       "      <td>-0.460981</td>\n",
       "      <td>-0.543872</td>\n",
       "      <td>-0.475437</td>\n",
       "      <td>-0.429620</td>\n",
       "      <td>-0.419913</td>\n",
       "      <td>-0.430429</td>\n",
       "      <td>0.0</td>\n",
       "      <td>0.0</td>\n",
       "      <td>0.0</td>\n",
       "    </tr>\n",
       "    <tr>\n",
       "      <th>2</th>\n",
       "      <td>0.0</td>\n",
       "      <td>0.0</td>\n",
       "      <td>0.0</td>\n",
       "      <td>1.0</td>\n",
       "      <td>0.0</td>\n",
       "      <td>1.0</td>\n",
       "      <td>0.0</td>\n",
       "      <td>0.0</td>\n",
       "      <td>0.0</td>\n",
       "      <td>0.0</td>\n",
       "      <td>...</td>\n",
       "      <td>0.257735</td>\n",
       "      <td>-0.091380</td>\n",
       "      <td>-0.666391</td>\n",
       "      <td>-0.597313</td>\n",
       "      <td>-0.311662</td>\n",
       "      <td>-0.419913</td>\n",
       "      <td>-0.519252</td>\n",
       "      <td>0.0</td>\n",
       "      <td>0.0</td>\n",
       "      <td>0.0</td>\n",
       "    </tr>\n",
       "    <tr>\n",
       "      <th>3</th>\n",
       "      <td>0.0</td>\n",
       "      <td>0.0</td>\n",
       "      <td>0.0</td>\n",
       "      <td>1.0</td>\n",
       "      <td>0.0</td>\n",
       "      <td>1.0</td>\n",
       "      <td>0.0</td>\n",
       "      <td>0.0</td>\n",
       "      <td>0.0</td>\n",
       "      <td>0.0</td>\n",
       "      <td>...</td>\n",
       "      <td>-0.295936</td>\n",
       "      <td>0.001020</td>\n",
       "      <td>-0.666391</td>\n",
       "      <td>-0.719189</td>\n",
       "      <td>-0.429620</td>\n",
       "      <td>-0.419913</td>\n",
       "      <td>-0.519252</td>\n",
       "      <td>0.0</td>\n",
       "      <td>0.0</td>\n",
       "      <td>0.0</td>\n",
       "    </tr>\n",
       "    <tr>\n",
       "      <th>4</th>\n",
       "      <td>0.0</td>\n",
       "      <td>0.0</td>\n",
       "      <td>0.0</td>\n",
       "      <td>1.0</td>\n",
       "      <td>0.0</td>\n",
       "      <td>1.0</td>\n",
       "      <td>0.0</td>\n",
       "      <td>0.0</td>\n",
       "      <td>0.0</td>\n",
       "      <td>0.0</td>\n",
       "      <td>...</td>\n",
       "      <td>-0.203658</td>\n",
       "      <td>0.001020</td>\n",
       "      <td>-0.666391</td>\n",
       "      <td>-0.719189</td>\n",
       "      <td>-0.429620</td>\n",
       "      <td>-0.419913</td>\n",
       "      <td>-0.519252</td>\n",
       "      <td>0.0</td>\n",
       "      <td>0.0</td>\n",
       "      <td>0.0</td>\n",
       "    </tr>\n",
       "  </tbody>\n",
       "</table>\n",
       "<p>5 rows × 51 columns</p>\n",
       "</div>"
      ],
      "text/plain": [
       "   arp  other  tcp  udp  unas  con  fin  int  other    -  ...    ct_srv_src  \\\n",
       "0  0.0    0.0  0.0  1.0   0.0  1.0  0.0  0.0    0.0  0.0  ...     -0.572772   \n",
       "1  0.0    0.0  0.0  1.0   0.0  1.0  0.0  0.0    0.0  1.0  ...     -0.665051   \n",
       "2  0.0    0.0  0.0  1.0   0.0  1.0  0.0  0.0    0.0  0.0  ...      0.257735   \n",
       "3  0.0    0.0  0.0  1.0   0.0  1.0  0.0  0.0    0.0  0.0  ...     -0.295936   \n",
       "4  0.0    0.0  0.0  1.0   0.0  1.0  0.0  0.0    0.0  0.0  ...     -0.203658   \n",
       "\n",
       "   ct_srv_dst  ct_dst_ltm  ct_src_ltm  ct_src_dport_ltm  ct_dst_sport_ltm  \\\n",
       "0   -0.183780   -0.666391   -0.475437         -0.429620         -0.419913   \n",
       "1   -0.460981   -0.543872   -0.475437         -0.429620         -0.419913   \n",
       "2   -0.091380   -0.666391   -0.597313         -0.311662         -0.419913   \n",
       "3    0.001020   -0.666391   -0.719189         -0.429620         -0.419913   \n",
       "4    0.001020   -0.666391   -0.719189         -0.429620         -0.419913   \n",
       "\n",
       "   ct_dst_src_ltm  is_sm_ips_ports  is_ftp_login  label  \n",
       "0       -0.519252              0.0           0.0    0.0  \n",
       "1       -0.430429              0.0           0.0    0.0  \n",
       "2       -0.519252              0.0           0.0    0.0  \n",
       "3       -0.519252              0.0           0.0    0.0  \n",
       "4       -0.519252              0.0           0.0    0.0  \n",
       "\n",
       "[5 rows x 51 columns]"
      ]
     },
     "execution_count": 39,
     "metadata": {},
     "output_type": "execute_result"
    }
   ],
   "source": [
    "# Preview changed data\n",
    "new_data.head()"
   ]
  },
  {
   "cell_type": "code",
   "execution_count": 40,
   "metadata": {},
   "outputs": [
    {
     "data": {
      "text/plain": [
       "label               1.000000\n",
       "sttl                0.904393\n",
       "ct_state_ttl        0.873694\n",
       "int                 0.595858\n",
       "ct_dst_src_ltm      0.439916\n",
       "ct_dst_sport_ltm    0.419056\n",
       "ct_src_dport_ltm    0.396749\n",
       "ct_srv_dst          0.386509\n",
       "ct_srv_src          0.383007\n",
       "ct_src_ltm          0.343246\n",
       "ct_dst_ltm          0.339464\n",
       "dns                 0.286789\n",
       "udp                 0.239130\n",
       "other               0.220946\n",
       "unas                0.210555\n",
       "sload               0.192278\n",
       "ackdat              0.143443\n",
       "tcprtt              0.143109\n",
       "dttl                0.134947\n",
       "synack              0.122253\n",
       "sjit                0.020959\n",
       "sbytes              0.010180\n",
       "dur                 0.001959\n",
       "other              -0.001075\n",
       "dintpkt            -0.010632\n",
       "is_sm_ips_ports    -0.015477\n",
       "sintpkt            -0.019034\n",
       "arp                -0.024000\n",
       "ct_flw_http_mthd   -0.026561\n",
       "res_bdy_len        -0.027339\n",
       "trans_depth        -0.029041\n",
       "ct_ftp_cmd         -0.029654\n",
       "is_ftp_login       -0.032642\n",
       "sloss              -0.043272\n",
       "djit               -0.054420\n",
       "smeansz            -0.065363\n",
       "dbytes             -0.075543\n",
       "dloss              -0.095855\n",
       "other              -0.100334\n",
       "dpkts              -0.115947\n",
       "spkts              -0.120880\n",
       "-                  -0.184269\n",
       "con                -0.198236\n",
       "dload              -0.219710\n",
       "stcpb              -0.233422\n",
       "dtcpb              -0.233513\n",
       "dmeansz            -0.272397\n",
       "fin                -0.310056\n",
       "dwin               -0.313920\n",
       "swin               -0.315108\n",
       "tcp                -0.315120\n",
       "Name: label, dtype: float64"
      ]
     },
     "execution_count": 40,
     "metadata": {},
     "output_type": "execute_result"
    }
   ],
   "source": [
    "# Checking correlations for transformed data to the target column 'label'.\n",
    "# It's interesting to see that the sttl and ct_state_ttl are still the most\n",
    "# strongly correlated, but there are a handful of contextual features above 0.\n",
    "corrs = new_data.corr()\n",
    "corrs['label'].sort_values(ascending=False)"
   ]
  },
  {
   "cell_type": "markdown",
   "metadata": {},
   "source": [
    "# Pipeline Test\n",
    "\n",
    "The example below uses a random forest classifier (because it's relatively quick to train) and the column transforms above to make predictions on the provided data. I'm running it here to verify that the pipeline can process data without any glaring errors. **I am not using the results below to say anything about model performance or what I consider good practice, only as a test that my pipeline is acting as expected.**"
   ]
  },
  {
   "cell_type": "code",
   "execution_count": 45,
   "metadata": {},
   "outputs": [
    {
     "name": "stderr",
     "output_type": "stream",
     "text": [
      "/anaconda3/lib/python3.6/site-packages/sklearn/preprocessing/data.py:617: DataConversionWarning: Data with input dtype int64, float64 were all converted to float64 by StandardScaler.\n",
      "  return self.partial_fit(X, y)\n",
      "/anaconda3/lib/python3.6/site-packages/sklearn/base.py:465: DataConversionWarning: Data with input dtype int64, float64 were all converted to float64 by StandardScaler.\n",
      "  return self.fit(X, y, **fit_params).transform(X)\n",
      "/anaconda3/lib/python3.6/site-packages/sklearn/ensemble/forest.py:248: FutureWarning: The default value of n_estimators will change from 10 in version 0.20 to 100 in 0.22.\n",
      "  \"10 in version 0.20 to 100 in 0.22.\", FutureWarning)\n",
      "/anaconda3/lib/python3.6/site-packages/sklearn/pipeline.py:451: DataConversionWarning: Data with input dtype int64, float64 were all converted to float64 by StandardScaler.\n",
      "  Xt = transform.transform(Xt)\n"
     ]
    },
    {
     "data": {
      "text/plain": [
       "0.9989532604757794"
      ]
     },
     "execution_count": 45,
     "metadata": {},
     "output_type": "execute_result"
    }
   ],
   "source": [
    "# Create pipeline object with column transformations and model fitting\n",
    "data_prep = ('data_prep', ColumnTransformer(transformers=transformer, remainder='passthrough'))\n",
    "rfc_step = ('data_model', RandomForestClassifier())\n",
    "model = Pipeline([data_prep, rfc_step])\n",
    "\n",
    "# Fitting model on the available full data set\n",
    "model.fit(all_data.drop(\n",
    "    columns=['srcip', 'sport', 'dstip', 'dsport', 'label','attack_cat']),all_data.label)\n",
    "# Testing that pipeline works with predicting outcomes\n",
    "roc_auc_score(all_data.label,model.predict(\n",
    "    all_data.drop(columns=['srcip', 'sport', 'dstip', 'dsport', 'label','attack_cat'])))"
   ]
  },
  {
   "cell_type": "markdown",
   "metadata": {},
   "source": [
    "Given that this is a first-pass model, the above AUC score smells like over-fitting. I'll deal with those considerations later, for now we've confirmed that the pipeline performs as expected."
   ]
  },
  {
   "cell_type": "code",
   "execution_count": 46,
   "metadata": {},
   "outputs": [
    {
     "data": {
      "text/plain": [
       "array([5.15799203e-05, 2.75005577e-03, 1.41660006e-04, 1.16805210e-03,\n",
       "       1.61308254e-07, 9.18800030e-03, 2.12382732e-04, 3.80819958e-02,\n",
       "       1.23343140e-03, 4.78938703e-03, 5.11698514e-04, 1.45873411e-03,\n",
       "       2.60203416e-03, 1.40025045e-01, 4.72754120e-03, 1.24112136e-01,\n",
       "       2.66586261e-02, 1.62668342e-03, 9.20207699e-04, 7.68324836e-02,\n",
       "       4.25692424e-03, 1.73322366e-03, 3.82828991e-02, 2.20970769e-03,\n",
       "       8.02608059e-06, 1.62223924e-03, 1.58841704e-03, 4.78151309e-02,\n",
       "       2.96349744e-03, 2.38739651e-04, 8.58457492e-04, 1.85809273e-03,\n",
       "       2.43117767e-03, 1.95452290e-02, 3.71507237e-02, 3.00497820e-03,\n",
       "       1.49475653e-02, 2.70953449e-02, 3.02032610e-01, 1.64672682e-04,\n",
       "       1.56910833e-05, 6.52912238e-03, 1.80918991e-02, 1.62444745e-03,\n",
       "       1.43451558e-03, 2.53952729e-03, 6.50651531e-03, 5.07519388e-03,\n",
       "       3.93355212e-03, 4.10475425e-03, 3.22953059e-03, 1.56983825e-05])"
      ]
     },
     "execution_count": 46,
     "metadata": {},
     "output_type": "execute_result"
    }
   ],
   "source": [
    "# Quick inspection of feature importances\n",
    "model.named_steps['data_model'].feature_importances_"
   ]
  },
  {
   "cell_type": "markdown",
   "metadata": {},
   "source": [
    "# Attacks and non-attacks: quick PCA visualization\n",
    "Below I use PCA to quickly visualize the smaller dataset `data` in 2-D. While this may not be wholly representative of a hyper-plane, it does provide some context as to how the point anomalies relate to the normal data. I'm also curious as to what will come out of this. To prevent larger magnitude features from drowning out variations in ordinal or binary features in the principal components, I'm going to quickly scale everything."
   ]
  },
  {
   "cell_type": "code",
   "execution_count": 52,
   "metadata": {},
   "outputs": [
    {
     "name": "stderr",
     "output_type": "stream",
     "text": [
      "/anaconda3/lib/python3.6/site-packages/sklearn/preprocessing/data.py:617: DataConversionWarning: Data with input dtype int64, float64 were all converted to float64 by StandardScaler.\n",
      "  return self.partial_fit(X, y)\n",
      "/anaconda3/lib/python3.6/site-packages/sklearn/base.py:462: DataConversionWarning: Data with input dtype int64, float64 were all converted to float64 by StandardScaler.\n",
      "  return self.fit(X, **fit_params).transform(X)\n"
     ]
    }
   ],
   "source": [
    "pca = PCA(n_components=2)\n",
    "data_2d = pca.fit_transform(StandardScaler().fit_transform(\n",
    "    data.select_dtypes(exclude='object').drop(columns= ['dtcpb', 'stcpb'])))\n",
    "mask = data.label==1"
   ]
  },
  {
   "cell_type": "code",
   "execution_count": 55,
   "metadata": {},
   "outputs": [
    {
     "data": {
      "image/png": "[encoded data removed]",
      "text/plain": [
       "<Figure size 432x288 with 1 Axes>"
      ]
     },
     "metadata": {
      "needs_background": "light"
     },
     "output_type": "display_data"
    }
   ],
   "source": [
    "plt.scatter(data_2d[mask,0], data_2d[mask,1], label = 'attack data')\n",
    "plt.scatter(data_2d[~mask,0], data_2d[~mask,1], label = 'normal data')\n",
    "plt.title('2-D PCA visualization of UNSW NB-15 training dataset')\n",
    "plt.legend();"
   ]
  },
  {
   "cell_type": "markdown",
   "metadata": {},
   "source": [
    "There's some intresting differences emerging from the above visualization. While much of the variance is lost while using only two components, I may be able to look at reducing the feature space down to maybe 8-20 features for computational cost's sake later on in the modeling."
   ]
  },
  {
   "cell_type": "code",
   "execution_count": 56,
   "metadata": {},
   "outputs": [
    {
     "data": {
      "text/plain": [
       "array([0.24166227, 0.10272869])"
      ]
     },
     "execution_count": 56,
     "metadata": {},
     "output_type": "execute_result"
    }
   ],
   "source": [
    "# How much of the variance is captured by each component?\n",
    "#pca.components_\n",
    "pca.explained_variance_ratio_"
   ]
  },
  {
   "cell_type": "code",
   "execution_count": null,
   "metadata": {},
   "outputs": [],
   "source": []
  }
 ],
 "metadata": {
  "kernelspec": {
   "display_name": "Python 3",
   "language": "python",
   "name": "python3"
  },
  "language_info": {
   "codemirror_mode": {
    "name": "ipython",
    "version": 3
   },
   "file_extension": ".py",
   "mimetype": "text/x-python",
   "name": "python",
   "nbconvert_exporter": "python",
   "pygments_lexer": "ipython3",
   "version": "3.6.5"
  }
 },
 "nbformat": 4,
 "nbformat_minor": 2
}
