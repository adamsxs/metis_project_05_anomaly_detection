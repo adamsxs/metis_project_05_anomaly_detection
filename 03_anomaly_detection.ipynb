{
 "cells": [
  {
   "cell_type": "markdown",
   "metadata": {},
   "source": [
    "# Anomaly Detection for UNSW NB-15 cyberattack dataset\n",
    "Identifying cyberattacks can be considered both a classification problem and an anomaly detection problem. In this notebook, I treat it as an anomaly detection problem. Given that [the training and test csv's provided by the researchers](https://cloudstor.aarnet.edu.au/plus/index.php/s/2DhnLGDdEECo4ys?path=%2FUNSW-NB15%20-%20CSV%20Files%2Fa%20part%20of%20training%20and%20testing%20set) are balanced between the normal and anomaly classes, I'm going to down-sample to reduce the available number of anomalies."
   ]
  },
  {
   "cell_type": "code",
   "execution_count": 45,
   "metadata": {},
   "outputs": [],
   "source": [
    "# Custom modules\n",
    "from data_prep import load_csv_data, y_anomaly_format \n",
    "import model_abstraction as moda\n",
    "\n",
    "# Data Structures\n",
    "import pandas as pd\n",
    "import numpy as np\n",
    "\n",
    "\n",
    "# Preprocessing or data manipulation methods\n",
    "from sklearn.decomposition import PCA\n",
    "from sklearn.preprocessing import OneHotEncoder\n",
    "\n",
    "# Modeling methods and selection\n",
    "from sklearn.neighbors import KNeighborsClassifier\n",
    "from sklearn.naive_bayes import GaussianNB, MultinomialNB\n",
    "from sklearn.linear_model import LogisticRegression\n",
    "from sklearn.tree import DecisionTreeClassifier\n",
    "from sklearn.ensemble import RandomForestClassifier, GradientBoostingClassifier\n",
    "from sklearn.svm import LinearSVC\n",
    "from sklearn.model_selection import GridSearchCV, cross_val_score, train_test_split\n",
    "\n",
    "# Anomaly detection\n",
    "from sklearn.ensemble import IsolationForest\n",
    "from sklearn.svm import OneClassSVM\n",
    "from sklearn.covariance import EllipticEnvelope\n",
    "from sklearn.neighbors import LocalOutlierFactor\n",
    "\n",
    "# Model assessment\n",
    "from sklearn.metrics import confusion_matrix, roc_auc_score\n",
    "\n",
    "# Visualization\n",
    "import seaborn as sns\n",
    "import matplotlib.pyplot as plt\n",
    "%matplotlib inline"
   ]
  },
  {
   "cell_type": "markdown",
   "metadata": {},
   "source": [
    "# Modeling Using only Numeric Features\n",
    "The columns that remain after excluding string objects are all numerical, but contain a mix of ordinal, categorical, integer, and float values. Because the provided dataset is balanced between the normal data and attack classes, I've elected to try the classification approach to anomaly detection in it's own notebook. This will serve as an initial proof of concept for this type of approach to the problem. "
   ]
  },
  {
   "cell_type": "code",
   "execution_count": 40,
   "metadata": {},
   "outputs": [],
   "source": [
    "X_train, y_train = load_csv_data('./data/UNSW_NB15_train_set.csv', strategy='anomaly')\n",
    "X_train, X_hold, y_train, y_hold  = train_test_split(X_train,y_train, test_size = 0.25,\n",
    "                                                     random_state = 42, stratify=y_train)\n",
    "X_test, y_test = load_csv_data('./data/UNSW_NB15_test_set.csv', strategy='anomaly')"
   ]
  },
  {
   "cell_type": "code",
   "execution_count": 4,
   "metadata": {},
   "outputs": [
    {
     "data": {
      "text/plain": [
       "39"
      ]
     },
     "execution_count": 4,
     "metadata": {},
     "output_type": "execute_result"
    }
   ],
   "source": [
    "# Number of numeric features remaining\n",
    "len(X_train.columns)"
   ]
  },
  {
   "cell_type": "code",
   "execution_count": 5,
   "metadata": {},
   "outputs": [
    {
     "data": {
      "text/plain": [
       "array([ 1, -1])"
      ]
     },
     "execution_count": 5,
     "metadata": {},
     "output_type": "execute_result"
    }
   ],
   "source": [
    "y_train.unique()"
   ]
  },
  {
   "cell_type": "markdown",
   "metadata": {},
   "source": [
    "The type of anomaly detection methods used below start by training on normal data and building a profile. From there, they can be used to predict on unseen data."
   ]
  },
  {
   "cell_type": "code",
   "execution_count": 6,
   "metadata": {},
   "outputs": [],
   "source": [
    "## Create 'masks' to filter the dataframe by whether or not the observation belongs to normal or attack class.\n",
    "train_normal = y_train==1"
   ]
  },
  {
   "cell_type": "code",
   "execution_count": 11,
   "metadata": {},
   "outputs": [
    {
     "name": "stderr",
     "output_type": "stream",
     "text": [
      "/anaconda3/lib/python3.6/site-packages/sklearn/ensemble/iforest.py:214: FutureWarning: default contamination parameter 0.1 will change in version 0.22 to \"auto\". This will change the predict method behavior.\n",
      "  FutureWarning)\n",
      "/anaconda3/lib/python3.6/site-packages/sklearn/ensemble/iforest.py:224: FutureWarning: behaviour=\"old\" is deprecated and will be removed in version 0.22. Please use behaviour=\"new\", which makes the decision_function change to match other anomaly detection algorithm API.\n",
      "  FutureWarning)\n",
      "/anaconda3/lib/python3.6/site-packages/sklearn/ensemble/iforest.py:418: DeprecationWarning: threshold_ attribute is deprecated in 0.20 and will be removed in 0.22.\n",
      "  \" be removed in 0.22.\", DeprecationWarning)\n",
      "/anaconda3/lib/python3.6/site-packages/sklearn/ensemble/iforest.py:418: DeprecationWarning: threshold_ attribute is deprecated in 0.20 and will be removed in 0.22.\n",
      "  \" be removed in 0.22.\", DeprecationWarning)\n"
     ]
    }
   ],
   "source": [
    "ilf = IsolationForest()\n",
    "ilf.fit(X_train[train_normal])\n"
   ]
  },
  {
   "cell_type": "code",
   "execution_count": 13,
   "metadata": {},
   "outputs": [
    {
     "name": "stderr",
     "output_type": "stream",
     "text": [
      "/anaconda3/lib/python3.6/site-packages/sklearn/ensemble/iforest.py:418: DeprecationWarning: threshold_ attribute is deprecated in 0.20 and will be removed in 0.22.\n",
      "  \" be removed in 0.22.\", DeprecationWarning)\n",
      "/anaconda3/lib/python3.6/site-packages/sklearn/ensemble/iforest.py:418: DeprecationWarning: threshold_ attribute is deprecated in 0.20 and will be removed in 0.22.\n",
      "  \" be removed in 0.22.\", DeprecationWarning)\n",
      "/anaconda3/lib/python3.6/site-packages/sklearn/ensemble/iforest.py:418: DeprecationWarning: threshold_ attribute is deprecated in 0.20 and will be removed in 0.22.\n",
      "  \" be removed in 0.22.\", DeprecationWarning)\n",
      "/anaconda3/lib/python3.6/site-packages/sklearn/ensemble/iforest.py:418: DeprecationWarning: threshold_ attribute is deprecated in 0.20 and will be removed in 0.22.\n",
      "  \" be removed in 0.22.\", DeprecationWarning)\n"
     ]
    }
   ],
   "source": [
    "y_pred_nm = ilf.predict(X_train[train_normal])\n",
    "y_pred_out = ilf.predict(X_train[~train_normal])\n",
    "y_pred_train = ilf.predict(X_train)\n",
    "y_pred_test = ilf.predict(X_test)\n"
   ]
  },
  {
   "cell_type": "code",
   "execution_count": 17,
   "metadata": {},
   "outputs": [
    {
     "data": {
      "text/plain": [
       "array([[    0,     0],\n",
       "       [ 5600, 50400]])"
      ]
     },
     "execution_count": 17,
     "metadata": {},
     "output_type": "execute_result"
    }
   ],
   "source": [
    "confusion_matrix(y_train[train_normal], y_pred_nm)"
   ]
  },
  {
   "cell_type": "code",
   "execution_count": 16,
   "metadata": {},
   "outputs": [
    {
     "data": {
      "text/plain": [
       "array([[54217, 65124],\n",
       "       [    0,     0]])"
      ]
     },
     "execution_count": 16,
     "metadata": {},
     "output_type": "execute_result"
    }
   ],
   "source": [
    "confusion_matrix(y_train[~train_normal], y_pred_out)"
   ]
  },
  {
   "cell_type": "code",
   "execution_count": 18,
   "metadata": {},
   "outputs": [
    {
     "data": {
      "text/plain": [
       "array([[54217, 65124],\n",
       "       [ 5600, 50400]])"
      ]
     },
     "execution_count": 18,
     "metadata": {},
     "output_type": "execute_result"
    }
   ],
   "source": [
    "confusion_matrix(y_train, y_pred_train)"
   ]
  },
  {
   "cell_type": "code",
   "execution_count": 38,
   "metadata": {},
   "outputs": [
    {
     "name": "stdout",
     "output_type": "stream",
     "text": [
      "0.6193118243541345\n"
     ]
    },
    {
     "data": {
      "text/plain": [
       "array([[17214, 28118],\n",
       "       [ 5221, 31779]])"
      ]
     },
     "execution_count": 38,
     "metadata": {},
     "output_type": "execute_result"
    }
   ],
   "source": [
    "print(roc_auc_score(y_test, y_pred_test))\n",
    "confusion_matrix(y_test, y_pred_test)"
   ]
  },
  {
   "cell_type": "code",
   "execution_count": 22,
   "metadata": {},
   "outputs": [
    {
     "data": {
      "text/plain": [
       "-1    45332\n",
       " 1    37000\n",
       "Name: label, dtype: int64"
      ]
     },
     "execution_count": 22,
     "metadata": {},
     "output_type": "execute_result"
    }
   ],
   "source": [
    "y_test.value_counts()"
   ]
  },
  {
   "cell_type": "markdown",
   "metadata": {},
   "source": [
    "## Basic One Class SVM"
   ]
  },
  {
   "cell_type": "code",
   "execution_count": 27,
   "metadata": {},
   "outputs": [
    {
     "name": "stderr",
     "output_type": "stream",
     "text": [
      "/anaconda3/lib/python3.6/site-packages/sklearn/svm/base.py:196: FutureWarning: The default value of gamma will change from 'auto' to 'scale' in version 0.22 to account better for unscaled features. Set gamma explicitly to 'auto' or 'scale' to avoid this warning.\n",
      "  \"avoid this warning.\", FutureWarning)\n",
      "/anaconda3/lib/python3.6/site-packages/sklearn/svm/base.py:196: FutureWarning: The default value of gamma will change from 'auto' to 'scale' in version 0.22 to account better for unscaled features. Set gamma explicitly to 'auto' or 'scale' to avoid this warning.\n",
      "  \"avoid this warning.\", FutureWarning)\n"
     ]
    }
   ],
   "source": [
    "ocsvm = OneClassSVM(kernel='rbf')\n",
    "ocsvm.fit(X_train[train_normal])\n",
    "y_pred_normal = ocsvm.fit_predict(X_train[train_normal])\n",
    "y_pred_outlier = ocsvm.predict(X_train[~train_normal])\n",
    "y_pred = ocsvm.predict(X_train)"
   ]
  },
  {
   "cell_type": "code",
   "execution_count": 28,
   "metadata": {},
   "outputs": [
    {
     "data": {
      "text/plain": [
       "array([[    0,     0],\n",
       "       [26719, 29281]])"
      ]
     },
     "execution_count": 28,
     "metadata": {},
     "output_type": "execute_result"
    }
   ],
   "source": [
    "confusion_matrix(y_train[train_normal], y_pred_normal)"
   ]
  },
  {
   "cell_type": "code",
   "execution_count": 29,
   "metadata": {},
   "outputs": [
    {
     "data": {
      "text/plain": [
       "array([[117839,   1502],\n",
       "       [     0,      0]])"
      ]
     },
     "execution_count": 29,
     "metadata": {},
     "output_type": "execute_result"
    }
   ],
   "source": [
    "confusion_matrix(y_train[~train_normal], y_pred_outlier)"
   ]
  },
  {
   "cell_type": "code",
   "execution_count": 30,
   "metadata": {},
   "outputs": [
    {
     "data": {
      "text/plain": [
       "array([[117839,   1502],\n",
       "       [ 26719,  29281]])"
      ]
     },
     "execution_count": 30,
     "metadata": {},
     "output_type": "execute_result"
    }
   ],
   "source": [
    "confusion_matrix(y_train, y_pred)"
   ]
  },
  {
   "cell_type": "code",
   "execution_count": 35,
   "metadata": {},
   "outputs": [
    {
     "data": {
      "text/plain": [
       "0.551775488229781"
      ]
     },
     "execution_count": 35,
     "metadata": {},
     "output_type": "execute_result"
    }
   ],
   "source": [
    "roc_auc_score(y_test, ocsvm.predict(X_test))"
   ]
  },
  {
   "cell_type": "markdown",
   "metadata": {},
   "source": [
    "## Eliptical Envelope"
   ]
  },
  {
   "cell_type": "code",
   "execution_count": 25,
   "metadata": {},
   "outputs": [
    {
     "name": "stderr",
     "output_type": "stream",
     "text": [
      "/anaconda3/lib/python3.6/site-packages/sklearn/covariance/robust_covariance.py:646: UserWarning: The covariance matrix associated to your dataset is not full rank\n",
      "  warnings.warn(\"The covariance matrix associated to your dataset \"\n",
      "/anaconda3/lib/python3.6/site-packages/sklearn/covariance/robust_covariance.py:171: RuntimeWarning: Determinant has increased; this should not happen: log(det) > log(previous_det) (166.386025488722566 > 127.388028898191905). You may want to try with a higher value of support_fraction (current value: 0.502).\n",
      "  RuntimeWarning)\n",
      "/anaconda3/lib/python3.6/site-packages/sklearn/covariance/robust_covariance.py:171: RuntimeWarning: Determinant has increased; this should not happen: log(det) > log(previous_det) (176.328360669299229 > 156.253386375134369). You may want to try with a higher value of support_fraction (current value: 0.502).\n",
      "  RuntimeWarning)\n",
      "/anaconda3/lib/python3.6/site-packages/sklearn/covariance/robust_covariance.py:171: RuntimeWarning: Determinant has increased; this should not happen: log(det) > log(previous_det) (195.517128970002091 > 139.136972953674388). You may want to try with a higher value of support_fraction (current value: 0.502).\n",
      "  RuntimeWarning)\n",
      "/anaconda3/lib/python3.6/site-packages/sklearn/covariance/robust_covariance.py:171: RuntimeWarning: Determinant has increased; this should not happen: log(det) > log(previous_det) (166.435380657458580 > 155.093721551666164). You may want to try with a higher value of support_fraction (current value: 0.502).\n",
      "  RuntimeWarning)\n",
      "/anaconda3/lib/python3.6/site-packages/sklearn/covariance/robust_covariance.py:171: RuntimeWarning: Determinant has increased; this should not happen: log(det) > log(previous_det) (156.116697607013151 > 117.495049184977375). You may want to try with a higher value of support_fraction (current value: 0.502).\n",
      "  RuntimeWarning)\n",
      "/anaconda3/lib/python3.6/site-packages/sklearn/covariance/robust_covariance.py:171: RuntimeWarning: Determinant has increased; this should not happen: log(det) > log(previous_det) (200.764881458311265 > 170.550858909248518). You may want to try with a higher value of support_fraction (current value: 0.502).\n",
      "  RuntimeWarning)\n",
      "/anaconda3/lib/python3.6/site-packages/sklearn/covariance/robust_covariance.py:171: RuntimeWarning: Determinant has increased; this should not happen: log(det) > log(previous_det) (173.566142896343649 > 150.337127517256960). You may want to try with a higher value of support_fraction (current value: 0.502).\n",
      "  RuntimeWarning)\n",
      "/anaconda3/lib/python3.6/site-packages/sklearn/covariance/robust_covariance.py:171: RuntimeWarning: Determinant has increased; this should not happen: log(det) > log(previous_det) (188.484389255263352 > 165.013655132628173). You may want to try with a higher value of support_fraction (current value: 0.502).\n",
      "  RuntimeWarning)\n",
      "/anaconda3/lib/python3.6/site-packages/sklearn/covariance/robust_covariance.py:171: RuntimeWarning: Determinant has increased; this should not happen: log(det) > log(previous_det) (162.339181148090375 > 155.168811069365148). You may want to try with a higher value of support_fraction (current value: 0.502).\n",
      "  RuntimeWarning)\n",
      "/anaconda3/lib/python3.6/site-packages/sklearn/covariance/robust_covariance.py:171: RuntimeWarning: Determinant has increased; this should not happen: log(det) > log(previous_det) (194.570207534382689 > 144.126726185458892). You may want to try with a higher value of support_fraction (current value: 0.502).\n",
      "  RuntimeWarning)\n",
      "/anaconda3/lib/python3.6/site-packages/sklearn/covariance/robust_covariance.py:171: RuntimeWarning: Determinant has increased; this should not happen: log(det) > log(previous_det) (156.487305831357844 > 147.399698442345851). You may want to try with a higher value of support_fraction (current value: 0.502).\n",
      "  RuntimeWarning)\n",
      "/anaconda3/lib/python3.6/site-packages/sklearn/covariance/robust_covariance.py:171: RuntimeWarning: Determinant has increased; this should not happen: log(det) > log(previous_det) (177.751898056933555 > 143.313165385514765). You may want to try with a higher value of support_fraction (current value: 0.502).\n",
      "  RuntimeWarning)\n",
      "/anaconda3/lib/python3.6/site-packages/sklearn/covariance/robust_covariance.py:171: RuntimeWarning: Determinant has increased; this should not happen: log(det) > log(previous_det) (233.337180377276781 > 170.990416886692117). You may want to try with a higher value of support_fraction (current value: 0.502).\n",
      "  RuntimeWarning)\n",
      "/anaconda3/lib/python3.6/site-packages/sklearn/covariance/robust_covariance.py:171: RuntimeWarning: Determinant has increased; this should not happen: log(det) > log(previous_det) (208.995773152698348 > 180.518609527086028). You may want to try with a higher value of support_fraction (current value: 0.502).\n",
      "  RuntimeWarning)\n",
      "/anaconda3/lib/python3.6/site-packages/sklearn/covariance/robust_covariance.py:171: RuntimeWarning: Determinant has increased; this should not happen: log(det) > log(previous_det) (167.833740064387911 > 153.167739186544310). You may want to try with a higher value of support_fraction (current value: 0.502).\n",
      "  RuntimeWarning)\n",
      "/anaconda3/lib/python3.6/site-packages/sklearn/covariance/robust_covariance.py:171: RuntimeWarning: Determinant has increased; this should not happen: log(det) > log(previous_det) (195.036059909739947 > 173.813780527903560). You may want to try with a higher value of support_fraction (current value: 0.502).\n",
      "  RuntimeWarning)\n",
      "/anaconda3/lib/python3.6/site-packages/sklearn/covariance/robust_covariance.py:171: RuntimeWarning: Determinant has increased; this should not happen: log(det) > log(previous_det) (139.866942023952731 > 119.820373280708750). You may want to try with a higher value of support_fraction (current value: 0.502).\n",
      "  RuntimeWarning)\n",
      "/anaconda3/lib/python3.6/site-packages/sklearn/covariance/robust_covariance.py:171: RuntimeWarning: Determinant has increased; this should not happen: log(det) > log(previous_det) (165.282054767548800 > 124.152745885354420). You may want to try with a higher value of support_fraction (current value: 0.502).\n",
      "  RuntimeWarning)\n",
      "/anaconda3/lib/python3.6/site-packages/sklearn/covariance/robust_covariance.py:171: RuntimeWarning: Determinant has increased; this should not happen: log(det) > log(previous_det) (159.697185852948166 > 124.367279414773336). You may want to try with a higher value of support_fraction (current value: 0.502).\n",
      "  RuntimeWarning)\n",
      "/anaconda3/lib/python3.6/site-packages/sklearn/covariance/robust_covariance.py:171: RuntimeWarning: Determinant has increased; this should not happen: log(det) > log(previous_det) (179.705515124845846 > 165.098385200893375). You may want to try with a higher value of support_fraction (current value: 0.502).\n",
      "  RuntimeWarning)\n",
      "/anaconda3/lib/python3.6/site-packages/sklearn/covariance/robust_covariance.py:171: RuntimeWarning: Determinant has increased; this should not happen: log(det) > log(previous_det) (178.183610469550047 > 141.050426830926568). You may want to try with a higher value of support_fraction (current value: 0.502).\n",
      "  RuntimeWarning)\n",
      "/anaconda3/lib/python3.6/site-packages/sklearn/covariance/robust_covariance.py:171: RuntimeWarning: Determinant has increased; this should not happen: log(det) > log(previous_det) (224.110339653053728 > 134.183117389595566). You may want to try with a higher value of support_fraction (current value: 0.502).\n",
      "  RuntimeWarning)\n",
      "/anaconda3/lib/python3.6/site-packages/sklearn/covariance/robust_covariance.py:171: RuntimeWarning: Determinant has increased; this should not happen: log(det) > log(previous_det) (156.339302351497736 > 151.474587214549530). You may want to try with a higher value of support_fraction (current value: 0.502).\n",
      "  RuntimeWarning)\n",
      "/anaconda3/lib/python3.6/site-packages/sklearn/covariance/robust_covariance.py:171: RuntimeWarning: Determinant has increased; this should not happen: log(det) > log(previous_det) (153.973864021697580 > 144.591565024416781). You may want to try with a higher value of support_fraction (current value: 0.502).\n",
      "  RuntimeWarning)\n",
      "/anaconda3/lib/python3.6/site-packages/sklearn/covariance/robust_covariance.py:171: RuntimeWarning: Determinant has increased; this should not happen: log(det) > log(previous_det) (180.425441852561079 > 128.725176856553958). You may want to try with a higher value of support_fraction (current value: 0.502).\n",
      "  RuntimeWarning)\n",
      "/anaconda3/lib/python3.6/site-packages/sklearn/covariance/robust_covariance.py:171: RuntimeWarning: Determinant has increased; this should not happen: log(det) > log(previous_det) (184.000999884191032 > 152.799956410705249). You may want to try with a higher value of support_fraction (current value: 0.502).\n",
      "  RuntimeWarning)\n",
      "/anaconda3/lib/python3.6/site-packages/sklearn/covariance/robust_covariance.py:171: RuntimeWarning: Determinant has increased; this should not happen: log(det) > log(previous_det) (170.416066776385691 > 124.650859819908419). You may want to try with a higher value of support_fraction (current value: 0.502).\n",
      "  RuntimeWarning)\n",
      "/anaconda3/lib/python3.6/site-packages/sklearn/covariance/robust_covariance.py:171: RuntimeWarning: Determinant has increased; this should not happen: log(det) > log(previous_det) (169.384651046512857 > 163.015409199513812). You may want to try with a higher value of support_fraction (current value: 0.502).\n",
      "  RuntimeWarning)\n",
      "/anaconda3/lib/python3.6/site-packages/sklearn/covariance/robust_covariance.py:171: RuntimeWarning: Determinant has increased; this should not happen: log(det) > log(previous_det) (191.921471319112271 > 155.255844593779216). You may want to try with a higher value of support_fraction (current value: 0.502).\n",
      "  RuntimeWarning)\n",
      "/anaconda3/lib/python3.6/site-packages/sklearn/covariance/robust_covariance.py:171: RuntimeWarning: Determinant has increased; this should not happen: log(det) > log(previous_det) (196.918240967734363 > 184.691431107928935). You may want to try with a higher value of support_fraction (current value: 0.502).\n",
      "  RuntimeWarning)\n",
      "/anaconda3/lib/python3.6/site-packages/sklearn/covariance/robust_covariance.py:171: RuntimeWarning: Determinant has increased; this should not happen: log(det) > log(previous_det) (140.025858811603882 > 133.147568293646316). You may want to try with a higher value of support_fraction (current value: 0.502).\n",
      "  RuntimeWarning)\n",
      "/anaconda3/lib/python3.6/site-packages/sklearn/covariance/robust_covariance.py:171: RuntimeWarning: Determinant has increased; this should not happen: log(det) > log(previous_det) (205.232293062672028 > 151.288391625982683). You may want to try with a higher value of support_fraction (current value: 0.502).\n",
      "  RuntimeWarning)\n",
      "/anaconda3/lib/python3.6/site-packages/sklearn/covariance/robust_covariance.py:171: RuntimeWarning: Determinant has increased; this should not happen: log(det) > log(previous_det) (165.241585152446760 > 148.558174339586287). You may want to try with a higher value of support_fraction (current value: 0.502).\n",
      "  RuntimeWarning)\n",
      "/anaconda3/lib/python3.6/site-packages/sklearn/covariance/robust_covariance.py:171: RuntimeWarning: Determinant has increased; this should not happen: log(det) > log(previous_det) (182.936752155143068 > 154.342531393545357). You may want to try with a higher value of support_fraction (current value: 0.502).\n",
      "  RuntimeWarning)\n",
      "/anaconda3/lib/python3.6/site-packages/sklearn/covariance/robust_covariance.py:171: RuntimeWarning: Determinant has increased; this should not happen: log(det) > log(previous_det) (187.140061894456096 > 148.593898581288840). You may want to try with a higher value of support_fraction (current value: 0.502).\n",
      "  RuntimeWarning)\n",
      "/anaconda3/lib/python3.6/site-packages/sklearn/covariance/robust_covariance.py:171: RuntimeWarning: Determinant has increased; this should not happen: log(det) > log(previous_det) (184.783531061155713 > 133.862106914885999). You may want to try with a higher value of support_fraction (current value: 0.502).\n",
      "  RuntimeWarning)\n",
      "/anaconda3/lib/python3.6/site-packages/sklearn/covariance/robust_covariance.py:171: RuntimeWarning: Determinant has increased; this should not happen: log(det) > log(previous_det) (194.769467300548143 > 104.473262268500633). You may want to try with a higher value of support_fraction (current value: 0.502).\n",
      "  RuntimeWarning)\n",
      "/anaconda3/lib/python3.6/site-packages/sklearn/covariance/robust_covariance.py:171: RuntimeWarning: Determinant has increased; this should not happen: log(det) > log(previous_det) (165.185494553312509 > 117.939465330662358). You may want to try with a higher value of support_fraction (current value: 0.502).\n",
      "  RuntimeWarning)\n",
      "/anaconda3/lib/python3.6/site-packages/sklearn/covariance/robust_covariance.py:171: RuntimeWarning: Determinant has increased; this should not happen: log(det) > log(previous_det) (156.581296722924577 > 147.023117762456764). You may want to try with a higher value of support_fraction (current value: 0.502).\n",
      "  RuntimeWarning)\n",
      "/anaconda3/lib/python3.6/site-packages/sklearn/covariance/robust_covariance.py:171: RuntimeWarning: Determinant has increased; this should not happen: log(det) > log(previous_det) (195.021484548484040 > 140.893245811791871). You may want to try with a higher value of support_fraction (current value: 0.502).\n",
      "  RuntimeWarning)\n",
      "/anaconda3/lib/python3.6/site-packages/sklearn/covariance/robust_covariance.py:171: RuntimeWarning: Determinant has increased; this should not happen: log(det) > log(previous_det) (186.054728103689996 > 174.679051191794542). You may want to try with a higher value of support_fraction (current value: 0.502).\n",
      "  RuntimeWarning)\n",
      "/anaconda3/lib/python3.6/site-packages/sklearn/covariance/robust_covariance.py:171: RuntimeWarning: Determinant has increased; this should not happen: log(det) > log(previous_det) (195.916190868758463 > 195.499099657358215). You may want to try with a higher value of support_fraction (current value: 0.502).\n",
      "  RuntimeWarning)\n",
      "/anaconda3/lib/python3.6/site-packages/sklearn/covariance/robust_covariance.py:171: RuntimeWarning: Determinant has increased; this should not happen: log(det) > log(previous_det) (200.993794774758271 > 164.803194657227323). You may want to try with a higher value of support_fraction (current value: 0.502).\n",
      "  RuntimeWarning)\n",
      "/anaconda3/lib/python3.6/site-packages/sklearn/covariance/robust_covariance.py:171: RuntimeWarning: Determinant has increased; this should not happen: log(det) > log(previous_det) (198.227980046768664 > 169.606382898270425). You may want to try with a higher value of support_fraction (current value: 0.502).\n",
      "  RuntimeWarning)\n",
      "/anaconda3/lib/python3.6/site-packages/sklearn/covariance/robust_covariance.py:171: RuntimeWarning: Determinant has increased; this should not happen: log(det) > log(previous_det) (198.647717577632164 > 159.141498567053247). You may want to try with a higher value of support_fraction (current value: 0.502).\n",
      "  RuntimeWarning)\n"
     ]
    },
    {
     "name": "stderr",
     "output_type": "stream",
     "text": [
      "/anaconda3/lib/python3.6/site-packages/sklearn/covariance/robust_covariance.py:171: RuntimeWarning: Determinant has increased; this should not happen: log(det) > log(previous_det) (186.839118631325164 > 127.564683925236125). You may want to try with a higher value of support_fraction (current value: 0.502).\n",
      "  RuntimeWarning)\n",
      "/anaconda3/lib/python3.6/site-packages/sklearn/covariance/robust_covariance.py:171: RuntimeWarning: Determinant has increased; this should not happen: log(det) > log(previous_det) (166.250117545521675 > 146.120374932246932). You may want to try with a higher value of support_fraction (current value: 0.502).\n",
      "  RuntimeWarning)\n",
      "/anaconda3/lib/python3.6/site-packages/sklearn/covariance/robust_covariance.py:171: RuntimeWarning: Determinant has increased; this should not happen: log(det) > log(previous_det) (207.472373462294428 > 142.908096661021716). You may want to try with a higher value of support_fraction (current value: 0.502).\n",
      "  RuntimeWarning)\n",
      "/anaconda3/lib/python3.6/site-packages/sklearn/covariance/robust_covariance.py:171: RuntimeWarning: Determinant has increased; this should not happen: log(det) > log(previous_det) (189.647093586603120 > 153.722972229497202). You may want to try with a higher value of support_fraction (current value: 0.502).\n",
      "  RuntimeWarning)\n",
      "/anaconda3/lib/python3.6/site-packages/sklearn/covariance/robust_covariance.py:171: RuntimeWarning: Determinant has increased; this should not happen: log(det) > log(previous_det) (190.159829239136855 > 149.817206773196403). You may want to try with a higher value of support_fraction (current value: 0.502).\n",
      "  RuntimeWarning)\n",
      "/anaconda3/lib/python3.6/site-packages/sklearn/covariance/robust_covariance.py:171: RuntimeWarning: Determinant has increased; this should not happen: log(det) > log(previous_det) (177.209494654224642 > 143.824852055654901). You may want to try with a higher value of support_fraction (current value: 0.502).\n",
      "  RuntimeWarning)\n",
      "/anaconda3/lib/python3.6/site-packages/sklearn/covariance/robust_covariance.py:171: RuntimeWarning: Determinant has increased; this should not happen: log(det) > log(previous_det) (177.355154050057706 > 168.872283815661746). You may want to try with a higher value of support_fraction (current value: 0.502).\n",
      "  RuntimeWarning)\n",
      "/anaconda3/lib/python3.6/site-packages/sklearn/covariance/robust_covariance.py:171: RuntimeWarning: Determinant has increased; this should not happen: log(det) > log(previous_det) (191.400538034285489 > 174.714061131188203). You may want to try with a higher value of support_fraction (current value: 0.502).\n",
      "  RuntimeWarning)\n",
      "/anaconda3/lib/python3.6/site-packages/sklearn/covariance/robust_covariance.py:171: RuntimeWarning: Determinant has increased; this should not happen: log(det) > log(previous_det) (189.187807053155183 > 162.300365739323894). You may want to try with a higher value of support_fraction (current value: 0.502).\n",
      "  RuntimeWarning)\n",
      "/anaconda3/lib/python3.6/site-packages/sklearn/covariance/robust_covariance.py:171: RuntimeWarning: Determinant has increased; this should not happen: log(det) > log(previous_det) (204.032538333144998 > 191.959223180614799). You may want to try with a higher value of support_fraction (current value: 0.502).\n",
      "  RuntimeWarning)\n",
      "/anaconda3/lib/python3.6/site-packages/sklearn/covariance/robust_covariance.py:171: RuntimeWarning: Determinant has increased; this should not happen: log(det) > log(previous_det) (184.374628125323682 > 165.897354933555619). You may want to try with a higher value of support_fraction (current value: 0.502).\n",
      "  RuntimeWarning)\n",
      "/anaconda3/lib/python3.6/site-packages/sklearn/covariance/robust_covariance.py:171: RuntimeWarning: Determinant has increased; this should not happen: log(det) > log(previous_det) (213.656428433157970 > 165.519008725342530). You may want to try with a higher value of support_fraction (current value: 0.502).\n",
      "  RuntimeWarning)\n",
      "/anaconda3/lib/python3.6/site-packages/sklearn/covariance/robust_covariance.py:171: RuntimeWarning: Determinant has increased; this should not happen: log(det) > log(previous_det) (207.564463597415397 > 188.322319297684516). You may want to try with a higher value of support_fraction (current value: 0.502).\n",
      "  RuntimeWarning)\n",
      "/anaconda3/lib/python3.6/site-packages/sklearn/covariance/robust_covariance.py:171: RuntimeWarning: Determinant has increased; this should not happen: log(det) > log(previous_det) (132.736749142641543 > 111.664187164235969). You may want to try with a higher value of support_fraction (current value: 0.502).\n",
      "  RuntimeWarning)\n",
      "/anaconda3/lib/python3.6/site-packages/sklearn/covariance/robust_covariance.py:171: RuntimeWarning: Determinant has increased; this should not happen: log(det) > log(previous_det) (170.646617902901141 > 149.922998923068377). You may want to try with a higher value of support_fraction (current value: 0.502).\n",
      "  RuntimeWarning)\n",
      "/anaconda3/lib/python3.6/site-packages/sklearn/covariance/robust_covariance.py:171: RuntimeWarning: Determinant has increased; this should not happen: log(det) > log(previous_det) (206.745014042336265 > 145.560004393062769). You may want to try with a higher value of support_fraction (current value: 0.502).\n",
      "  RuntimeWarning)\n",
      "/anaconda3/lib/python3.6/site-packages/sklearn/covariance/robust_covariance.py:171: RuntimeWarning: Determinant has increased; this should not happen: log(det) > log(previous_det) (204.151197843186196 > 175.854788233166346). You may want to try with a higher value of support_fraction (current value: 0.502).\n",
      "  RuntimeWarning)\n",
      "/anaconda3/lib/python3.6/site-packages/sklearn/covariance/robust_covariance.py:171: RuntimeWarning: Determinant has increased; this should not happen: log(det) > log(previous_det) (172.721622457413389 > 148.977552163187937). You may want to try with a higher value of support_fraction (current value: 0.502).\n",
      "  RuntimeWarning)\n",
      "/anaconda3/lib/python3.6/site-packages/sklearn/covariance/robust_covariance.py:171: RuntimeWarning: Determinant has increased; this should not happen: log(det) > log(previous_det) (162.646509921875747 > 148.582908641505639). You may want to try with a higher value of support_fraction (current value: 0.502).\n",
      "  RuntimeWarning)\n",
      "/anaconda3/lib/python3.6/site-packages/sklearn/covariance/robust_covariance.py:171: RuntimeWarning: Determinant has increased; this should not happen: log(det) > log(previous_det) (210.339787203100826 > 165.779113760352743). You may want to try with a higher value of support_fraction (current value: 0.502).\n",
      "  RuntimeWarning)\n",
      "/anaconda3/lib/python3.6/site-packages/sklearn/covariance/robust_covariance.py:171: RuntimeWarning: Determinant has increased; this should not happen: log(det) > log(previous_det) (216.924464289837573 > 178.230240490869505). You may want to try with a higher value of support_fraction (current value: 0.502).\n",
      "  RuntimeWarning)\n",
      "/anaconda3/lib/python3.6/site-packages/sklearn/covariance/robust_covariance.py:171: RuntimeWarning: Determinant has increased; this should not happen: log(det) > log(previous_det) (190.970428202408357 > 161.308724647169299). You may want to try with a higher value of support_fraction (current value: 0.502).\n",
      "  RuntimeWarning)\n",
      "/anaconda3/lib/python3.6/site-packages/sklearn/covariance/robust_covariance.py:171: RuntimeWarning: Determinant has increased; this should not happen: log(det) > log(previous_det) (215.866234250784032 > 188.099878893055688). You may want to try with a higher value of support_fraction (current value: 0.502).\n",
      "  RuntimeWarning)\n",
      "/anaconda3/lib/python3.6/site-packages/sklearn/covariance/robust_covariance.py:171: RuntimeWarning: Determinant has increased; this should not happen: log(det) > log(previous_det) (193.781416587834059 > 153.092843122171104). You may want to try with a higher value of support_fraction (current value: 0.502).\n",
      "  RuntimeWarning)\n",
      "/anaconda3/lib/python3.6/site-packages/sklearn/covariance/robust_covariance.py:171: RuntimeWarning: Determinant has increased; this should not happen: log(det) > log(previous_det) (160.138867772815217 > 159.695702675888924). You may want to try with a higher value of support_fraction (current value: 0.502).\n",
      "  RuntimeWarning)\n",
      "/anaconda3/lib/python3.6/site-packages/sklearn/covariance/robust_covariance.py:171: RuntimeWarning: Determinant has increased; this should not happen: log(det) > log(previous_det) (171.345143617789915 > 170.283892093763683). You may want to try with a higher value of support_fraction (current value: 0.502).\n",
      "  RuntimeWarning)\n",
      "/anaconda3/lib/python3.6/site-packages/sklearn/covariance/robust_covariance.py:171: RuntimeWarning: Determinant has increased; this should not happen: log(det) > log(previous_det) (196.454619480398918 > 173.423130114616043). You may want to try with a higher value of support_fraction (current value: 0.502).\n",
      "  RuntimeWarning)\n",
      "/anaconda3/lib/python3.6/site-packages/sklearn/covariance/robust_covariance.py:171: RuntimeWarning: Determinant has increased; this should not happen: log(det) > log(previous_det) (189.415798888252056 > 171.053399505666675). You may want to try with a higher value of support_fraction (current value: 0.502).\n",
      "  RuntimeWarning)\n",
      "/anaconda3/lib/python3.6/site-packages/sklearn/covariance/robust_covariance.py:171: RuntimeWarning: Determinant has increased; this should not happen: log(det) > log(previous_det) (179.599416400730746 > 175.418017305172611). You may want to try with a higher value of support_fraction (current value: 0.502).\n",
      "  RuntimeWarning)\n",
      "/anaconda3/lib/python3.6/site-packages/sklearn/covariance/robust_covariance.py:171: RuntimeWarning: Determinant has increased; this should not happen: log(det) > log(previous_det) (221.925949243401078 > 211.365279268355295). You may want to try with a higher value of support_fraction (current value: 0.502).\n",
      "  RuntimeWarning)\n",
      "/anaconda3/lib/python3.6/site-packages/sklearn/covariance/robust_covariance.py:171: RuntimeWarning: Determinant has increased; this should not happen: log(det) > log(previous_det) (187.910388691469706 > 172.520073597918753). You may want to try with a higher value of support_fraction (current value: 0.502).\n",
      "  RuntimeWarning)\n",
      "/anaconda3/lib/python3.6/site-packages/sklearn/covariance/robust_covariance.py:171: RuntimeWarning: Determinant has increased; this should not happen: log(det) > log(previous_det) (205.513004617953015 > 201.491846648417635). You may want to try with a higher value of support_fraction (current value: 0.502).\n",
      "  RuntimeWarning)\n",
      "/anaconda3/lib/python3.6/site-packages/sklearn/covariance/robust_covariance.py:171: RuntimeWarning: Determinant has increased; this should not happen: log(det) > log(previous_det) (174.098977322696811 > 170.276529422382367). You may want to try with a higher value of support_fraction (current value: 0.502).\n",
      "  RuntimeWarning)\n",
      "/anaconda3/lib/python3.6/site-packages/sklearn/covariance/robust_covariance.py:171: RuntimeWarning: Determinant has increased; this should not happen: log(det) > log(previous_det) (197.126586584478218 > 160.138567982390128). You may want to try with a higher value of support_fraction (current value: 0.502).\n",
      "  RuntimeWarning)\n",
      "/anaconda3/lib/python3.6/site-packages/sklearn/covariance/robust_covariance.py:171: RuntimeWarning: Determinant has increased; this should not happen: log(det) > log(previous_det) (193.346286482476273 > 187.494673004375954). You may want to try with a higher value of support_fraction (current value: 0.502).\n",
      "  RuntimeWarning)\n",
      "/anaconda3/lib/python3.6/site-packages/sklearn/covariance/robust_covariance.py:171: RuntimeWarning: Determinant has increased; this should not happen: log(det) > log(previous_det) (178.810719386687708 > 147.167276277232673). You may want to try with a higher value of support_fraction (current value: 0.502).\n",
      "  RuntimeWarning)\n",
      "/anaconda3/lib/python3.6/site-packages/sklearn/covariance/robust_covariance.py:171: RuntimeWarning: Determinant has increased; this should not happen: log(det) > log(previous_det) (214.128517242125639 > 157.969027456753992). You may want to try with a higher value of support_fraction (current value: 0.502).\n",
      "  RuntimeWarning)\n",
      "/anaconda3/lib/python3.6/site-packages/sklearn/covariance/robust_covariance.py:171: RuntimeWarning: Determinant has increased; this should not happen: log(det) > log(previous_det) (217.780213895388272 > 122.578719526518071). You may want to try with a higher value of support_fraction (current value: 0.502).\n",
      "  RuntimeWarning)\n",
      "/anaconda3/lib/python3.6/site-packages/sklearn/covariance/robust_covariance.py:171: RuntimeWarning: Determinant has increased; this should not happen: log(det) > log(previous_det) (171.950582305815004 > 162.353232460569359). You may want to try with a higher value of support_fraction (current value: 0.502).\n",
      "  RuntimeWarning)\n",
      "/anaconda3/lib/python3.6/site-packages/sklearn/covariance/robust_covariance.py:171: RuntimeWarning: Determinant has increased; this should not happen: log(det) > log(previous_det) (181.263702778440887 > 173.592290960632624). You may want to try with a higher value of support_fraction (current value: 0.502).\n",
      "  RuntimeWarning)\n",
      "/anaconda3/lib/python3.6/site-packages/sklearn/covariance/robust_covariance.py:171: RuntimeWarning: Determinant has increased; this should not happen: log(det) > log(previous_det) (158.512774554762387 > 153.517357398612461). You may want to try with a higher value of support_fraction (current value: 0.502).\n",
      "  RuntimeWarning)\n",
      "/anaconda3/lib/python3.6/site-packages/sklearn/covariance/robust_covariance.py:171: RuntimeWarning: Determinant has increased; this should not happen: log(det) > log(previous_det) (197.992078034451907 > 173.652221108265735). You may want to try with a higher value of support_fraction (current value: 0.502).\n",
      "  RuntimeWarning)\n",
      "/anaconda3/lib/python3.6/site-packages/sklearn/covariance/robust_covariance.py:171: RuntimeWarning: Determinant has increased; this should not happen: log(det) > log(previous_det) (199.317559747478981 > 171.053319209168478). You may want to try with a higher value of support_fraction (current value: 0.502).\n",
      "  RuntimeWarning)\n",
      "/anaconda3/lib/python3.6/site-packages/sklearn/covariance/robust_covariance.py:171: RuntimeWarning: Determinant has increased; this should not happen: log(det) > log(previous_det) (172.891519651900467 > 168.138870836071021). You may want to try with a higher value of support_fraction (current value: 0.502).\n",
      "  RuntimeWarning)\n"
     ]
    },
    {
     "name": "stderr",
     "output_type": "stream",
     "text": [
      "/anaconda3/lib/python3.6/site-packages/sklearn/covariance/robust_covariance.py:171: RuntimeWarning: Determinant has increased; this should not happen: log(det) > log(previous_det) (178.421507943189823 > 131.972477587470451). You may want to try with a higher value of support_fraction (current value: 0.502).\n",
      "  RuntimeWarning)\n",
      "/anaconda3/lib/python3.6/site-packages/sklearn/covariance/robust_covariance.py:171: RuntimeWarning: Determinant has increased; this should not happen: log(det) > log(previous_det) (158.173034280833406 > 148.139030120393045). You may want to try with a higher value of support_fraction (current value: 0.502).\n",
      "  RuntimeWarning)\n",
      "/anaconda3/lib/python3.6/site-packages/sklearn/covariance/robust_covariance.py:171: RuntimeWarning: Determinant has increased; this should not happen: log(det) > log(previous_det) (151.775074119897141 > 149.074020918495279). You may want to try with a higher value of support_fraction (current value: 0.502).\n",
      "  RuntimeWarning)\n",
      "/anaconda3/lib/python3.6/site-packages/sklearn/covariance/robust_covariance.py:171: RuntimeWarning: Determinant has increased; this should not happen: log(det) > log(previous_det) (158.173034280833406 > 156.560170159225095). You may want to try with a higher value of support_fraction (current value: 0.502).\n",
      "  RuntimeWarning)\n",
      "/anaconda3/lib/python3.6/site-packages/sklearn/covariance/robust_covariance.py:171: RuntimeWarning: Determinant has increased; this should not happen: log(det) > log(previous_det) (160.228432550632846 > 144.318765315413600). You may want to try with a higher value of support_fraction (current value: 0.502).\n",
      "  RuntimeWarning)\n",
      "/anaconda3/lib/python3.6/site-packages/sklearn/covariance/robust_covariance.py:171: RuntimeWarning: Determinant has increased; this should not happen: log(det) > log(previous_det) (166.393463109495428 > 119.538121221004971). You may want to try with a higher value of support_fraction (current value: 0.502).\n",
      "  RuntimeWarning)\n",
      "/anaconda3/lib/python3.6/site-packages/sklearn/covariance/robust_covariance.py:171: RuntimeWarning: Determinant has increased; this should not happen: log(det) > log(previous_det) (197.489111694104196 > 186.270461491109018). You may want to try with a higher value of support_fraction (current value: 0.502).\n",
      "  RuntimeWarning)\n",
      "/anaconda3/lib/python3.6/site-packages/sklearn/covariance/robust_covariance.py:171: RuntimeWarning: Determinant has increased; this should not happen: log(det) > log(previous_det) (210.455133515388837 > 197.167509578274405). You may want to try with a higher value of support_fraction (current value: 0.502).\n",
      "  RuntimeWarning)\n",
      "/anaconda3/lib/python3.6/site-packages/sklearn/covariance/robust_covariance.py:171: RuntimeWarning: Determinant has increased; this should not happen: log(det) > log(previous_det) (167.585382064913063 > 163.942664757007293). You may want to try with a higher value of support_fraction (current value: 0.502).\n",
      "  RuntimeWarning)\n",
      "/anaconda3/lib/python3.6/site-packages/sklearn/covariance/robust_covariance.py:171: RuntimeWarning: Determinant has increased; this should not happen: log(det) > log(previous_det) (171.349235389977309 > 141.979258373140993). You may want to try with a higher value of support_fraction (current value: 0.502).\n",
      "  RuntimeWarning)\n",
      "/anaconda3/lib/python3.6/site-packages/sklearn/covariance/robust_covariance.py:171: RuntimeWarning: Determinant has increased; this should not happen: log(det) > log(previous_det) (198.121077466218082 > 154.379789515859784). You may want to try with a higher value of support_fraction (current value: 0.502).\n",
      "  RuntimeWarning)\n",
      "/anaconda3/lib/python3.6/site-packages/sklearn/covariance/robust_covariance.py:171: RuntimeWarning: Determinant has increased; this should not happen: log(det) > log(previous_det) (162.810873890244039 > 155.160260800077566). You may want to try with a higher value of support_fraction (current value: 0.502).\n",
      "  RuntimeWarning)\n",
      "/anaconda3/lib/python3.6/site-packages/sklearn/covariance/robust_covariance.py:171: RuntimeWarning: Determinant has increased; this should not happen: log(det) > log(previous_det) (190.714069765281550 > 160.347301379883021). You may want to try with a higher value of support_fraction (current value: 0.502).\n",
      "  RuntimeWarning)\n",
      "/anaconda3/lib/python3.6/site-packages/sklearn/covariance/robust_covariance.py:171: RuntimeWarning: Determinant has increased; this should not happen: log(det) > log(previous_det) (171.577472147913767 > 166.468661946362687). You may want to try with a higher value of support_fraction (current value: 0.502).\n",
      "  RuntimeWarning)\n",
      "/anaconda3/lib/python3.6/site-packages/sklearn/covariance/robust_covariance.py:171: RuntimeWarning: Determinant has increased; this should not happen: log(det) > log(previous_det) (146.833392305775874 > 145.412340490781020). You may want to try with a higher value of support_fraction (current value: 0.502).\n",
      "  RuntimeWarning)\n",
      "/anaconda3/lib/python3.6/site-packages/sklearn/covariance/robust_covariance.py:171: RuntimeWarning: Determinant has increased; this should not happen: log(det) > log(previous_det) (207.002825322154393 > 174.397192406282386). You may want to try with a higher value of support_fraction (current value: 0.502).\n",
      "  RuntimeWarning)\n",
      "/anaconda3/lib/python3.6/site-packages/sklearn/covariance/robust_covariance.py:171: RuntimeWarning: Determinant has increased; this should not happen: log(det) > log(previous_det) (215.292612414411224 > 211.167120687918157). You may want to try with a higher value of support_fraction (current value: 0.502).\n",
      "  RuntimeWarning)\n",
      "/anaconda3/lib/python3.6/site-packages/sklearn/covariance/robust_covariance.py:171: RuntimeWarning: Determinant has increased; this should not happen: log(det) > log(previous_det) (220.455834024566315 > 212.019449487677576). You may want to try with a higher value of support_fraction (current value: 0.502).\n",
      "  RuntimeWarning)\n",
      "/anaconda3/lib/python3.6/site-packages/sklearn/covariance/robust_covariance.py:171: RuntimeWarning: Determinant has increased; this should not happen: log(det) > log(previous_det) (157.598772501650700 > 148.344421753181791). You may want to try with a higher value of support_fraction (current value: 0.502).\n",
      "  RuntimeWarning)\n",
      "/anaconda3/lib/python3.6/site-packages/sklearn/covariance/robust_covariance.py:171: RuntimeWarning: Determinant has increased; this should not happen: log(det) > log(previous_det) (185.952265831732888 > 180.413464416784535). You may want to try with a higher value of support_fraction (current value: 0.502).\n",
      "  RuntimeWarning)\n",
      "/anaconda3/lib/python3.6/site-packages/sklearn/covariance/robust_covariance.py:171: RuntimeWarning: Determinant has increased; this should not happen: log(det) > log(previous_det) (180.972906802822223 > 158.963857668364625). You may want to try with a higher value of support_fraction (current value: 0.502).\n",
      "  RuntimeWarning)\n",
      "/anaconda3/lib/python3.6/site-packages/sklearn/covariance/robust_covariance.py:171: RuntimeWarning: Determinant has increased; this should not happen: log(det) > log(previous_det) (136.197776573312467 > 106.780233364402818). You may want to try with a higher value of support_fraction (current value: 0.502).\n",
      "  RuntimeWarning)\n",
      "/anaconda3/lib/python3.6/site-packages/sklearn/covariance/robust_covariance.py:171: RuntimeWarning: Determinant has increased; this should not happen: log(det) > log(previous_det) (166.779476737777685 > 163.574576843706836). You may want to try with a higher value of support_fraction (current value: 0.502).\n",
      "  RuntimeWarning)\n",
      "/anaconda3/lib/python3.6/site-packages/sklearn/covariance/robust_covariance.py:171: RuntimeWarning: Determinant has increased; this should not happen: log(det) > log(previous_det) (228.356934820251411 > 174.411227061612635). You may want to try with a higher value of support_fraction (current value: 0.502).\n",
      "  RuntimeWarning)\n",
      "/anaconda3/lib/python3.6/site-packages/sklearn/covariance/robust_covariance.py:171: RuntimeWarning: Determinant has increased; this should not happen: log(det) > log(previous_det) (217.443030923283487 > 162.301784486451339). You may want to try with a higher value of support_fraction (current value: 0.502).\n",
      "  RuntimeWarning)\n",
      "/anaconda3/lib/python3.6/site-packages/sklearn/covariance/robust_covariance.py:171: RuntimeWarning: Determinant has increased; this should not happen: log(det) > log(previous_det) (164.339472293622833 > 153.811128095948163). You may want to try with a higher value of support_fraction (current value: 0.502).\n",
      "  RuntimeWarning)\n",
      "/anaconda3/lib/python3.6/site-packages/sklearn/covariance/robust_covariance.py:171: RuntimeWarning: Determinant has increased; this should not happen: log(det) > log(previous_det) (182.003565321537565 > 154.855844804618499). You may want to try with a higher value of support_fraction (current value: 0.502).\n",
      "  RuntimeWarning)\n",
      "/anaconda3/lib/python3.6/site-packages/sklearn/covariance/robust_covariance.py:171: RuntimeWarning: Determinant has increased; this should not happen: log(det) > log(previous_det) (198.825980700439430 > 178.075558661166809). You may want to try with a higher value of support_fraction (current value: 0.502).\n",
      "  RuntimeWarning)\n",
      "/anaconda3/lib/python3.6/site-packages/sklearn/covariance/robust_covariance.py:171: RuntimeWarning: Determinant has increased; this should not happen: log(det) > log(previous_det) (207.877352225238468 > 202.289576782709617). You may want to try with a higher value of support_fraction (current value: 0.502).\n",
      "  RuntimeWarning)\n",
      "/anaconda3/lib/python3.6/site-packages/sklearn/covariance/robust_covariance.py:171: RuntimeWarning: Determinant has increased; this should not happen: log(det) > log(previous_det) (187.131370834656792 > 157.779144415170549). You may want to try with a higher value of support_fraction (current value: 0.502).\n",
      "  RuntimeWarning)\n",
      "/anaconda3/lib/python3.6/site-packages/sklearn/covariance/robust_covariance.py:171: RuntimeWarning: Determinant has increased; this should not happen: log(det) > log(previous_det) (178.496411539100649 > 155.764284473420275). You may want to try with a higher value of support_fraction (current value: 0.502).\n",
      "  RuntimeWarning)\n",
      "/anaconda3/lib/python3.6/site-packages/sklearn/covariance/robust_covariance.py:171: RuntimeWarning: Determinant has increased; this should not happen: log(det) > log(previous_det) (150.240361595840540 > 143.672371818510499). You may want to try with a higher value of support_fraction (current value: 0.502).\n",
      "  RuntimeWarning)\n",
      "/anaconda3/lib/python3.6/site-packages/sklearn/covariance/robust_covariance.py:171: RuntimeWarning: Determinant has increased; this should not happen: log(det) > log(previous_det) (223.390651140213322 > 196.870756954456596). You may want to try with a higher value of support_fraction (current value: 0.502).\n",
      "  RuntimeWarning)\n",
      "/anaconda3/lib/python3.6/site-packages/sklearn/covariance/robust_covariance.py:171: RuntimeWarning: Determinant has increased; this should not happen: log(det) > log(previous_det) (119.254622659325875 > 108.486101645211136). You may want to try with a higher value of support_fraction (current value: 0.502).\n",
      "  RuntimeWarning)\n"
     ]
    },
    {
     "name": "stderr",
     "output_type": "stream",
     "text": [
      "/anaconda3/lib/python3.6/site-packages/sklearn/covariance/robust_covariance.py:171: RuntimeWarning: Determinant has increased; this should not happen: log(det) > log(previous_det) (168.471279770044447 > 159.149105256651666). You may want to try with a higher value of support_fraction (current value: 0.502).\n",
      "  RuntimeWarning)\n",
      "/anaconda3/lib/python3.6/site-packages/sklearn/covariance/robust_covariance.py:171: RuntimeWarning: Determinant has increased; this should not happen: log(det) > log(previous_det) (182.325130612578562 > 139.672067527606288). You may want to try with a higher value of support_fraction (current value: 0.502).\n",
      "  RuntimeWarning)\n",
      "/anaconda3/lib/python3.6/site-packages/sklearn/covariance/robust_covariance.py:171: RuntimeWarning: Determinant has increased; this should not happen: log(det) > log(previous_det) (183.283413536762737 > 176.964569029750805). You may want to try with a higher value of support_fraction (current value: 0.502).\n",
      "  RuntimeWarning)\n",
      "/anaconda3/lib/python3.6/site-packages/sklearn/covariance/robust_covariance.py:171: RuntimeWarning: Determinant has increased; this should not happen: log(det) > log(previous_det) (185.080852171351836 > 176.917716821891588). You may want to try with a higher value of support_fraction (current value: 0.502).\n",
      "  RuntimeWarning)\n",
      "/anaconda3/lib/python3.6/site-packages/sklearn/covariance/robust_covariance.py:171: RuntimeWarning: Determinant has increased; this should not happen: log(det) > log(previous_det) (217.264922823123669 > 207.074046379133677). You may want to try with a higher value of support_fraction (current value: 0.502).\n",
      "  RuntimeWarning)\n",
      "/anaconda3/lib/python3.6/site-packages/sklearn/covariance/robust_covariance.py:171: RuntimeWarning: Determinant has increased; this should not happen: log(det) > log(previous_det) (226.223647321892798 > 192.936770231389744). You may want to try with a higher value of support_fraction (current value: 0.502).\n",
      "  RuntimeWarning)\n",
      "/anaconda3/lib/python3.6/site-packages/sklearn/covariance/robust_covariance.py:171: RuntimeWarning: Determinant has increased; this should not happen: log(det) > log(previous_det) (149.575173275362232 > 143.200247927600884). You may want to try with a higher value of support_fraction (current value: 0.502).\n",
      "  RuntimeWarning)\n",
      "/anaconda3/lib/python3.6/site-packages/sklearn/covariance/robust_covariance.py:171: RuntimeWarning: Determinant has increased; this should not happen: log(det) > log(previous_det) (197.580242978358314 > 172.283819518631873). You may want to try with a higher value of support_fraction (current value: 0.502).\n",
      "  RuntimeWarning)\n",
      "/anaconda3/lib/python3.6/site-packages/sklearn/covariance/robust_covariance.py:171: RuntimeWarning: Determinant has increased; this should not happen: log(det) > log(previous_det) (182.316157806459074 > 179.965181689501151). You may want to try with a higher value of support_fraction (current value: 0.502).\n",
      "  RuntimeWarning)\n",
      "/anaconda3/lib/python3.6/site-packages/sklearn/covariance/robust_covariance.py:171: RuntimeWarning: Determinant has increased; this should not happen: log(det) > log(previous_det) (181.315432588042768 > 112.240552555288161). You may want to try with a higher value of support_fraction (current value: 0.502).\n",
      "  RuntimeWarning)\n",
      "/anaconda3/lib/python3.6/site-packages/sklearn/covariance/robust_covariance.py:171: RuntimeWarning: Determinant has increased; this should not happen: log(det) > log(previous_det) (175.699749348774020 > 146.016099828686521). You may want to try with a higher value of support_fraction (current value: 0.502).\n",
      "  RuntimeWarning)\n",
      "/anaconda3/lib/python3.6/site-packages/sklearn/covariance/robust_covariance.py:171: RuntimeWarning: Determinant has increased; this should not happen: log(det) > log(previous_det) (148.606802045216426 > 108.211353766117071). You may want to try with a higher value of support_fraction (current value: 0.502).\n",
      "  RuntimeWarning)\n",
      "/anaconda3/lib/python3.6/site-packages/sklearn/covariance/robust_covariance.py:171: RuntimeWarning: Determinant has increased; this should not happen: log(det) > log(previous_det) (151.342991786309682 > 136.537005059926685). You may want to try with a higher value of support_fraction (current value: 0.502).\n",
      "  RuntimeWarning)\n",
      "/anaconda3/lib/python3.6/site-packages/sklearn/covariance/robust_covariance.py:171: RuntimeWarning: Determinant has increased; this should not happen: log(det) > log(previous_det) (145.241332254182112 > 132.456955406297681). You may want to try with a higher value of support_fraction (current value: 0.502).\n",
      "  RuntimeWarning)\n",
      "/anaconda3/lib/python3.6/site-packages/sklearn/covariance/robust_covariance.py:171: RuntimeWarning: Determinant has increased; this should not happen: log(det) > log(previous_det) (158.687645733748411 > 158.508468032141593). You may want to try with a higher value of support_fraction (current value: 0.502).\n",
      "  RuntimeWarning)\n",
      "/anaconda3/lib/python3.6/site-packages/sklearn/covariance/robust_covariance.py:171: RuntimeWarning: Determinant has increased; this should not happen: log(det) > log(previous_det) (166.203116376002811 > 150.269640340165950). You may want to try with a higher value of support_fraction (current value: 0.502).\n",
      "  RuntimeWarning)\n",
      "/anaconda3/lib/python3.6/site-packages/sklearn/covariance/robust_covariance.py:171: RuntimeWarning: Determinant has increased; this should not happen: log(det) > log(previous_det) (163.436187811176183 > 158.475468979474272). You may want to try with a higher value of support_fraction (current value: 0.502).\n",
      "  RuntimeWarning)\n",
      "/anaconda3/lib/python3.6/site-packages/sklearn/covariance/robust_covariance.py:171: RuntimeWarning: Determinant has increased; this should not happen: log(det) > log(previous_det) (128.191403871183297 > 101.166830236986314). You may want to try with a higher value of support_fraction (current value: 0.502).\n",
      "  RuntimeWarning)\n",
      "/anaconda3/lib/python3.6/site-packages/sklearn/covariance/robust_covariance.py:171: RuntimeWarning: Determinant has increased; this should not happen: log(det) > log(previous_det) (174.630158219706288 > 163.822164087700571). You may want to try with a higher value of support_fraction (current value: 0.502).\n",
      "  RuntimeWarning)\n",
      "/anaconda3/lib/python3.6/site-packages/sklearn/covariance/robust_covariance.py:171: RuntimeWarning: Determinant has increased; this should not happen: log(det) > log(previous_det) (206.422750883512805 > 186.333357157247747). You may want to try with a higher value of support_fraction (current value: 0.502).\n",
      "  RuntimeWarning)\n",
      "/anaconda3/lib/python3.6/site-packages/sklearn/covariance/robust_covariance.py:171: RuntimeWarning: Determinant has increased; this should not happen: log(det) > log(previous_det) (182.891838545020988 > 171.352236345659946). You may want to try with a higher value of support_fraction (current value: 0.502).\n",
      "  RuntimeWarning)\n",
      "/anaconda3/lib/python3.6/site-packages/sklearn/covariance/robust_covariance.py:171: RuntimeWarning: Determinant has increased; this should not happen: log(det) > log(previous_det) (206.267029640996299 > 201.706994709170743). You may want to try with a higher value of support_fraction (current value: 0.502).\n",
      "  RuntimeWarning)\n",
      "/anaconda3/lib/python3.6/site-packages/sklearn/covariance/robust_covariance.py:171: RuntimeWarning: Determinant has increased; this should not happen: log(det) > log(previous_det) (177.359070565194941 > 162.486201958409083). You may want to try with a higher value of support_fraction (current value: 0.502).\n",
      "  RuntimeWarning)\n",
      "/anaconda3/lib/python3.6/site-packages/sklearn/covariance/robust_covariance.py:171: RuntimeWarning: Determinant has increased; this should not happen: log(det) > log(previous_det) (196.435497698945738 > 149.009602455380559). You may want to try with a higher value of support_fraction (current value: 0.502).\n",
      "  RuntimeWarning)\n",
      "/anaconda3/lib/python3.6/site-packages/sklearn/covariance/robust_covariance.py:171: RuntimeWarning: Determinant has increased; this should not happen: log(det) > log(previous_det) (188.593123479977692 > 172.591484190037448). You may want to try with a higher value of support_fraction (current value: 0.502).\n",
      "  RuntimeWarning)\n",
      "/anaconda3/lib/python3.6/site-packages/sklearn/covariance/robust_covariance.py:171: RuntimeWarning: Determinant has increased; this should not happen: log(det) > log(previous_det) (173.289909314127584 > 151.464418722282176). You may want to try with a higher value of support_fraction (current value: 0.502).\n",
      "  RuntimeWarning)\n",
      "/anaconda3/lib/python3.6/site-packages/sklearn/covariance/robust_covariance.py:171: RuntimeWarning: Determinant has increased; this should not happen: log(det) > log(previous_det) (209.258523471191495 > 151.366736029227013). You may want to try with a higher value of support_fraction (current value: 0.502).\n",
      "  RuntimeWarning)\n",
      "/anaconda3/lib/python3.6/site-packages/sklearn/covariance/robust_covariance.py:171: RuntimeWarning: Determinant has increased; this should not happen: log(det) > log(previous_det) (173.953536713439206 > 160.951429827423965). You may want to try with a higher value of support_fraction (current value: 0.502).\n",
      "  RuntimeWarning)\n",
      "/anaconda3/lib/python3.6/site-packages/sklearn/covariance/robust_covariance.py:171: RuntimeWarning: Determinant has increased; this should not happen: log(det) > log(previous_det) (173.666358203714850 > 157.633517995540103). You may want to try with a higher value of support_fraction (current value: 0.502).\n",
      "  RuntimeWarning)\n",
      "/anaconda3/lib/python3.6/site-packages/sklearn/covariance/robust_covariance.py:171: RuntimeWarning: Determinant has increased; this should not happen: log(det) > log(previous_det) (175.872976760777078 > 135.726536404036608). You may want to try with a higher value of support_fraction (current value: 0.502).\n",
      "  RuntimeWarning)\n",
      "/anaconda3/lib/python3.6/site-packages/sklearn/covariance/robust_covariance.py:171: RuntimeWarning: Determinant has increased; this should not happen: log(det) > log(previous_det) (196.690203375731613 > 190.270590049182289). You may want to try with a higher value of support_fraction (current value: 0.502).\n",
      "  RuntimeWarning)\n",
      "/anaconda3/lib/python3.6/site-packages/sklearn/covariance/robust_covariance.py:171: RuntimeWarning: Determinant has increased; this should not happen: log(det) > log(previous_det) (163.005840353122238 > 153.562227971255936). You may want to try with a higher value of support_fraction (current value: 0.502).\n",
      "  RuntimeWarning)\n",
      "/anaconda3/lib/python3.6/site-packages/sklearn/covariance/robust_covariance.py:171: RuntimeWarning: Determinant has increased; this should not happen: log(det) > log(previous_det) (156.127891261164251 > 149.039950648373377). You may want to try with a higher value of support_fraction (current value: 0.502).\n",
      "  RuntimeWarning)\n",
      "/anaconda3/lib/python3.6/site-packages/sklearn/covariance/robust_covariance.py:171: RuntimeWarning: Determinant has increased; this should not happen: log(det) > log(previous_det) (205.678894886449910 > 195.904817733221705). You may want to try with a higher value of support_fraction (current value: 0.502).\n",
      "  RuntimeWarning)\n",
      "/anaconda3/lib/python3.6/site-packages/sklearn/covariance/robust_covariance.py:171: RuntimeWarning: Determinant has increased; this should not happen: log(det) > log(previous_det) (189.869107959103673 > 161.554724624501858). You may want to try with a higher value of support_fraction (current value: 0.502).\n",
      "  RuntimeWarning)\n",
      "/anaconda3/lib/python3.6/site-packages/sklearn/covariance/robust_covariance.py:171: RuntimeWarning: Determinant has increased; this should not happen: log(det) > log(previous_det) (218.381438349848821 > 166.142100962411519). You may want to try with a higher value of support_fraction (current value: 0.502).\n",
      "  RuntimeWarning)\n",
      "/anaconda3/lib/python3.6/site-packages/sklearn/covariance/robust_covariance.py:171: RuntimeWarning: Determinant has increased; this should not happen: log(det) > log(previous_det) (208.887658022885091 > 133.746202280660583). You may want to try with a higher value of support_fraction (current value: 0.502).\n",
      "  RuntimeWarning)\n",
      "/anaconda3/lib/python3.6/site-packages/sklearn/covariance/robust_covariance.py:171: RuntimeWarning: Determinant has increased; this should not happen: log(det) > log(previous_det) (212.869792808181558 > 196.625106776566753). You may want to try with a higher value of support_fraction (current value: 0.502).\n",
      "  RuntimeWarning)\n",
      "/anaconda3/lib/python3.6/site-packages/sklearn/covariance/robust_covariance.py:171: RuntimeWarning: Determinant has increased; this should not happen: log(det) > log(previous_det) (177.850507735508785 > 157.637257392912517). You may want to try with a higher value of support_fraction (current value: 0.502).\n",
      "  RuntimeWarning)\n",
      "/anaconda3/lib/python3.6/site-packages/sklearn/covariance/robust_covariance.py:171: RuntimeWarning: Determinant has increased; this should not happen: log(det) > log(previous_det) (214.094724628977133 > 183.197632716628391). You may want to try with a higher value of support_fraction (current value: 0.501).\n",
      "  RuntimeWarning)\n",
      "/anaconda3/lib/python3.6/site-packages/sklearn/covariance/robust_covariance.py:171: RuntimeWarning: Determinant has increased; this should not happen: log(det) > log(previous_det) (207.348546625430259 > 182.001008655807652). You may want to try with a higher value of support_fraction (current value: 0.501).\n",
      "  RuntimeWarning)\n"
     ]
    },
    {
     "name": "stderr",
     "output_type": "stream",
     "text": [
      "/anaconda3/lib/python3.6/site-packages/sklearn/covariance/robust_covariance.py:171: RuntimeWarning: Determinant has increased; this should not happen: log(det) > log(previous_det) (201.545422270982868 > 182.661557969439770). You may want to try with a higher value of support_fraction (current value: 0.501).\n",
      "  RuntimeWarning)\n",
      "/anaconda3/lib/python3.6/site-packages/sklearn/covariance/robust_covariance.py:171: RuntimeWarning: Determinant has increased; this should not happen: log(det) > log(previous_det) (207.233703998092778 > 186.865938403371104). You may want to try with a higher value of support_fraction (current value: 0.501).\n",
      "  RuntimeWarning)\n",
      "/anaconda3/lib/python3.6/site-packages/sklearn/covariance/robust_covariance.py:171: RuntimeWarning: Determinant has increased; this should not happen: log(det) > log(previous_det) (200.658496475770761 > 194.274686335393937). You may want to try with a higher value of support_fraction (current value: 0.501).\n",
      "  RuntimeWarning)\n",
      "/anaconda3/lib/python3.6/site-packages/sklearn/covariance/robust_covariance.py:171: RuntimeWarning: Determinant has increased; this should not happen: log(det) > log(previous_det) (202.604958247735084 > 193.165830413907457). You may want to try with a higher value of support_fraction (current value: 0.501).\n",
      "  RuntimeWarning)\n",
      "/anaconda3/lib/python3.6/site-packages/sklearn/covariance/robust_covariance.py:171: RuntimeWarning: Determinant has increased; this should not happen: log(det) > log(previous_det) (178.160965750776199 > 167.860096684616309). You may want to try with a higher value of support_fraction (current value: 0.501).\n",
      "  RuntimeWarning)\n",
      "/anaconda3/lib/python3.6/site-packages/sklearn/covariance/robust_covariance.py:171: RuntimeWarning: Determinant has increased; this should not happen: log(det) > log(previous_det) (213.468706922712386 > 186.687692360914127). You may want to try with a higher value of support_fraction (current value: 0.501).\n",
      "  RuntimeWarning)\n",
      "/anaconda3/lib/python3.6/site-packages/sklearn/covariance/robust_covariance.py:171: RuntimeWarning: Determinant has increased; this should not happen: log(det) > log(previous_det) (227.943598215153401 > 176.258815663485223). You may want to try with a higher value of support_fraction (current value: 0.501).\n",
      "  RuntimeWarning)\n",
      "/anaconda3/lib/python3.6/site-packages/sklearn/covariance/robust_covariance.py:171: RuntimeWarning: Determinant has increased; this should not happen: log(det) > log(previous_det) (215.645731813329832 > 163.385771829138804). You may want to try with a higher value of support_fraction (current value: 0.501).\n",
      "  RuntimeWarning)\n",
      "/anaconda3/lib/python3.6/site-packages/sklearn/covariance/robust_covariance.py:171: RuntimeWarning: Determinant has increased; this should not happen: log(det) > log(previous_det) (237.780698043960768 > 190.737719970742717). You may want to try with a higher value of support_fraction (current value: 0.501).\n",
      "  RuntimeWarning)\n",
      "/anaconda3/lib/python3.6/site-packages/sklearn/covariance/robust_covariance.py:171: RuntimeWarning: Determinant has increased; this should not happen: log(det) > log(previous_det) (194.663625363707013 > 183.903025028089161). You may want to try with a higher value of support_fraction (current value: 0.501).\n",
      "  RuntimeWarning)\n",
      "/anaconda3/lib/python3.6/site-packages/sklearn/covariance/robust_covariance.py:171: RuntimeWarning: Determinant has increased; this should not happen: log(det) > log(previous_det) (242.738389859635845 > 223.522200143913068). You may want to try with a higher value of support_fraction (current value: 0.501).\n",
      "  RuntimeWarning)\n",
      "/anaconda3/lib/python3.6/site-packages/sklearn/covariance/robust_covariance.py:171: RuntimeWarning: Determinant has increased; this should not happen: log(det) > log(previous_det) (199.847930316712421 > 193.212375862815691). You may want to try with a higher value of support_fraction (current value: 0.501).\n",
      "  RuntimeWarning)\n",
      "/anaconda3/lib/python3.6/site-packages/sklearn/covariance/robust_covariance.py:171: RuntimeWarning: Determinant has increased; this should not happen: log(det) > log(previous_det) (224.068425873895194 > 208.197435006444636). You may want to try with a higher value of support_fraction (current value: 0.501).\n",
      "  RuntimeWarning)\n",
      "/anaconda3/lib/python3.6/site-packages/sklearn/covariance/robust_covariance.py:171: RuntimeWarning: Determinant has increased; this should not happen: log(det) > log(previous_det) (237.945046323935173 > 218.384366509721445). You may want to try with a higher value of support_fraction (current value: 0.501).\n",
      "  RuntimeWarning)\n",
      "/anaconda3/lib/python3.6/site-packages/sklearn/covariance/robust_covariance.py:171: RuntimeWarning: Determinant has increased; this should not happen: log(det) > log(previous_det) (179.125792257278334 > 176.136543954913634). You may want to try with a higher value of support_fraction (current value: 0.501).\n",
      "  RuntimeWarning)\n",
      "/anaconda3/lib/python3.6/site-packages/sklearn/covariance/robust_covariance.py:171: RuntimeWarning: Determinant has increased; this should not happen: log(det) > log(previous_det) (194.250926372287722 > 174.927938669309839). You may want to try with a higher value of support_fraction (current value: 0.501).\n",
      "  RuntimeWarning)\n",
      "/anaconda3/lib/python3.6/site-packages/sklearn/covariance/robust_covariance.py:171: RuntimeWarning: Determinant has increased; this should not happen: log(det) > log(previous_det) (200.209903868949368 > 190.305469126456558). You may want to try with a higher value of support_fraction (current value: 0.501).\n",
      "  RuntimeWarning)\n",
      "/anaconda3/lib/python3.6/site-packages/sklearn/covariance/robust_covariance.py:171: RuntimeWarning: Determinant has increased; this should not happen: log(det) > log(previous_det) (225.788652629056514 > 216.670418272771599). You may want to try with a higher value of support_fraction (current value: 0.501).\n",
      "  RuntimeWarning)\n",
      "/anaconda3/lib/python3.6/site-packages/sklearn/covariance/robust_covariance.py:171: RuntimeWarning: Determinant has increased; this should not happen: log(det) > log(previous_det) (212.781063442576823 > 193.191414249133459). You may want to try with a higher value of support_fraction (current value: 0.501).\n",
      "  RuntimeWarning)\n",
      "/anaconda3/lib/python3.6/site-packages/sklearn/covariance/robust_covariance.py:171: RuntimeWarning: Determinant has increased; this should not happen: log(det) > log(previous_det) (191.674755509830931 > 179.284917249836724). You may want to try with a higher value of support_fraction (current value: 0.501).\n",
      "  RuntimeWarning)\n",
      "/anaconda3/lib/python3.6/site-packages/sklearn/covariance/robust_covariance.py:171: RuntimeWarning: Determinant has increased; this should not happen: log(det) > log(previous_det) (180.663948071761666 > 178.420596488265573). You may want to try with a higher value of support_fraction (current value: 0.501).\n",
      "  RuntimeWarning)\n",
      "/anaconda3/lib/python3.6/site-packages/sklearn/covariance/robust_covariance.py:171: RuntimeWarning: Determinant has increased; this should not happen: log(det) > log(previous_det) (220.165400290423463 > 210.472964683414489). You may want to try with a higher value of support_fraction (current value: 0.501).\n",
      "  RuntimeWarning)\n",
      "/anaconda3/lib/python3.6/site-packages/sklearn/covariance/robust_covariance.py:171: RuntimeWarning: Determinant has increased; this should not happen: log(det) > log(previous_det) (198.420960256960825 > 188.255344132576539). You may want to try with a higher value of support_fraction (current value: 0.501).\n",
      "  RuntimeWarning)\n",
      "/anaconda3/lib/python3.6/site-packages/sklearn/covariance/robust_covariance.py:171: RuntimeWarning: Determinant has increased; this should not happen: log(det) > log(previous_det) (240.836670755620361 > 188.318163964490282). You may want to try with a higher value of support_fraction (current value: 0.501).\n",
      "  RuntimeWarning)\n",
      "/anaconda3/lib/python3.6/site-packages/sklearn/covariance/robust_covariance.py:171: RuntimeWarning: Determinant has increased; this should not happen: log(det) > log(previous_det) (239.505093179859387 > 191.327070968021218). You may want to try with a higher value of support_fraction (current value: 0.501).\n",
      "  RuntimeWarning)\n",
      "/anaconda3/lib/python3.6/site-packages/sklearn/covariance/robust_covariance.py:171: RuntimeWarning: Determinant has increased; this should not happen: log(det) > log(previous_det) (230.962160778833237 > 183.914718727889834). You may want to try with a higher value of support_fraction (current value: 0.501).\n",
      "  RuntimeWarning)\n",
      "/anaconda3/lib/python3.6/site-packages/sklearn/covariance/robust_covariance.py:171: RuntimeWarning: Determinant has increased; this should not happen: log(det) > log(previous_det) (203.615796997065303 > 190.304012449548736). You may want to try with a higher value of support_fraction (current value: 0.501).\n",
      "  RuntimeWarning)\n",
      "/anaconda3/lib/python3.6/site-packages/sklearn/covariance/robust_covariance.py:171: RuntimeWarning: Determinant has increased; this should not happen: log(det) > log(previous_det) (200.214486851114231 > 190.134536403793277). You may want to try with a higher value of support_fraction (current value: 0.501).\n",
      "  RuntimeWarning)\n",
      "/anaconda3/lib/python3.6/site-packages/sklearn/covariance/robust_covariance.py:171: RuntimeWarning: Determinant has increased; this should not happen: log(det) > log(previous_det) (224.091947900052872 > 216.446534202005552). You may want to try with a higher value of support_fraction (current value: 0.501).\n",
      "  RuntimeWarning)\n",
      "/anaconda3/lib/python3.6/site-packages/sklearn/covariance/robust_covariance.py:171: RuntimeWarning: Determinant has increased; this should not happen: log(det) > log(previous_det) (234.168524134276112 > 189.064755008333861). You may want to try with a higher value of support_fraction (current value: 0.501).\n",
      "  RuntimeWarning)\n",
      "/anaconda3/lib/python3.6/site-packages/sklearn/covariance/robust_covariance.py:171: RuntimeWarning: Determinant has increased; this should not happen: log(det) > log(previous_det) (200.789531766202145 > 177.221973765269013). You may want to try with a higher value of support_fraction (current value: 0.501).\n",
      "  RuntimeWarning)\n",
      "/anaconda3/lib/python3.6/site-packages/sklearn/covariance/robust_covariance.py:171: RuntimeWarning: Determinant has increased; this should not happen: log(det) > log(previous_det) (215.202575246198478 > 187.462222149490145). You may want to try with a higher value of support_fraction (current value: 0.501).\n",
      "  RuntimeWarning)\n",
      "/anaconda3/lib/python3.6/site-packages/sklearn/covariance/robust_covariance.py:171: RuntimeWarning: Determinant has increased; this should not happen: log(det) > log(previous_det) (247.176525480808863 > 191.159938409705148). You may want to try with a higher value of support_fraction (current value: 0.501).\n",
      "  RuntimeWarning)\n",
      "/anaconda3/lib/python3.6/site-packages/sklearn/covariance/robust_covariance.py:171: RuntimeWarning: Determinant has increased; this should not happen: log(det) > log(previous_det) (198.868404897196456 > 190.827998110402490). You may want to try with a higher value of support_fraction (current value: 0.501).\n",
      "  RuntimeWarning)\n",
      "/anaconda3/lib/python3.6/site-packages/sklearn/covariance/robust_covariance.py:171: RuntimeWarning: Determinant has increased; this should not happen: log(det) > log(previous_det) (207.006646049806790 > 193.078013051328639). You may want to try with a higher value of support_fraction (current value: 0.501).\n",
      "  RuntimeWarning)\n",
      "/anaconda3/lib/python3.6/site-packages/sklearn/covariance/robust_covariance.py:171: RuntimeWarning: Determinant has increased; this should not happen: log(det) > log(previous_det) (230.136766085995561 > 207.684719121859672). You may want to try with a higher value of support_fraction (current value: 0.501).\n",
      "  RuntimeWarning)\n",
      "/anaconda3/lib/python3.6/site-packages/sklearn/covariance/robust_covariance.py:171: RuntimeWarning: Determinant has increased; this should not happen: log(det) > log(previous_det) (209.837299614382317 > 186.226993873423737). You may want to try with a higher value of support_fraction (current value: 0.501).\n",
      "  RuntimeWarning)\n",
      "/anaconda3/lib/python3.6/site-packages/sklearn/covariance/robust_covariance.py:171: RuntimeWarning: Determinant has increased; this should not happen: log(det) > log(previous_det) (192.818539110696918 > 178.597084321771433). You may want to try with a higher value of support_fraction (current value: 0.501).\n",
      "  RuntimeWarning)\n",
      "/anaconda3/lib/python3.6/site-packages/sklearn/covariance/robust_covariance.py:171: RuntimeWarning: Determinant has increased; this should not happen: log(det) > log(previous_det) (225.310530625953817 > 187.671572320325708). You may want to try with a higher value of support_fraction (current value: 0.501).\n",
      "  RuntimeWarning)\n",
      "/anaconda3/lib/python3.6/site-packages/sklearn/covariance/robust_covariance.py:171: RuntimeWarning: Determinant has increased; this should not happen: log(det) > log(previous_det) (228.168941080503174 > 173.968761512636235). You may want to try with a higher value of support_fraction (current value: 0.501).\n",
      "  RuntimeWarning)\n",
      "/anaconda3/lib/python3.6/site-packages/sklearn/covariance/robust_covariance.py:171: RuntimeWarning: Determinant has increased; this should not happen: log(det) > log(previous_det) (220.135675818339990 > 177.798418106382229). You may want to try with a higher value of support_fraction (current value: 0.501).\n",
      "  RuntimeWarning)\n"
     ]
    },
    {
     "name": "stderr",
     "output_type": "stream",
     "text": [
      "/anaconda3/lib/python3.6/site-packages/sklearn/covariance/robust_covariance.py:171: RuntimeWarning: Determinant has increased; this should not happen: log(det) > log(previous_det) (207.606097693539539 > 199.161877649788920). You may want to try with a higher value of support_fraction (current value: 0.501).\n",
      "  RuntimeWarning)\n",
      "/anaconda3/lib/python3.6/site-packages/sklearn/covariance/robust_covariance.py:171: RuntimeWarning: Determinant has increased; this should not happen: log(det) > log(previous_det) (222.675823068835768 > 215.006238131849045). You may want to try with a higher value of support_fraction (current value: 0.501).\n",
      "  RuntimeWarning)\n",
      "/anaconda3/lib/python3.6/site-packages/sklearn/covariance/robust_covariance.py:171: RuntimeWarning: Determinant has increased; this should not happen: log(det) > log(previous_det) (232.401559451565134 > 214.084782406510612). You may want to try with a higher value of support_fraction (current value: 0.501).\n",
      "  RuntimeWarning)\n",
      "/anaconda3/lib/python3.6/site-packages/sklearn/covariance/robust_covariance.py:171: RuntimeWarning: Determinant has increased; this should not happen: log(det) > log(previous_det) (200.796564556127606 > 192.959304615927124). You may want to try with a higher value of support_fraction (current value: 0.501).\n",
      "  RuntimeWarning)\n",
      "/anaconda3/lib/python3.6/site-packages/sklearn/covariance/robust_covariance.py:171: RuntimeWarning: Determinant has increased; this should not happen: log(det) > log(previous_det) (242.363002969639581 > 187.203208154400500). You may want to try with a higher value of support_fraction (current value: 0.501).\n",
      "  RuntimeWarning)\n",
      "/anaconda3/lib/python3.6/site-packages/sklearn/covariance/robust_covariance.py:171: RuntimeWarning: Determinant has increased; this should not happen: log(det) > log(previous_det) (242.591464446043744 > 202.301549417080594). You may want to try with a higher value of support_fraction (current value: 0.501).\n",
      "  RuntimeWarning)\n",
      "/anaconda3/lib/python3.6/site-packages/sklearn/covariance/robust_covariance.py:171: RuntimeWarning: Determinant has increased; this should not happen: log(det) > log(previous_det) (234.242864385929010 > 196.292509473489758). You may want to try with a higher value of support_fraction (current value: 0.501).\n",
      "  RuntimeWarning)\n",
      "/anaconda3/lib/python3.6/site-packages/sklearn/covariance/robust_covariance.py:171: RuntimeWarning: Determinant has increased; this should not happen: log(det) > log(previous_det) (224.442419193163886 > 208.096482447270603). You may want to try with a higher value of support_fraction (current value: 0.501).\n",
      "  RuntimeWarning)\n",
      "/anaconda3/lib/python3.6/site-packages/sklearn/covariance/robust_covariance.py:171: RuntimeWarning: Determinant has increased; this should not happen: log(det) > log(previous_det) (205.014447755211279 > 171.563833613708965). You may want to try with a higher value of support_fraction (current value: 0.501).\n",
      "  RuntimeWarning)\n",
      "/anaconda3/lib/python3.6/site-packages/sklearn/covariance/robust_covariance.py:171: RuntimeWarning: Determinant has increased; this should not happen: log(det) > log(previous_det) (176.680289971381029 > 167.023926086601847). You may want to try with a higher value of support_fraction (current value: 0.501).\n",
      "  RuntimeWarning)\n",
      "/anaconda3/lib/python3.6/site-packages/sklearn/covariance/robust_covariance.py:171: RuntimeWarning: Determinant has increased; this should not happen: log(det) > log(previous_det) (226.539787231072722 > 223.875528404015171). You may want to try with a higher value of support_fraction (current value: 0.501).\n",
      "  RuntimeWarning)\n",
      "/anaconda3/lib/python3.6/site-packages/sklearn/covariance/robust_covariance.py:171: RuntimeWarning: Determinant has increased; this should not happen: log(det) > log(previous_det) (237.022195124154422 > 214.862725505418354). You may want to try with a higher value of support_fraction (current value: 0.501).\n",
      "  RuntimeWarning)\n",
      "/anaconda3/lib/python3.6/site-packages/sklearn/covariance/robust_covariance.py:171: RuntimeWarning: Determinant has increased; this should not happen: log(det) > log(previous_det) (188.001921496641415 > 182.339434350654415). You may want to try with a higher value of support_fraction (current value: 0.501).\n",
      "  RuntimeWarning)\n",
      "/anaconda3/lib/python3.6/site-packages/sklearn/covariance/robust_covariance.py:171: RuntimeWarning: Determinant has increased; this should not happen: log(det) > log(previous_det) (229.022403994081202 > 173.127980145448959). You may want to try with a higher value of support_fraction (current value: 0.501).\n",
      "  RuntimeWarning)\n",
      "/anaconda3/lib/python3.6/site-packages/sklearn/covariance/robust_covariance.py:171: RuntimeWarning: Determinant has increased; this should not happen: log(det) > log(previous_det) (197.322067031997165 > 175.659581564601126). You may want to try with a higher value of support_fraction (current value: 0.501).\n",
      "  RuntimeWarning)\n",
      "/anaconda3/lib/python3.6/site-packages/sklearn/covariance/robust_covariance.py:171: RuntimeWarning: Determinant has increased; this should not happen: log(det) > log(previous_det) (208.515462495525782 > 193.747784827441848). You may want to try with a higher value of support_fraction (current value: 0.501).\n",
      "  RuntimeWarning)\n",
      "/anaconda3/lib/python3.6/site-packages/sklearn/covariance/robust_covariance.py:171: RuntimeWarning: Determinant has increased; this should not happen: log(det) > log(previous_det) (192.676154297294374 > 172.839859357713010). You may want to try with a higher value of support_fraction (current value: 0.501).\n",
      "  RuntimeWarning)\n",
      "/anaconda3/lib/python3.6/site-packages/sklearn/covariance/robust_covariance.py:171: RuntimeWarning: Determinant has increased; this should not happen: log(det) > log(previous_det) (240.464373601289140 > 231.058429185653722). You may want to try with a higher value of support_fraction (current value: 0.501).\n",
      "  RuntimeWarning)\n",
      "/anaconda3/lib/python3.6/site-packages/sklearn/covariance/robust_covariance.py:171: RuntimeWarning: Determinant has increased; this should not happen: log(det) > log(previous_det) (221.914072948673351 > 182.137246339248549). You may want to try with a higher value of support_fraction (current value: 0.501).\n",
      "  RuntimeWarning)\n",
      "/anaconda3/lib/python3.6/site-packages/sklearn/covariance/robust_covariance.py:171: RuntimeWarning: Determinant has increased; this should not happen: log(det) > log(previous_det) (178.672076898121873 > 168.901814700061323). You may want to try with a higher value of support_fraction (current value: 0.501).\n",
      "  RuntimeWarning)\n",
      "/anaconda3/lib/python3.6/site-packages/sklearn/covariance/robust_covariance.py:171: RuntimeWarning: Determinant has increased; this should not happen: log(det) > log(previous_det) (193.047678488409645 > 186.987462101262395). You may want to try with a higher value of support_fraction (current value: 0.501).\n",
      "  RuntimeWarning)\n",
      "/anaconda3/lib/python3.6/site-packages/sklearn/covariance/robust_covariance.py:171: RuntimeWarning: Determinant has increased; this should not happen: log(det) > log(previous_det) (189.959874917941590 > 172.618645041755485). You may want to try with a higher value of support_fraction (current value: 0.501).\n",
      "  RuntimeWarning)\n",
      "/anaconda3/lib/python3.6/site-packages/sklearn/covariance/robust_covariance.py:171: RuntimeWarning: Determinant has increased; this should not happen: log(det) > log(previous_det) (191.199378066875823 > 177.987398152680527). You may want to try with a higher value of support_fraction (current value: 0.501).\n",
      "  RuntimeWarning)\n",
      "/anaconda3/lib/python3.6/site-packages/sklearn/covariance/robust_covariance.py:171: RuntimeWarning: Determinant has increased; this should not happen: log(det) > log(previous_det) (246.370331241078674 > 190.722835508668595). You may want to try with a higher value of support_fraction (current value: 0.501).\n",
      "  RuntimeWarning)\n",
      "/anaconda3/lib/python3.6/site-packages/sklearn/covariance/robust_covariance.py:171: RuntimeWarning: Determinant has increased; this should not happen: log(det) > log(previous_det) (238.416666644523758 > 220.406076913503739). You may want to try with a higher value of support_fraction (current value: 0.501).\n",
      "  RuntimeWarning)\n",
      "/anaconda3/lib/python3.6/site-packages/sklearn/covariance/robust_covariance.py:171: RuntimeWarning: Determinant has increased; this should not happen: log(det) > log(previous_det) (209.764541295734233 > 202.415773707838895). You may want to try with a higher value of support_fraction (current value: 0.501).\n",
      "  RuntimeWarning)\n",
      "/anaconda3/lib/python3.6/site-packages/sklearn/covariance/robust_covariance.py:171: RuntimeWarning: Determinant has increased; this should not happen: log(det) > log(previous_det) (208.471256289688995 > 183.007006951596651). You may want to try with a higher value of support_fraction (current value: 0.501).\n",
      "  RuntimeWarning)\n",
      "/anaconda3/lib/python3.6/site-packages/sklearn/covariance/robust_covariance.py:171: RuntimeWarning: Determinant has increased; this should not happen: log(det) > log(previous_det) (225.941888963182521 > 219.046558185832737). You may want to try with a higher value of support_fraction (current value: 0.501).\n",
      "  RuntimeWarning)\n",
      "/anaconda3/lib/python3.6/site-packages/sklearn/covariance/robust_covariance.py:171: RuntimeWarning: Determinant has increased; this should not happen: log(det) > log(previous_det) (225.417035643077611 > 221.152848811663489). You may want to try with a higher value of support_fraction (current value: 0.501).\n",
      "  RuntimeWarning)\n",
      "/anaconda3/lib/python3.6/site-packages/sklearn/covariance/robust_covariance.py:171: RuntimeWarning: Determinant has increased; this should not happen: log(det) > log(previous_det) (235.658025818196506 > 232.036925440785211). You may want to try with a higher value of support_fraction (current value: 0.501).\n",
      "  RuntimeWarning)\n",
      "/anaconda3/lib/python3.6/site-packages/sklearn/covariance/robust_covariance.py:171: RuntimeWarning: Determinant has increased; this should not happen: log(det) > log(previous_det) (216.324995011228822 > 209.630559851529711). You may want to try with a higher value of support_fraction (current value: 0.501).\n",
      "  RuntimeWarning)\n",
      "/anaconda3/lib/python3.6/site-packages/sklearn/covariance/robust_covariance.py:171: RuntimeWarning: Determinant has increased; this should not happen: log(det) > log(previous_det) (241.672435240309824 > 222.513102961129846). You may want to try with a higher value of support_fraction (current value: 0.501).\n",
      "  RuntimeWarning)\n",
      "/anaconda3/lib/python3.6/site-packages/sklearn/covariance/robust_covariance.py:171: RuntimeWarning: Determinant has increased; this should not happen: log(det) > log(previous_det) (185.495560705642163 > 181.335395246615178). You may want to try with a higher value of support_fraction (current value: 0.501).\n",
      "  RuntimeWarning)\n",
      "/anaconda3/lib/python3.6/site-packages/sklearn/covariance/robust_covariance.py:171: RuntimeWarning: Determinant has increased; this should not happen: log(det) > log(previous_det) (175.202648296427952 > 166.989135085474345). You may want to try with a higher value of support_fraction (current value: 0.501).\n",
      "  RuntimeWarning)\n",
      "/anaconda3/lib/python3.6/site-packages/sklearn/covariance/robust_covariance.py:171: RuntimeWarning: Determinant has increased; this should not happen: log(det) > log(previous_det) (181.681132115708039 > 173.371786164312056). You may want to try with a higher value of support_fraction (current value: 0.501).\n",
      "  RuntimeWarning)\n",
      "/anaconda3/lib/python3.6/site-packages/sklearn/covariance/robust_covariance.py:171: RuntimeWarning: Determinant has increased; this should not happen: log(det) > log(previous_det) (228.126741137996049 > 189.626796065391318). You may want to try with a higher value of support_fraction (current value: 0.501).\n",
      "  RuntimeWarning)\n"
     ]
    },
    {
     "name": "stderr",
     "output_type": "stream",
     "text": [
      "/anaconda3/lib/python3.6/site-packages/sklearn/covariance/robust_covariance.py:171: RuntimeWarning: Determinant has increased; this should not happen: log(det) > log(previous_det) (233.205423975969353 > 181.337788006675709). You may want to try with a higher value of support_fraction (current value: 0.501).\n",
      "  RuntimeWarning)\n",
      "/anaconda3/lib/python3.6/site-packages/sklearn/covariance/robust_covariance.py:171: RuntimeWarning: Determinant has increased; this should not happen: log(det) > log(previous_det) (245.773699886683488 > 186.131414629308779). You may want to try with a higher value of support_fraction (current value: 0.501).\n",
      "  RuntimeWarning)\n",
      "/anaconda3/lib/python3.6/site-packages/sklearn/covariance/robust_covariance.py:171: RuntimeWarning: Determinant has increased; this should not happen: log(det) > log(previous_det) (224.176347493290649 > 223.503242245738278). You may want to try with a higher value of support_fraction (current value: 0.501).\n",
      "  RuntimeWarning)\n",
      "/anaconda3/lib/python3.6/site-packages/sklearn/covariance/robust_covariance.py:171: RuntimeWarning: Determinant has increased; this should not happen: log(det) > log(previous_det) (226.183926775851944 > 171.754223471526359). You may want to try with a higher value of support_fraction (current value: 0.501).\n",
      "  RuntimeWarning)\n",
      "/anaconda3/lib/python3.6/site-packages/sklearn/covariance/robust_covariance.py:171: RuntimeWarning: Determinant has increased; this should not happen: log(det) > log(previous_det) (202.822964358733714 > 195.232652470412091). You may want to try with a higher value of support_fraction (current value: 0.501).\n",
      "  RuntimeWarning)\n",
      "/anaconda3/lib/python3.6/site-packages/sklearn/covariance/robust_covariance.py:171: RuntimeWarning: Determinant has increased; this should not happen: log(det) > log(previous_det) (227.219062054298718 > 187.802746240936642). You may want to try with a higher value of support_fraction (current value: 0.501).\n",
      "  RuntimeWarning)\n",
      "/anaconda3/lib/python3.6/site-packages/sklearn/covariance/robust_covariance.py:171: RuntimeWarning: Determinant has increased; this should not happen: log(det) > log(previous_det) (193.260738220593822 > 177.996563438938040). You may want to try with a higher value of support_fraction (current value: 0.501).\n",
      "  RuntimeWarning)\n",
      "/anaconda3/lib/python3.6/site-packages/sklearn/covariance/robust_covariance.py:171: RuntimeWarning: Determinant has increased; this should not happen: log(det) > log(previous_det) (235.796713104607250 > 184.077178216424983). You may want to try with a higher value of support_fraction (current value: 0.501).\n",
      "  RuntimeWarning)\n",
      "/anaconda3/lib/python3.6/site-packages/sklearn/covariance/robust_covariance.py:171: RuntimeWarning: Determinant has increased; this should not happen: log(det) > log(previous_det) (235.325408625430214 > 193.379494474751169). You may want to try with a higher value of support_fraction (current value: 0.501).\n",
      "  RuntimeWarning)\n",
      "/anaconda3/lib/python3.6/site-packages/sklearn/covariance/robust_covariance.py:171: RuntimeWarning: Determinant has increased; this should not happen: log(det) > log(previous_det) (210.292632767070188 > 183.239601220389176). You may want to try with a higher value of support_fraction (current value: 0.501).\n",
      "  RuntimeWarning)\n",
      "/anaconda3/lib/python3.6/site-packages/sklearn/covariance/robust_covariance.py:171: RuntimeWarning: Determinant has increased; this should not happen: log(det) > log(previous_det) (232.742200678827714 > 172.456239313790832). You may want to try with a higher value of support_fraction (current value: 0.501).\n",
      "  RuntimeWarning)\n",
      "/anaconda3/lib/python3.6/site-packages/sklearn/covariance/robust_covariance.py:171: RuntimeWarning: Determinant has increased; this should not happen: log(det) > log(previous_det) (190.292179725176311 > 180.391415476472133). You may want to try with a higher value of support_fraction (current value: 0.501).\n",
      "  RuntimeWarning)\n",
      "/anaconda3/lib/python3.6/site-packages/sklearn/covariance/robust_covariance.py:171: RuntimeWarning: Determinant has increased; this should not happen: log(det) > log(previous_det) (191.094198145827306 > 175.970040277792890). You may want to try with a higher value of support_fraction (current value: 0.501).\n",
      "  RuntimeWarning)\n",
      "/anaconda3/lib/python3.6/site-packages/sklearn/covariance/robust_covariance.py:171: RuntimeWarning: Determinant has increased; this should not happen: log(det) > log(previous_det) (189.006236429830949 > 176.691902537100617). You may want to try with a higher value of support_fraction (current value: 0.501).\n",
      "  RuntimeWarning)\n",
      "/anaconda3/lib/python3.6/site-packages/sklearn/covariance/robust_covariance.py:171: RuntimeWarning: Determinant has increased; this should not happen: log(det) > log(previous_det) (192.131667008366094 > 180.058413413914252). You may want to try with a higher value of support_fraction (current value: 0.501).\n",
      "  RuntimeWarning)\n",
      "/anaconda3/lib/python3.6/site-packages/sklearn/covariance/robust_covariance.py:171: RuntimeWarning: Determinant has increased; this should not happen: log(det) > log(previous_det) (181.200770691130003 > 171.795937888466455). You may want to try with a higher value of support_fraction (current value: 0.501).\n",
      "  RuntimeWarning)\n",
      "/anaconda3/lib/python3.6/site-packages/sklearn/covariance/robust_covariance.py:171: RuntimeWarning: Determinant has increased; this should not happen: log(det) > log(previous_det) (186.955889521523005 > 182.349144806773836). You may want to try with a higher value of support_fraction (current value: 0.501).\n",
      "  RuntimeWarning)\n",
      "/anaconda3/lib/python3.6/site-packages/sklearn/covariance/robust_covariance.py:171: RuntimeWarning: Determinant has increased; this should not happen: log(det) > log(previous_det) (179.691530932585351 > 170.495094315202351). You may want to try with a higher value of support_fraction (current value: 0.501).\n",
      "  RuntimeWarning)\n",
      "/anaconda3/lib/python3.6/site-packages/sklearn/covariance/robust_covariance.py:171: RuntimeWarning: Determinant has increased; this should not happen: log(det) > log(previous_det) (239.068510712618405 > 191.097892414893352). You may want to try with a higher value of support_fraction (current value: 0.501).\n",
      "  RuntimeWarning)\n",
      "/anaconda3/lib/python3.6/site-packages/sklearn/covariance/robust_covariance.py:171: RuntimeWarning: Determinant has increased; this should not happen: log(det) > log(previous_det) (238.350566584297411 > 231.795490110499600). You may want to try with a higher value of support_fraction (current value: 0.501).\n",
      "  RuntimeWarning)\n",
      "/anaconda3/lib/python3.6/site-packages/sklearn/covariance/robust_covariance.py:171: RuntimeWarning: Determinant has increased; this should not happen: log(det) > log(previous_det) (203.843720213140870 > 188.409852835988943). You may want to try with a higher value of support_fraction (current value: 0.501).\n",
      "  RuntimeWarning)\n",
      "/anaconda3/lib/python3.6/site-packages/sklearn/covariance/robust_covariance.py:171: RuntimeWarning: Determinant has increased; this should not happen: log(det) > log(previous_det) (242.990971301538679 > 188.336071508690964). You may want to try with a higher value of support_fraction (current value: 0.501).\n",
      "  RuntimeWarning)\n",
      "/anaconda3/lib/python3.6/site-packages/sklearn/covariance/robust_covariance.py:171: RuntimeWarning: Determinant has increased; this should not happen: log(det) > log(previous_det) (244.239684139825329 > 186.405463935591456). You may want to try with a higher value of support_fraction (current value: 0.501).\n",
      "  RuntimeWarning)\n",
      "/anaconda3/lib/python3.6/site-packages/sklearn/covariance/robust_covariance.py:171: RuntimeWarning: Determinant has increased; this should not happen: log(det) > log(previous_det) (187.978944466514463 > 179.494139762250654). You may want to try with a higher value of support_fraction (current value: 0.501).\n",
      "  RuntimeWarning)\n",
      "/anaconda3/lib/python3.6/site-packages/sklearn/covariance/robust_covariance.py:171: RuntimeWarning: Determinant has increased; this should not happen: log(det) > log(previous_det) (221.147687286446001 > 178.317427124921323). You may want to try with a higher value of support_fraction (current value: 0.501).\n",
      "  RuntimeWarning)\n",
      "/anaconda3/lib/python3.6/site-packages/sklearn/covariance/robust_covariance.py:171: RuntimeWarning: Determinant has increased; this should not happen: log(det) > log(previous_det) (181.166690615822802 > 169.076965865649129). You may want to try with a higher value of support_fraction (current value: 0.501).\n",
      "  RuntimeWarning)\n",
      "/anaconda3/lib/python3.6/site-packages/sklearn/covariance/robust_covariance.py:171: RuntimeWarning: Determinant has increased; this should not happen: log(det) > log(previous_det) (233.815132003776966 > 228.806365796602279). You may want to try with a higher value of support_fraction (current value: 0.501).\n",
      "  RuntimeWarning)\n",
      "/anaconda3/lib/python3.6/site-packages/sklearn/covariance/robust_covariance.py:171: RuntimeWarning: Determinant has increased; this should not happen: log(det) > log(previous_det) (213.240907857496779 > 173.848963405209616). You may want to try with a higher value of support_fraction (current value: 0.501).\n",
      "  RuntimeWarning)\n",
      "/anaconda3/lib/python3.6/site-packages/sklearn/covariance/robust_covariance.py:171: RuntimeWarning: Determinant has increased; this should not happen: log(det) > log(previous_det) (224.511578098054230 > 181.278764959977764). You may want to try with a higher value of support_fraction (current value: 0.501).\n",
      "  RuntimeWarning)\n",
      "/anaconda3/lib/python3.6/site-packages/sklearn/covariance/robust_covariance.py:171: RuntimeWarning: Determinant has increased; this should not happen: log(det) > log(previous_det) (189.279639919416411 > 178.161344471502133). You may want to try with a higher value of support_fraction (current value: 0.501).\n",
      "  RuntimeWarning)\n",
      "/anaconda3/lib/python3.6/site-packages/sklearn/covariance/robust_covariance.py:171: RuntimeWarning: Determinant has increased; this should not happen: log(det) > log(previous_det) (233.731610590559853 > 175.627538899317813). You may want to try with a higher value of support_fraction (current value: 0.501).\n",
      "  RuntimeWarning)\n",
      "/anaconda3/lib/python3.6/site-packages/sklearn/covariance/robust_covariance.py:171: RuntimeWarning: Determinant has increased; this should not happen: log(det) > log(previous_det) (223.681036499209540 > 179.055627581806334). You may want to try with a higher value of support_fraction (current value: 0.501).\n",
      "  RuntimeWarning)\n",
      "/anaconda3/lib/python3.6/site-packages/sklearn/covariance/robust_covariance.py:171: RuntimeWarning: Determinant has increased; this should not happen: log(det) > log(previous_det) (246.416180578287822 > 190.781719015814048). You may want to try with a higher value of support_fraction (current value: 0.501).\n",
      "  RuntimeWarning)\n"
     ]
    },
    {
     "name": "stderr",
     "output_type": "stream",
     "text": [
      "/anaconda3/lib/python3.6/site-packages/sklearn/covariance/robust_covariance.py:171: RuntimeWarning: Determinant has increased; this should not happen: log(det) > log(previous_det) (205.975679766278688 > 184.537941160221408). You may want to try with a higher value of support_fraction (current value: 0.501).\n",
      "  RuntimeWarning)\n",
      "/anaconda3/lib/python3.6/site-packages/sklearn/covariance/robust_covariance.py:171: RuntimeWarning: Determinant has increased; this should not happen: log(det) > log(previous_det) (229.782932970793240 > 170.916354240044200). You may want to try with a higher value of support_fraction (current value: 0.501).\n",
      "  RuntimeWarning)\n",
      "/anaconda3/lib/python3.6/site-packages/sklearn/covariance/robust_covariance.py:171: RuntimeWarning: Determinant has increased; this should not happen: log(det) > log(previous_det) (190.220169069715041 > 174.004489524554714). You may want to try with a higher value of support_fraction (current value: 0.501).\n",
      "  RuntimeWarning)\n",
      "/anaconda3/lib/python3.6/site-packages/sklearn/covariance/robust_covariance.py:171: RuntimeWarning: Determinant has increased; this should not happen: log(det) > log(previous_det) (229.516836279614836 > 175.279449634629117). You may want to try with a higher value of support_fraction (current value: 0.501).\n",
      "  RuntimeWarning)\n",
      "/anaconda3/lib/python3.6/site-packages/sklearn/covariance/robust_covariance.py:171: RuntimeWarning: Determinant has increased; this should not happen: log(det) > log(previous_det) (187.694385346827687 > 176.111953581366862). You may want to try with a higher value of support_fraction (current value: 0.501).\n",
      "  RuntimeWarning)\n",
      "/anaconda3/lib/python3.6/site-packages/sklearn/covariance/robust_covariance.py:171: RuntimeWarning: Determinant has increased; this should not happen: log(det) > log(previous_det) (211.691560436214047 > 194.779262568635431). You may want to try with a higher value of support_fraction (current value: 0.501).\n",
      "  RuntimeWarning)\n",
      "/anaconda3/lib/python3.6/site-packages/sklearn/covariance/robust_covariance.py:171: RuntimeWarning: Determinant has increased; this should not happen: log(det) > log(previous_det) (199.850372682036664 > 188.499806634006205). You may want to try with a higher value of support_fraction (current value: 0.501).\n",
      "  RuntimeWarning)\n",
      "/anaconda3/lib/python3.6/site-packages/sklearn/covariance/robust_covariance.py:171: RuntimeWarning: Determinant has increased; this should not happen: log(det) > log(previous_det) (225.703345221761623 > 179.728054440458152). You may want to try with a higher value of support_fraction (current value: 0.501).\n",
      "  RuntimeWarning)\n",
      "/anaconda3/lib/python3.6/site-packages/sklearn/covariance/robust_covariance.py:171: RuntimeWarning: Determinant has increased; this should not happen: log(det) > log(previous_det) (204.110914579922650 > 196.049765291175333). You may want to try with a higher value of support_fraction (current value: 0.501).\n",
      "  RuntimeWarning)\n",
      "/anaconda3/lib/python3.6/site-packages/sklearn/covariance/robust_covariance.py:171: RuntimeWarning: Determinant has increased; this should not happen: log(det) > log(previous_det) (175.031670415774840 > 169.144150266202985). You may want to try with a higher value of support_fraction (current value: 0.501).\n",
      "  RuntimeWarning)\n",
      "/anaconda3/lib/python3.6/site-packages/sklearn/covariance/robust_covariance.py:171: RuntimeWarning: Determinant has increased; this should not happen: log(det) > log(previous_det) (225.356256871870983 > 186.238744950962626). You may want to try with a higher value of support_fraction (current value: 0.501).\n",
      "  RuntimeWarning)\n",
      "/anaconda3/lib/python3.6/site-packages/sklearn/covariance/robust_covariance.py:171: RuntimeWarning: Determinant has increased; this should not happen: log(det) > log(previous_det) (189.670734799221435 > 187.485126358031891). You may want to try with a higher value of support_fraction (current value: 0.501).\n",
      "  RuntimeWarning)\n",
      "/anaconda3/lib/python3.6/site-packages/sklearn/covariance/robust_covariance.py:171: RuntimeWarning: Determinant has increased; this should not happen: log(det) > log(previous_det) (226.003817511954765 > 217.474516390270054). You may want to try with a higher value of support_fraction (current value: 0.501).\n",
      "  RuntimeWarning)\n",
      "/anaconda3/lib/python3.6/site-packages/sklearn/covariance/robust_covariance.py:171: RuntimeWarning: Determinant has increased; this should not happen: log(det) > log(previous_det) (189.249610467233168 > 184.859851435905625). You may want to try with a higher value of support_fraction (current value: 0.501).\n",
      "  RuntimeWarning)\n",
      "/anaconda3/lib/python3.6/site-packages/sklearn/covariance/robust_covariance.py:171: RuntimeWarning: Determinant has increased; this should not happen: log(det) > log(previous_det) (233.582438993405219 > 175.266288230650673). You may want to try with a higher value of support_fraction (current value: 0.501).\n",
      "  RuntimeWarning)\n",
      "/anaconda3/lib/python3.6/site-packages/sklearn/covariance/robust_covariance.py:171: RuntimeWarning: Determinant has increased; this should not happen: log(det) > log(previous_det) (204.222434717059286 > 187.261272122498070). You may want to try with a higher value of support_fraction (current value: 0.501).\n",
      "  RuntimeWarning)\n",
      "/anaconda3/lib/python3.6/site-packages/sklearn/covariance/robust_covariance.py:171: RuntimeWarning: Determinant has increased; this should not happen: log(det) > log(previous_det) (177.176605899328592 > 168.442820873433732). You may want to try with a higher value of support_fraction (current value: 0.501).\n",
      "  RuntimeWarning)\n",
      "/anaconda3/lib/python3.6/site-packages/sklearn/covariance/robust_covariance.py:171: RuntimeWarning: Determinant has increased; this should not happen: log(det) > log(previous_det) (246.435028516188083 > 194.344448798076087). You may want to try with a higher value of support_fraction (current value: 0.501).\n",
      "  RuntimeWarning)\n",
      "/anaconda3/lib/python3.6/site-packages/sklearn/covariance/robust_covariance.py:171: RuntimeWarning: Determinant has increased; this should not happen: log(det) > log(previous_det) (186.834064547235357 > 184.807360166303965). You may want to try with a higher value of support_fraction (current value: 0.501).\n",
      "  RuntimeWarning)\n",
      "/anaconda3/lib/python3.6/site-packages/sklearn/covariance/robust_covariance.py:171: RuntimeWarning: Determinant has increased; this should not happen: log(det) > log(previous_det) (200.518735409733040 > 194.566034569461380). You may want to try with a higher value of support_fraction (current value: 0.501).\n",
      "  RuntimeWarning)\n",
      "/anaconda3/lib/python3.6/site-packages/sklearn/covariance/robust_covariance.py:171: RuntimeWarning: Determinant has increased; this should not happen: log(det) > log(previous_det) (208.939231744969277 > 175.172763885704796). You may want to try with a higher value of support_fraction (current value: 0.501).\n",
      "  RuntimeWarning)\n",
      "/anaconda3/lib/python3.6/site-packages/sklearn/covariance/robust_covariance.py:171: RuntimeWarning: Determinant has increased; this should not happen: log(det) > log(previous_det) (179.187582202697229 > 172.738026385809690). You may want to try with a higher value of support_fraction (current value: 0.501).\n",
      "  RuntimeWarning)\n",
      "/anaconda3/lib/python3.6/site-packages/sklearn/covariance/robust_covariance.py:171: RuntimeWarning: Determinant has increased; this should not happen: log(det) > log(previous_det) (241.959026941807565 > 191.138373162999216). You may want to try with a higher value of support_fraction (current value: 0.501).\n",
      "  RuntimeWarning)\n",
      "/anaconda3/lib/python3.6/site-packages/sklearn/covariance/robust_covariance.py:171: RuntimeWarning: Determinant has increased; this should not happen: log(det) > log(previous_det) (174.659793890919588 > 171.047662264401879). You may want to try with a higher value of support_fraction (current value: 0.501).\n",
      "  RuntimeWarning)\n",
      "/anaconda3/lib/python3.6/site-packages/sklearn/covariance/robust_covariance.py:171: RuntimeWarning: Determinant has increased; this should not happen: log(det) > log(previous_det) (180.615394385159647 > 166.662841347014705). You may want to try with a higher value of support_fraction (current value: 0.501).\n",
      "  RuntimeWarning)\n",
      "/anaconda3/lib/python3.6/site-packages/sklearn/covariance/robust_covariance.py:171: RuntimeWarning: Determinant has increased; this should not happen: log(det) > log(previous_det) (237.257167096806342 > 221.285219869698949). You may want to try with a higher value of support_fraction (current value: 0.501).\n",
      "  RuntimeWarning)\n",
      "/anaconda3/lib/python3.6/site-packages/sklearn/covariance/robust_covariance.py:171: RuntimeWarning: Determinant has increased; this should not happen: log(det) > log(previous_det) (205.922468626003848 > 183.529535707745026). You may want to try with a higher value of support_fraction (current value: 0.501).\n",
      "  RuntimeWarning)\n",
      "/anaconda3/lib/python3.6/site-packages/sklearn/covariance/robust_covariance.py:171: RuntimeWarning: Determinant has increased; this should not happen: log(det) > log(previous_det) (177.878066953598790 > 177.583513393084871). You may want to try with a higher value of support_fraction (current value: 0.501).\n",
      "  RuntimeWarning)\n",
      "/anaconda3/lib/python3.6/site-packages/sklearn/covariance/robust_covariance.py:171: RuntimeWarning: Determinant has increased; this should not happen: log(det) > log(previous_det) (211.002426893218882 > 209.232648665962472). You may want to try with a higher value of support_fraction (current value: 0.501).\n",
      "  RuntimeWarning)\n",
      "/anaconda3/lib/python3.6/site-packages/sklearn/covariance/robust_covariance.py:171: RuntimeWarning: Determinant has increased; this should not happen: log(det) > log(previous_det) (206.800650497376438 > 190.843473983202102). You may want to try with a higher value of support_fraction (current value: 0.501).\n",
      "  RuntimeWarning)\n",
      "/anaconda3/lib/python3.6/site-packages/sklearn/covariance/robust_covariance.py:171: RuntimeWarning: Determinant has increased; this should not happen: log(det) > log(previous_det) (230.596327564166245 > 211.542894327342736). You may want to try with a higher value of support_fraction (current value: 0.501).\n",
      "  RuntimeWarning)\n",
      "/anaconda3/lib/python3.6/site-packages/sklearn/covariance/robust_covariance.py:171: RuntimeWarning: Determinant has increased; this should not happen: log(det) > log(previous_det) (242.892269608356429 > 220.168285313269791). You may want to try with a higher value of support_fraction (current value: 0.501).\n",
      "  RuntimeWarning)\n",
      "/anaconda3/lib/python3.6/site-packages/sklearn/covariance/robust_covariance.py:171: RuntimeWarning: Determinant has increased; this should not happen: log(det) > log(previous_det) (201.932716582255097 > 192.110325261329422). You may want to try with a higher value of support_fraction (current value: 0.501).\n",
      "  RuntimeWarning)\n"
     ]
    },
    {
     "name": "stderr",
     "output_type": "stream",
     "text": [
      "/anaconda3/lib/python3.6/site-packages/sklearn/covariance/robust_covariance.py:171: RuntimeWarning: Determinant has increased; this should not happen: log(det) > log(previous_det) (219.413400910537462 > 213.864355683180406). You may want to try with a higher value of support_fraction (current value: 0.501).\n",
      "  RuntimeWarning)\n",
      "/anaconda3/lib/python3.6/site-packages/sklearn/covariance/robust_covariance.py:171: RuntimeWarning: Determinant has increased; this should not happen: log(det) > log(previous_det) (240.971470244779596 > 217.717001103779580). You may want to try with a higher value of support_fraction (current value: 0.501).\n",
      "  RuntimeWarning)\n",
      "/anaconda3/lib/python3.6/site-packages/sklearn/covariance/robust_covariance.py:171: RuntimeWarning: Determinant has increased; this should not happen: log(det) > log(previous_det) (177.486269742720509 > 168.266831193634147). You may want to try with a higher value of support_fraction (current value: 0.501).\n",
      "  RuntimeWarning)\n",
      "/anaconda3/lib/python3.6/site-packages/sklearn/covariance/robust_covariance.py:171: RuntimeWarning: Determinant has increased; this should not happen: log(det) > log(previous_det) (212.493587308100643 > 184.967866080209575). You may want to try with a higher value of support_fraction (current value: 0.501).\n",
      "  RuntimeWarning)\n",
      "/anaconda3/lib/python3.6/site-packages/sklearn/covariance/robust_covariance.py:171: RuntimeWarning: Determinant has increased; this should not happen: log(det) > log(previous_det) (238.595657978942370 > 229.476447895155161). You may want to try with a higher value of support_fraction (current value: 0.501).\n",
      "  RuntimeWarning)\n",
      "/anaconda3/lib/python3.6/site-packages/sklearn/covariance/robust_covariance.py:171: RuntimeWarning: Determinant has increased; this should not happen: log(det) > log(previous_det) (179.903639894330951 > 174.365269822327889). You may want to try with a higher value of support_fraction (current value: 0.501).\n",
      "  RuntimeWarning)\n",
      "/anaconda3/lib/python3.6/site-packages/sklearn/covariance/robust_covariance.py:171: RuntimeWarning: Determinant has increased; this should not happen: log(det) > log(previous_det) (218.777060082255076 > 188.845380916523339). You may want to try with a higher value of support_fraction (current value: 0.501).\n",
      "  RuntimeWarning)\n",
      "/anaconda3/lib/python3.6/site-packages/sklearn/covariance/robust_covariance.py:171: RuntimeWarning: Determinant has increased; this should not happen: log(det) > log(previous_det) (239.911255002153410 > 198.004356381732919). You may want to try with a higher value of support_fraction (current value: 0.501).\n",
      "  RuntimeWarning)\n",
      "/anaconda3/lib/python3.6/site-packages/sklearn/covariance/robust_covariance.py:171: RuntimeWarning: Determinant has increased; this should not happen: log(det) > log(previous_det) (204.075213404727378 > 198.561900792829590). You may want to try with a higher value of support_fraction (current value: 0.501).\n",
      "  RuntimeWarning)\n",
      "/anaconda3/lib/python3.6/site-packages/sklearn/covariance/robust_covariance.py:171: RuntimeWarning: Determinant has increased; this should not happen: log(det) > log(previous_det) (203.775508084300156 > 190.438479920289410). You may want to try with a higher value of support_fraction (current value: 0.501).\n",
      "  RuntimeWarning)\n",
      "/anaconda3/lib/python3.6/site-packages/sklearn/covariance/robust_covariance.py:171: RuntimeWarning: Determinant has increased; this should not happen: log(det) > log(previous_det) (196.623568678514943 > 184.007688486254068). You may want to try with a higher value of support_fraction (current value: 0.501).\n",
      "  RuntimeWarning)\n",
      "/anaconda3/lib/python3.6/site-packages/sklearn/covariance/robust_covariance.py:171: RuntimeWarning: Determinant has increased; this should not happen: log(det) > log(previous_det) (232.671721728934330 > 175.703755476523781). You may want to try with a higher value of support_fraction (current value: 0.501).\n",
      "  RuntimeWarning)\n",
      "/anaconda3/lib/python3.6/site-packages/sklearn/covariance/robust_covariance.py:171: RuntimeWarning: Determinant has increased; this should not happen: log(det) > log(previous_det) (224.974773068119276 > 191.237250833059022). You may want to try with a higher value of support_fraction (current value: 0.501).\n",
      "  RuntimeWarning)\n",
      "/anaconda3/lib/python3.6/site-packages/sklearn/covariance/robust_covariance.py:171: RuntimeWarning: Determinant has increased; this should not happen: log(det) > log(previous_det) (188.829049850366658 > 183.708289545878131). You may want to try with a higher value of support_fraction (current value: 0.501).\n",
      "  RuntimeWarning)\n",
      "/anaconda3/lib/python3.6/site-packages/sklearn/covariance/robust_covariance.py:171: RuntimeWarning: Determinant has increased; this should not happen: log(det) > log(previous_det) (224.052128970118247 > 182.576959152087795). You may want to try with a higher value of support_fraction (current value: 0.501).\n",
      "  RuntimeWarning)\n",
      "/anaconda3/lib/python3.6/site-packages/sklearn/covariance/robust_covariance.py:171: RuntimeWarning: Determinant has increased; this should not happen: log(det) > log(previous_det) (220.691632300243583 > 219.663295249579164). You may want to try with a higher value of support_fraction (current value: 0.501).\n",
      "  RuntimeWarning)\n",
      "/anaconda3/lib/python3.6/site-packages/sklearn/covariance/robust_covariance.py:171: RuntimeWarning: Determinant has increased; this should not happen: log(det) > log(previous_det) (198.618731836498000 > 181.400746763198299). You may want to try with a higher value of support_fraction (current value: 0.501).\n",
      "  RuntimeWarning)\n",
      "/anaconda3/lib/python3.6/site-packages/sklearn/covariance/robust_covariance.py:171: RuntimeWarning: Determinant has increased; this should not happen: log(det) > log(previous_det) (189.408930496190351 > 185.045481857805868). You may want to try with a higher value of support_fraction (current value: 0.501).\n",
      "  RuntimeWarning)\n",
      "/anaconda3/lib/python3.6/site-packages/sklearn/covariance/robust_covariance.py:171: RuntimeWarning: Determinant has increased; this should not happen: log(det) > log(previous_det) (229.447807377919418 > 189.328764981787117). You may want to try with a higher value of support_fraction (current value: 0.501).\n",
      "  RuntimeWarning)\n",
      "/anaconda3/lib/python3.6/site-packages/sklearn/covariance/robust_covariance.py:171: RuntimeWarning: Determinant has increased; this should not happen: log(det) > log(previous_det) (178.224964603775447 > 172.931434017081557). You may want to try with a higher value of support_fraction (current value: 0.501).\n",
      "  RuntimeWarning)\n",
      "/anaconda3/lib/python3.6/site-packages/sklearn/covariance/robust_covariance.py:171: RuntimeWarning: Determinant has increased; this should not happen: log(det) > log(previous_det) (228.134706284037833 > 179.955841328764222). You may want to try with a higher value of support_fraction (current value: 0.501).\n",
      "  RuntimeWarning)\n",
      "/anaconda3/lib/python3.6/site-packages/sklearn/covariance/robust_covariance.py:171: RuntimeWarning: Determinant has increased; this should not happen: log(det) > log(previous_det) (234.775538866006627 > 215.523290832341189). You may want to try with a higher value of support_fraction (current value: 0.501).\n",
      "  RuntimeWarning)\n",
      "/anaconda3/lib/python3.6/site-packages/sklearn/covariance/robust_covariance.py:171: RuntimeWarning: Determinant has increased; this should not happen: log(det) > log(previous_det) (190.884128912270768 > 182.815868983803881). You may want to try with a higher value of support_fraction (current value: 0.501).\n",
      "  RuntimeWarning)\n",
      "/anaconda3/lib/python3.6/site-packages/sklearn/covariance/robust_covariance.py:171: RuntimeWarning: Determinant has increased; this should not happen: log(det) > log(previous_det) (201.751987827180983 > 190.363846648150002). You may want to try with a higher value of support_fraction (current value: 0.501).\n",
      "  RuntimeWarning)\n",
      "/anaconda3/lib/python3.6/site-packages/sklearn/covariance/robust_covariance.py:171: RuntimeWarning: Determinant has increased; this should not happen: log(det) > log(previous_det) (221.824065957894845 > 179.004545415692917). You may want to try with a higher value of support_fraction (current value: 0.501).\n",
      "  RuntimeWarning)\n",
      "/anaconda3/lib/python3.6/site-packages/sklearn/covariance/robust_covariance.py:171: RuntimeWarning: Determinant has increased; this should not happen: log(det) > log(previous_det) (174.815209582082133 > 172.815683904319968). You may want to try with a higher value of support_fraction (current value: 0.501).\n",
      "  RuntimeWarning)\n",
      "/anaconda3/lib/python3.6/site-packages/sklearn/covariance/robust_covariance.py:171: RuntimeWarning: Determinant has increased; this should not happen: log(det) > log(previous_det) (226.066710858177657 > 189.091589437774218). You may want to try with a higher value of support_fraction (current value: 0.501).\n",
      "  RuntimeWarning)\n",
      "/anaconda3/lib/python3.6/site-packages/sklearn/covariance/robust_covariance.py:171: RuntimeWarning: Determinant has increased; this should not happen: log(det) > log(previous_det) (231.805292280836369 > 176.486781507314333). You may want to try with a higher value of support_fraction (current value: 0.501).\n",
      "  RuntimeWarning)\n",
      "/anaconda3/lib/python3.6/site-packages/sklearn/covariance/robust_covariance.py:171: RuntimeWarning: Determinant has increased; this should not happen: log(det) > log(previous_det) (214.782934419862556 > 165.616759861431490). You may want to try with a higher value of support_fraction (current value: 0.501).\n",
      "  RuntimeWarning)\n"
     ]
    },
    {
     "name": "stderr",
     "output_type": "stream",
     "text": [
      "/anaconda3/lib/python3.6/site-packages/sklearn/covariance/robust_covariance.py:171: RuntimeWarning: Determinant has increased; this should not happen: log(det) > log(previous_det) (230.625216546927845 > 229.592975836933192). You may want to try with a higher value of support_fraction (current value: 0.501).\n",
      "  RuntimeWarning)\n",
      "/anaconda3/lib/python3.6/site-packages/sklearn/covariance/robust_covariance.py:171: RuntimeWarning: Determinant has increased; this should not happen: log(det) > log(previous_det) (212.014693804501832 > 201.917735702289207). You may want to try with a higher value of support_fraction (current value: 0.501).\n",
      "  RuntimeWarning)\n",
      "/anaconda3/lib/python3.6/site-packages/sklearn/covariance/robust_covariance.py:171: RuntimeWarning: Determinant has increased; this should not happen: log(det) > log(previous_det) (187.603560445388780 > 185.370530946522734). You may want to try with a higher value of support_fraction (current value: 0.501).\n",
      "  RuntimeWarning)\n",
      "/anaconda3/lib/python3.6/site-packages/sklearn/covariance/robust_covariance.py:171: RuntimeWarning: Determinant has increased; this should not happen: log(det) > log(previous_det) (184.610401374505614 > 179.959929856204099). You may want to try with a higher value of support_fraction (current value: 0.501).\n",
      "  RuntimeWarning)\n",
      "/anaconda3/lib/python3.6/site-packages/sklearn/covariance/robust_covariance.py:171: RuntimeWarning: Determinant has increased; this should not happen: log(det) > log(previous_det) (192.574309329928809 > 170.871691774769033). You may want to try with a higher value of support_fraction (current value: 0.501).\n",
      "  RuntimeWarning)\n",
      "/anaconda3/lib/python3.6/site-packages/sklearn/covariance/robust_covariance.py:171: RuntimeWarning: Determinant has increased; this should not happen: log(det) > log(previous_det) (184.095667004030702 > 176.135144801956926). You may want to try with a higher value of support_fraction (current value: 0.501).\n",
      "  RuntimeWarning)\n",
      "/anaconda3/lib/python3.6/site-packages/sklearn/covariance/robust_covariance.py:171: RuntimeWarning: Determinant has increased; this should not happen: log(det) > log(previous_det) (194.895438995675022 > 178.445539916085693). You may want to try with a higher value of support_fraction (current value: 0.501).\n",
      "  RuntimeWarning)\n",
      "/anaconda3/lib/python3.6/site-packages/sklearn/covariance/robust_covariance.py:171: RuntimeWarning: Determinant has increased; this should not happen: log(det) > log(previous_det) (239.759437787552145 > 228.154462839264454). You may want to try with a higher value of support_fraction (current value: 0.501).\n",
      "  RuntimeWarning)\n",
      "/anaconda3/lib/python3.6/site-packages/sklearn/covariance/robust_covariance.py:171: RuntimeWarning: Determinant has increased; this should not happen: log(det) > log(previous_det) (176.062771349859929 > 174.880991944026022). You may want to try with a higher value of support_fraction (current value: 0.501).\n",
      "  RuntimeWarning)\n",
      "/anaconda3/lib/python3.6/site-packages/sklearn/covariance/robust_covariance.py:171: RuntimeWarning: Determinant has increased; this should not happen: log(det) > log(previous_det) (226.438103169621627 > 219.241047838487276). You may want to try with a higher value of support_fraction (current value: 0.501).\n",
      "  RuntimeWarning)\n",
      "/anaconda3/lib/python3.6/site-packages/sklearn/covariance/robust_covariance.py:171: RuntimeWarning: Determinant has increased; this should not happen: log(det) > log(previous_det) (210.981484368972559 > 193.761425834449199). You may want to try with a higher value of support_fraction (current value: 0.501).\n",
      "  RuntimeWarning)\n",
      "/anaconda3/lib/python3.6/site-packages/sklearn/covariance/robust_covariance.py:171: RuntimeWarning: Determinant has increased; this should not happen: log(det) > log(previous_det) (240.731899626410694 > 231.523142940182680). You may want to try with a higher value of support_fraction (current value: 0.501).\n",
      "  RuntimeWarning)\n",
      "/anaconda3/lib/python3.6/site-packages/sklearn/covariance/robust_covariance.py:171: RuntimeWarning: Determinant has increased; this should not happen: log(det) > log(previous_det) (241.629856598617835 > 197.473226530435795). You may want to try with a higher value of support_fraction (current value: 0.501).\n",
      "  RuntimeWarning)\n",
      "/anaconda3/lib/python3.6/site-packages/sklearn/covariance/robust_covariance.py:171: RuntimeWarning: Determinant has increased; this should not happen: log(det) > log(previous_det) (235.044227238123398 > 193.013344676973986). You may want to try with a higher value of support_fraction (current value: 0.501).\n",
      "  RuntimeWarning)\n",
      "/anaconda3/lib/python3.6/site-packages/sklearn/covariance/robust_covariance.py:171: RuntimeWarning: Determinant has increased; this should not happen: log(det) > log(previous_det) (219.525581112584490 > 173.985700634990309). You may want to try with a higher value of support_fraction (current value: 0.501).\n",
      "  RuntimeWarning)\n",
      "/anaconda3/lib/python3.6/site-packages/sklearn/covariance/robust_covariance.py:171: RuntimeWarning: Determinant has increased; this should not happen: log(det) > log(previous_det) (185.809508736907077 > 181.922492897234520). You may want to try with a higher value of support_fraction (current value: 0.501).\n",
      "  RuntimeWarning)\n",
      "/anaconda3/lib/python3.6/site-packages/sklearn/covariance/robust_covariance.py:171: RuntimeWarning: Determinant has increased; this should not happen: log(det) > log(previous_det) (220.539916261475639 > 174.270496972302993). You may want to try with a higher value of support_fraction (current value: 0.501).\n",
      "  RuntimeWarning)\n",
      "/anaconda3/lib/python3.6/site-packages/sklearn/covariance/robust_covariance.py:171: RuntimeWarning: Determinant has increased; this should not happen: log(det) > log(previous_det) (237.396773461041533 > 234.049876245008846). You may want to try with a higher value of support_fraction (current value: 0.501).\n",
      "  RuntimeWarning)\n",
      "/anaconda3/lib/python3.6/site-packages/sklearn/covariance/robust_covariance.py:171: RuntimeWarning: Determinant has increased; this should not happen: log(det) > log(previous_det) (202.085099341278692 > 192.152170553556005). You may want to try with a higher value of support_fraction (current value: 0.501).\n",
      "  RuntimeWarning)\n",
      "/anaconda3/lib/python3.6/site-packages/sklearn/covariance/robust_covariance.py:171: RuntimeWarning: Determinant has increased; this should not happen: log(det) > log(previous_det) (221.397740395858818 > 212.792986951462154). You may want to try with a higher value of support_fraction (current value: 0.501).\n",
      "  RuntimeWarning)\n",
      "/anaconda3/lib/python3.6/site-packages/sklearn/covariance/robust_covariance.py:171: RuntimeWarning: Determinant has increased; this should not happen: log(det) > log(previous_det) (232.241954128615959 > 174.808367089815704). You may want to try with a higher value of support_fraction (current value: 0.501).\n",
      "  RuntimeWarning)\n",
      "/anaconda3/lib/python3.6/site-packages/sklearn/covariance/robust_covariance.py:171: RuntimeWarning: Determinant has increased; this should not happen: log(det) > log(previous_det) (207.298399680035971 > 193.929679475752664). You may want to try with a higher value of support_fraction (current value: 0.501).\n",
      "  RuntimeWarning)\n",
      "/anaconda3/lib/python3.6/site-packages/sklearn/covariance/robust_covariance.py:171: RuntimeWarning: Determinant has increased; this should not happen: log(det) > log(previous_det) (231.089863792446977 > 177.479233748351362). You may want to try with a higher value of support_fraction (current value: 0.501).\n",
      "  RuntimeWarning)\n",
      "/anaconda3/lib/python3.6/site-packages/sklearn/covariance/robust_covariance.py:171: RuntimeWarning: Determinant has increased; this should not happen: log(det) > log(previous_det) (223.432182752752226 > 187.590394418478013). You may want to try with a higher value of support_fraction (current value: 0.501).\n",
      "  RuntimeWarning)\n",
      "/anaconda3/lib/python3.6/site-packages/sklearn/covariance/robust_covariance.py:171: RuntimeWarning: Determinant has increased; this should not happen: log(det) > log(previous_det) (221.990009878369733 > 206.822206064399325). You may want to try with a higher value of support_fraction (current value: 0.501).\n",
      "  RuntimeWarning)\n",
      "/anaconda3/lib/python3.6/site-packages/sklearn/covariance/robust_covariance.py:171: RuntimeWarning: Determinant has increased; this should not happen: log(det) > log(previous_det) (240.221840109416803 > 220.698956454346444). You may want to try with a higher value of support_fraction (current value: 0.501).\n",
      "  RuntimeWarning)\n",
      "/anaconda3/lib/python3.6/site-packages/sklearn/covariance/robust_covariance.py:171: RuntimeWarning: Determinant has increased; this should not happen: log(det) > log(previous_det) (230.996042624466526 > 178.965459925884801). You may want to try with a higher value of support_fraction (current value: 0.501).\n",
      "  RuntimeWarning)\n"
     ]
    },
    {
     "name": "stderr",
     "output_type": "stream",
     "text": [
      "/anaconda3/lib/python3.6/site-packages/sklearn/covariance/robust_covariance.py:171: RuntimeWarning: Determinant has increased; this should not happen: log(det) > log(previous_det) (227.080679502010241 > 206.599592741978228). You may want to try with a higher value of support_fraction (current value: 0.501).\n",
      "  RuntimeWarning)\n",
      "/anaconda3/lib/python3.6/site-packages/sklearn/covariance/robust_covariance.py:171: RuntimeWarning: Determinant has increased; this should not happen: log(det) > log(previous_det) (228.004905123247937 > 169.249119455880674). You may want to try with a higher value of support_fraction (current value: 0.501).\n",
      "  RuntimeWarning)\n",
      "/anaconda3/lib/python3.6/site-packages/sklearn/covariance/robust_covariance.py:171: RuntimeWarning: Determinant has increased; this should not happen: log(det) > log(previous_det) (225.767452173648110 > 187.475766153075369). You may want to try with a higher value of support_fraction (current value: 0.501).\n",
      "  RuntimeWarning)\n",
      "/anaconda3/lib/python3.6/site-packages/sklearn/covariance/robust_covariance.py:171: RuntimeWarning: Determinant has increased; this should not happen: log(det) > log(previous_det) (186.883653539527074 > 175.174588723792056). You may want to try with a higher value of support_fraction (current value: 0.501).\n",
      "  RuntimeWarning)\n",
      "/anaconda3/lib/python3.6/site-packages/sklearn/covariance/robust_covariance.py:171: RuntimeWarning: Determinant has increased; this should not happen: log(det) > log(previous_det) (237.703451019963438 > 179.165097094126850). You may want to try with a higher value of support_fraction (current value: 0.501).\n",
      "  RuntimeWarning)\n",
      "/anaconda3/lib/python3.6/site-packages/sklearn/covariance/robust_covariance.py:171: RuntimeWarning: Determinant has increased; this should not happen: log(det) > log(previous_det) (192.310159351230993 > 186.332254245913134). You may want to try with a higher value of support_fraction (current value: 0.501).\n",
      "  RuntimeWarning)\n",
      "/anaconda3/lib/python3.6/site-packages/sklearn/covariance/robust_covariance.py:171: RuntimeWarning: Determinant has increased; this should not happen: log(det) > log(previous_det) (236.908666355312363 > 228.693091775643154). You may want to try with a higher value of support_fraction (current value: 0.501).\n",
      "  RuntimeWarning)\n",
      "/anaconda3/lib/python3.6/site-packages/sklearn/covariance/robust_covariance.py:171: RuntimeWarning: Determinant has increased; this should not happen: log(det) > log(previous_det) (203.315421093913699 > 186.457626204900293). You may want to try with a higher value of support_fraction (current value: 0.501).\n",
      "  RuntimeWarning)\n",
      "/anaconda3/lib/python3.6/site-packages/sklearn/covariance/robust_covariance.py:171: RuntimeWarning: Determinant has increased; this should not happen: log(det) > log(previous_det) (202.352303011637218 > 191.481982675753187). You may want to try with a higher value of support_fraction (current value: 0.501).\n",
      "  RuntimeWarning)\n",
      "/anaconda3/lib/python3.6/site-packages/sklearn/covariance/robust_covariance.py:171: RuntimeWarning: Determinant has increased; this should not happen: log(det) > log(previous_det) (226.183926775851944 > 171.828276515448295). You may want to try with a higher value of support_fraction (current value: 0.501).\n",
      "  RuntimeWarning)\n",
      "/anaconda3/lib/python3.6/site-packages/sklearn/covariance/robust_covariance.py:171: RuntimeWarning: Determinant has increased; this should not happen: log(det) > log(previous_det) (231.626821101612506 > 222.119534976400161). You may want to try with a higher value of support_fraction (current value: 0.501).\n",
      "  RuntimeWarning)\n",
      "/anaconda3/lib/python3.6/site-packages/sklearn/covariance/robust_covariance.py:171: RuntimeWarning: Determinant has increased; this should not happen: log(det) > log(previous_det) (239.548428915436489 > 231.420335797285105). You may want to try with a higher value of support_fraction (current value: 0.501).\n",
      "  RuntimeWarning)\n",
      "/anaconda3/lib/python3.6/site-packages/sklearn/covariance/robust_covariance.py:171: RuntimeWarning: Determinant has increased; this should not happen: log(det) > log(previous_det) (187.138355341415377 > 177.504336244993453). You may want to try with a higher value of support_fraction (current value: 0.501).\n",
      "  RuntimeWarning)\n",
      "/anaconda3/lib/python3.6/site-packages/sklearn/covariance/robust_covariance.py:171: RuntimeWarning: Determinant has increased; this should not happen: log(det) > log(previous_det) (193.754921535209746 > 173.610386575713505). You may want to try with a higher value of support_fraction (current value: 0.501).\n",
      "  RuntimeWarning)\n",
      "/anaconda3/lib/python3.6/site-packages/sklearn/covariance/robust_covariance.py:171: RuntimeWarning: Determinant has increased; this should not happen: log(det) > log(previous_det) (225.891249564747710 > 187.235029330981803). You may want to try with a higher value of support_fraction (current value: 0.501).\n",
      "  RuntimeWarning)\n",
      "/anaconda3/lib/python3.6/site-packages/sklearn/covariance/robust_covariance.py:171: RuntimeWarning: Determinant has increased; this should not happen: log(det) > log(previous_det) (224.279540963965076 > 220.502265555230167). You may want to try with a higher value of support_fraction (current value: 0.501).\n",
      "  RuntimeWarning)\n",
      "/anaconda3/lib/python3.6/site-packages/sklearn/covariance/robust_covariance.py:171: RuntimeWarning: Determinant has increased; this should not happen: log(det) > log(previous_det) (227.258617670612693 > 220.170083160992220). You may want to try with a higher value of support_fraction (current value: 0.501).\n",
      "  RuntimeWarning)\n",
      "/anaconda3/lib/python3.6/site-packages/sklearn/covariance/robust_covariance.py:171: RuntimeWarning: Determinant has increased; this should not happen: log(det) > log(previous_det) (223.945400687895216 > 215.104479471455022). You may want to try with a higher value of support_fraction (current value: 0.501).\n",
      "  RuntimeWarning)\n",
      "/anaconda3/lib/python3.6/site-packages/sklearn/covariance/robust_covariance.py:171: RuntimeWarning: Determinant has increased; this should not happen: log(det) > log(previous_det) (221.479712300282785 > 217.081001139355976). You may want to try with a higher value of support_fraction (current value: 0.501).\n",
      "  RuntimeWarning)\n",
      "/anaconda3/lib/python3.6/site-packages/sklearn/covariance/robust_covariance.py:171: RuntimeWarning: Determinant has increased; this should not happen: log(det) > log(previous_det) (203.293355167552846 > 185.464998578316056). You may want to try with a higher value of support_fraction (current value: 0.501).\n",
      "  RuntimeWarning)\n",
      "/anaconda3/lib/python3.6/site-packages/sklearn/covariance/robust_covariance.py:171: RuntimeWarning: Determinant has increased; this should not happen: log(det) > log(previous_det) (192.747816928148040 > 176.166230236047227). You may want to try with a higher value of support_fraction (current value: 0.501).\n",
      "  RuntimeWarning)\n",
      "/anaconda3/lib/python3.6/site-packages/sklearn/covariance/robust_covariance.py:171: RuntimeWarning: Determinant has increased; this should not happen: log(det) > log(previous_det) (223.269058313628392 > 213.306631803000670). You may want to try with a higher value of support_fraction (current value: 0.501).\n",
      "  RuntimeWarning)\n",
      "/anaconda3/lib/python3.6/site-packages/sklearn/covariance/robust_covariance.py:171: RuntimeWarning: Determinant has increased; this should not happen: log(det) > log(previous_det) (214.051070266416957 > 190.189818583147712). You may want to try with a higher value of support_fraction (current value: 0.501).\n",
      "  RuntimeWarning)\n",
      "/anaconda3/lib/python3.6/site-packages/sklearn/covariance/robust_covariance.py:171: RuntimeWarning: Determinant has increased; this should not happen: log(det) > log(previous_det) (249.449787511312024 > 192.865770247139494). You may want to try with a higher value of support_fraction (current value: 0.501).\n",
      "  RuntimeWarning)\n",
      "/anaconda3/lib/python3.6/site-packages/sklearn/covariance/robust_covariance.py:171: RuntimeWarning: Determinant has increased; this should not happen: log(det) > log(previous_det) (213.411858729743955 > 206.156000541116924). You may want to try with a higher value of support_fraction (current value: 0.501).\n",
      "  RuntimeWarning)\n",
      "/anaconda3/lib/python3.6/site-packages/sklearn/covariance/robust_covariance.py:171: RuntimeWarning: Determinant has increased; this should not happen: log(det) > log(previous_det) (236.829742312097295 > 229.138409456537090). You may want to try with a higher value of support_fraction (current value: 0.501).\n",
      "  RuntimeWarning)\n",
      "/anaconda3/lib/python3.6/site-packages/sklearn/covariance/robust_covariance.py:171: RuntimeWarning: Determinant has increased; this should not happen: log(det) > log(previous_det) (237.142164090312235 > 188.268580474408338). You may want to try with a higher value of support_fraction (current value: 0.501).\n",
      "  RuntimeWarning)\n",
      "/anaconda3/lib/python3.6/site-packages/sklearn/covariance/robust_covariance.py:171: RuntimeWarning: Determinant has increased; this should not happen: log(det) > log(previous_det) (210.720259078762098 > 176.585927125870796). You may want to try with a higher value of support_fraction (current value: 0.501).\n",
      "  RuntimeWarning)\n",
      "/anaconda3/lib/python3.6/site-packages/sklearn/covariance/robust_covariance.py:171: RuntimeWarning: Determinant has increased; this should not happen: log(det) > log(previous_det) (173.091834870721954 > 173.086980754935212). You may want to try with a higher value of support_fraction (current value: 0.501).\n",
      "  RuntimeWarning)\n",
      "/anaconda3/lib/python3.6/site-packages/sklearn/covariance/robust_covariance.py:171: RuntimeWarning: Determinant has increased; this should not happen: log(det) > log(previous_det) (226.313776574268303 > 222.022680031371209). You may want to try with a higher value of support_fraction (current value: 0.501).\n",
      "  RuntimeWarning)\n",
      "/anaconda3/lib/python3.6/site-packages/sklearn/covariance/robust_covariance.py:171: RuntimeWarning: Determinant has increased; this should not happen: log(det) > log(previous_det) (179.054458640022631 > 169.629762821458598). You may want to try with a higher value of support_fraction (current value: 0.501).\n",
      "  RuntimeWarning)\n",
      "/anaconda3/lib/python3.6/site-packages/sklearn/covariance/robust_covariance.py:171: RuntimeWarning: Determinant has increased; this should not happen: log(det) > log(previous_det) (231.969699704531251 > 174.411808906749513). You may want to try with a higher value of support_fraction (current value: 0.501).\n",
      "  RuntimeWarning)\n",
      "/anaconda3/lib/python3.6/site-packages/sklearn/covariance/robust_covariance.py:171: RuntimeWarning: Determinant has increased; this should not happen: log(det) > log(previous_det) (180.689111561368435 > 169.322730609424866). You may want to try with a higher value of support_fraction (current value: 0.501).\n",
      "  RuntimeWarning)\n",
      "/anaconda3/lib/python3.6/site-packages/sklearn/covariance/robust_covariance.py:171: RuntimeWarning: Determinant has increased; this should not happen: log(det) > log(previous_det) (244.218371820104323 > 220.201339907001824). You may want to try with a higher value of support_fraction (current value: 0.501).\n",
      "  RuntimeWarning)\n",
      "/anaconda3/lib/python3.6/site-packages/sklearn/covariance/robust_covariance.py:171: RuntimeWarning: Determinant has increased; this should not happen: log(det) > log(previous_det) (200.610676649311529 > 195.891581841388302). You may want to try with a higher value of support_fraction (current value: 0.501).\n",
      "  RuntimeWarning)\n",
      "/anaconda3/lib/python3.6/site-packages/sklearn/covariance/robust_covariance.py:171: RuntimeWarning: Determinant has increased; this should not happen: log(det) > log(previous_det) (197.176545849941135 > 182.540944609657146). You may want to try with a higher value of support_fraction (current value: 0.501).\n",
      "  RuntimeWarning)\n",
      "/anaconda3/lib/python3.6/site-packages/sklearn/covariance/robust_covariance.py:171: RuntimeWarning: Determinant has increased; this should not happen: log(det) > log(previous_det) (199.398011100454852 > 184.314076429143483). You may want to try with a higher value of support_fraction (current value: 0.501).\n",
      "  RuntimeWarning)\n",
      "/anaconda3/lib/python3.6/site-packages/sklearn/covariance/robust_covariance.py:171: RuntimeWarning: Determinant has increased; this should not happen: log(det) > log(previous_det) (229.557254848351278 > 212.591319715513151). You may want to try with a higher value of support_fraction (current value: 0.501).\n",
      "  RuntimeWarning)\n",
      "/anaconda3/lib/python3.6/site-packages/sklearn/covariance/robust_covariance.py:171: RuntimeWarning: Determinant has increased; this should not happen: log(det) > log(previous_det) (194.051246543069766 > 171.804251026567442). You may want to try with a higher value of support_fraction (current value: 0.501).\n",
      "  RuntimeWarning)\n"
     ]
    },
    {
     "name": "stderr",
     "output_type": "stream",
     "text": [
      "/anaconda3/lib/python3.6/site-packages/sklearn/covariance/robust_covariance.py:171: RuntimeWarning: Determinant has increased; this should not happen: log(det) > log(previous_det) (241.619169309112976 > 197.893948791708453). You may want to try with a higher value of support_fraction (current value: 0.501).\n",
      "  RuntimeWarning)\n",
      "/anaconda3/lib/python3.6/site-packages/sklearn/covariance/robust_covariance.py:171: RuntimeWarning: Determinant has increased; this should not happen: log(det) > log(previous_det) (191.353309950036703 > 190.946469695377630). You may want to try with a higher value of support_fraction (current value: 0.501).\n",
      "  RuntimeWarning)\n",
      "/anaconda3/lib/python3.6/site-packages/sklearn/covariance/robust_covariance.py:171: RuntimeWarning: Determinant has increased; this should not happen: log(det) > log(previous_det) (242.125821859055293 > 188.649595079627318). You may want to try with a higher value of support_fraction (current value: 0.501).\n",
      "  RuntimeWarning)\n",
      "/anaconda3/lib/python3.6/site-packages/sklearn/covariance/robust_covariance.py:171: RuntimeWarning: Determinant has increased; this should not happen: log(det) > log(previous_det) (202.918991572609031 > 182.093204828840101). You may want to try with a higher value of support_fraction (current value: 0.501).\n",
      "  RuntimeWarning)\n",
      "/anaconda3/lib/python3.6/site-packages/sklearn/covariance/robust_covariance.py:171: RuntimeWarning: Determinant has increased; this should not happen: log(det) > log(previous_det) (182.848935015753085 > 176.217175896266781). You may want to try with a higher value of support_fraction (current value: 0.501).\n",
      "  RuntimeWarning)\n",
      "/anaconda3/lib/python3.6/site-packages/sklearn/covariance/robust_covariance.py:171: RuntimeWarning: Determinant has increased; this should not happen: log(det) > log(previous_det) (182.489991498051381 > 179.444812630305421). You may want to try with a higher value of support_fraction (current value: 0.501).\n",
      "  RuntimeWarning)\n",
      "/anaconda3/lib/python3.6/site-packages/sklearn/covariance/robust_covariance.py:171: RuntimeWarning: Determinant has increased; this should not happen: log(det) > log(previous_det) (198.096963733858530 > 186.828916886357717). You may want to try with a higher value of support_fraction (current value: 0.501).\n",
      "  RuntimeWarning)\n",
      "/anaconda3/lib/python3.6/site-packages/sklearn/covariance/robust_covariance.py:171: RuntimeWarning: Determinant has increased; this should not happen: log(det) > log(previous_det) (238.138430604246992 > 223.346067765659058). You may want to try with a higher value of support_fraction (current value: 0.501).\n",
      "  RuntimeWarning)\n",
      "/anaconda3/lib/python3.6/site-packages/sklearn/covariance/robust_covariance.py:171: RuntimeWarning: Determinant has increased; this should not happen: log(det) > log(previous_det) (247.138327128913460 > 189.573685856341882). You may want to try with a higher value of support_fraction (current value: 0.501).\n",
      "  RuntimeWarning)\n",
      "/anaconda3/lib/python3.6/site-packages/sklearn/covariance/robust_covariance.py:171: RuntimeWarning: Determinant has increased; this should not happen: log(det) > log(previous_det) (194.386369115532773 > 178.703420195874230). You may want to try with a higher value of support_fraction (current value: 0.501).\n",
      "  RuntimeWarning)\n",
      "/anaconda3/lib/python3.6/site-packages/sklearn/covariance/robust_covariance.py:171: RuntimeWarning: Determinant has increased; this should not happen: log(det) > log(previous_det) (200.951058855508450 > 191.866260586680113). You may want to try with a higher value of support_fraction (current value: 0.501).\n",
      "  RuntimeWarning)\n",
      "/anaconda3/lib/python3.6/site-packages/sklearn/covariance/robust_covariance.py:171: RuntimeWarning: Determinant has increased; this should not happen: log(det) > log(previous_det) (206.379547882428426 > 186.411775496775675). You may want to try with a higher value of support_fraction (current value: 0.501).\n",
      "  RuntimeWarning)\n",
      "/anaconda3/lib/python3.6/site-packages/sklearn/covariance/robust_covariance.py:171: RuntimeWarning: Determinant has increased; this should not happen: log(det) > log(previous_det) (195.499122492980291 > 187.974775213833738). You may want to try with a higher value of support_fraction (current value: 0.501).\n",
      "  RuntimeWarning)\n",
      "/anaconda3/lib/python3.6/site-packages/sklearn/covariance/robust_covariance.py:171: RuntimeWarning: Determinant has increased; this should not happen: log(det) > log(previous_det) (178.652838963434334 > 170.473924644004057). You may want to try with a higher value of support_fraction (current value: 0.501).\n",
      "  RuntimeWarning)\n",
      "/anaconda3/lib/python3.6/site-packages/sklearn/covariance/robust_covariance.py:171: RuntimeWarning: Determinant has increased; this should not happen: log(det) > log(previous_det) (178.340818069993162 > 177.604563973669457). You may want to try with a higher value of support_fraction (current value: 0.501).\n",
      "  RuntimeWarning)\n",
      "/anaconda3/lib/python3.6/site-packages/sklearn/covariance/robust_covariance.py:171: RuntimeWarning: Determinant has increased; this should not happen: log(det) > log(previous_det) (234.558981374269280 > 222.705341867665879). You may want to try with a higher value of support_fraction (current value: 0.501).\n",
      "  RuntimeWarning)\n",
      "/anaconda3/lib/python3.6/site-packages/sklearn/covariance/robust_covariance.py:171: RuntimeWarning: Determinant has increased; this should not happen: log(det) > log(previous_det) (195.534784968362857 > 192.281353777380588). You may want to try with a higher value of support_fraction (current value: 0.501).\n",
      "  RuntimeWarning)\n",
      "/anaconda3/lib/python3.6/site-packages/sklearn/covariance/robust_covariance.py:171: RuntimeWarning: Determinant has increased; this should not happen: log(det) > log(previous_det) (237.955683215320988 > 224.779552280803273). You may want to try with a higher value of support_fraction (current value: 0.501).\n",
      "  RuntimeWarning)\n",
      "/anaconda3/lib/python3.6/site-packages/sklearn/covariance/robust_covariance.py:171: RuntimeWarning: Determinant has increased; this should not happen: log(det) > log(previous_det) (230.135712277901831 > 224.039705819916890). You may want to try with a higher value of support_fraction (current value: 0.501).\n",
      "  RuntimeWarning)\n",
      "/anaconda3/lib/python3.6/site-packages/sklearn/covariance/robust_covariance.py:171: RuntimeWarning: Determinant has increased; this should not happen: log(det) > log(previous_det) (204.568378940683431 > 188.979665533936497). You may want to try with a higher value of support_fraction (current value: 0.501).\n",
      "  RuntimeWarning)\n",
      "/anaconda3/lib/python3.6/site-packages/sklearn/covariance/robust_covariance.py:171: RuntimeWarning: Determinant has increased; this should not happen: log(det) > log(previous_det) (245.603479653399091 > 222.019520359461723). You may want to try with a higher value of support_fraction (current value: 0.501).\n",
      "  RuntimeWarning)\n",
      "/anaconda3/lib/python3.6/site-packages/sklearn/covariance/robust_covariance.py:171: RuntimeWarning: Determinant has increased; this should not happen: log(det) > log(previous_det) (234.157099617300645 > 181.826812780207291). You may want to try with a higher value of support_fraction (current value: 0.501).\n",
      "  RuntimeWarning)\n",
      "/anaconda3/lib/python3.6/site-packages/sklearn/covariance/robust_covariance.py:171: RuntimeWarning: Determinant has increased; this should not happen: log(det) > log(previous_det) (203.086264059760936 > 191.566817432910938). You may want to try with a higher value of support_fraction (current value: 0.501).\n",
      "  RuntimeWarning)\n",
      "/anaconda3/lib/python3.6/site-packages/sklearn/covariance/robust_covariance.py:171: RuntimeWarning: Determinant has increased; this should not happen: log(det) > log(previous_det) (194.585338801037040 > 175.358257704447823). You may want to try with a higher value of support_fraction (current value: 0.501).\n",
      "  RuntimeWarning)\n",
      "/anaconda3/lib/python3.6/site-packages/sklearn/covariance/robust_covariance.py:171: RuntimeWarning: Determinant has increased; this should not happen: log(det) > log(previous_det) (223.627757096287951 > 211.170244292045282). You may want to try with a higher value of support_fraction (current value: 0.501).\n",
      "  RuntimeWarning)\n",
      "/anaconda3/lib/python3.6/site-packages/sklearn/covariance/robust_covariance.py:171: RuntimeWarning: Determinant has increased; this should not happen: log(det) > log(previous_det) (194.227833701993688 > 167.221358361447585). You may want to try with a higher value of support_fraction (current value: 0.501).\n",
      "  RuntimeWarning)\n",
      "/anaconda3/lib/python3.6/site-packages/sklearn/covariance/robust_covariance.py:171: RuntimeWarning: Determinant has increased; this should not happen: log(det) > log(previous_det) (224.822730986159939 > 222.202488765906281). You may want to try with a higher value of support_fraction (current value: 0.501).\n",
      "  RuntimeWarning)\n",
      "/anaconda3/lib/python3.6/site-packages/sklearn/covariance/robust_covariance.py:171: RuntimeWarning: Determinant has increased; this should not happen: log(det) > log(previous_det) (194.462300830612719 > 179.316402496253716). You may want to try with a higher value of support_fraction (current value: 0.501).\n",
      "  RuntimeWarning)\n",
      "/anaconda3/lib/python3.6/site-packages/sklearn/covariance/robust_covariance.py:171: RuntimeWarning: Determinant has increased; this should not happen: log(det) > log(previous_det) (208.333129355759866 > 198.288932062002516). You may want to try with a higher value of support_fraction (current value: 0.501).\n",
      "  RuntimeWarning)\n",
      "/anaconda3/lib/python3.6/site-packages/sklearn/covariance/robust_covariance.py:171: RuntimeWarning: Determinant has increased; this should not happen: log(det) > log(previous_det) (193.344622798113278 > 175.573969061523826). You may want to try with a higher value of support_fraction (current value: 0.501).\n",
      "  RuntimeWarning)\n",
      "/anaconda3/lib/python3.6/site-packages/sklearn/covariance/robust_covariance.py:171: RuntimeWarning: Determinant has increased; this should not happen: log(det) > log(previous_det) (180.772922505326704 > 178.203920765056694). You may want to try with a higher value of support_fraction (current value: 0.501).\n",
      "  RuntimeWarning)\n",
      "/anaconda3/lib/python3.6/site-packages/sklearn/covariance/robust_covariance.py:171: RuntimeWarning: Determinant has increased; this should not happen: log(det) > log(previous_det) (184.943660597776187 > 174.490088461986801). You may want to try with a higher value of support_fraction (current value: 0.501).\n",
      "  RuntimeWarning)\n",
      "/anaconda3/lib/python3.6/site-packages/sklearn/covariance/robust_covariance.py:171: RuntimeWarning: Determinant has increased; this should not happen: log(det) > log(previous_det) (244.416236867535588 > 220.735353128382371). You may want to try with a higher value of support_fraction (current value: 0.501).\n",
      "  RuntimeWarning)\n",
      "/anaconda3/lib/python3.6/site-packages/sklearn/covariance/robust_covariance.py:171: RuntimeWarning: Determinant has increased; this should not happen: log(det) > log(previous_det) (202.528712246733164 > 195.760358585186765). You may want to try with a higher value of support_fraction (current value: 0.501).\n",
      "  RuntimeWarning)\n",
      "/anaconda3/lib/python3.6/site-packages/sklearn/covariance/robust_covariance.py:171: RuntimeWarning: Determinant has increased; this should not happen: log(det) > log(previous_det) (189.443654689050106 > 180.500667938332867). You may want to try with a higher value of support_fraction (current value: 0.501).\n",
      "  RuntimeWarning)\n",
      "/anaconda3/lib/python3.6/site-packages/sklearn/covariance/robust_covariance.py:171: RuntimeWarning: Determinant has increased; this should not happen: log(det) > log(previous_det) (189.573043407122327 > 185.210043984177446). You may want to try with a higher value of support_fraction (current value: 0.501).\n",
      "  RuntimeWarning)\n",
      "/anaconda3/lib/python3.6/site-packages/sklearn/covariance/robust_covariance.py:171: RuntimeWarning: Determinant has increased; this should not happen: log(det) > log(previous_det) (242.099678481214369 > 228.122066757795068). You may want to try with a higher value of support_fraction (current value: 0.501).\n",
      "  RuntimeWarning)\n",
      "/anaconda3/lib/python3.6/site-packages/sklearn/covariance/robust_covariance.py:171: RuntimeWarning: Determinant has increased; this should not happen: log(det) > log(previous_det) (198.559646092024593 > 183.783679766196769). You may want to try with a higher value of support_fraction (current value: 0.501).\n",
      "  RuntimeWarning)\n"
     ]
    },
    {
     "name": "stderr",
     "output_type": "stream",
     "text": [
      "/anaconda3/lib/python3.6/site-packages/sklearn/covariance/robust_covariance.py:171: RuntimeWarning: Determinant has increased; this should not happen: log(det) > log(previous_det) (214.306314163444483 > 169.675348795614667). You may want to try with a higher value of support_fraction (current value: 0.501).\n",
      "  RuntimeWarning)\n",
      "/anaconda3/lib/python3.6/site-packages/sklearn/covariance/robust_covariance.py:171: RuntimeWarning: Determinant has increased; this should not happen: log(det) > log(previous_det) (244.748702789148922 > 220.357424952830854). You may want to try with a higher value of support_fraction (current value: 0.501).\n",
      "  RuntimeWarning)\n",
      "/anaconda3/lib/python3.6/site-packages/sklearn/covariance/robust_covariance.py:171: RuntimeWarning: Determinant has increased; this should not happen: log(det) > log(previous_det) (207.167966651481493 > 177.023549208693169). You may want to try with a higher value of support_fraction (current value: 0.501).\n",
      "  RuntimeWarning)\n",
      "/anaconda3/lib/python3.6/site-packages/sklearn/covariance/robust_covariance.py:171: RuntimeWarning: Determinant has increased; this should not happen: log(det) > log(previous_det) (205.298417279271973 > 184.439176223696933). You may want to try with a higher value of support_fraction (current value: 0.501).\n",
      "  RuntimeWarning)\n",
      "/anaconda3/lib/python3.6/site-packages/sklearn/covariance/robust_covariance.py:171: RuntimeWarning: Determinant has increased; this should not happen: log(det) > log(previous_det) (189.012850171581988 > 174.343309421624070). You may want to try with a higher value of support_fraction (current value: 0.501).\n",
      "  RuntimeWarning)\n",
      "/anaconda3/lib/python3.6/site-packages/sklearn/covariance/robust_covariance.py:171: RuntimeWarning: Determinant has increased; this should not happen: log(det) > log(previous_det) (247.047996302000200 > 185.067710162781822). You may want to try with a higher value of support_fraction (current value: 0.501).\n",
      "  RuntimeWarning)\n",
      "/anaconda3/lib/python3.6/site-packages/sklearn/covariance/robust_covariance.py:171: RuntimeWarning: Determinant has increased; this should not happen: log(det) > log(previous_det) (196.414707751160080 > 191.804068213889366). You may want to try with a higher value of support_fraction (current value: 0.501).\n",
      "  RuntimeWarning)\n",
      "/anaconda3/lib/python3.6/site-packages/sklearn/covariance/robust_covariance.py:171: RuntimeWarning: Determinant has increased; this should not happen: log(det) > log(previous_det) (245.898118323507646 > 227.523895095267761). You may want to try with a higher value of support_fraction (current value: 0.501).\n",
      "  RuntimeWarning)\n",
      "/anaconda3/lib/python3.6/site-packages/sklearn/covariance/robust_covariance.py:171: RuntimeWarning: Determinant has increased; this should not happen: log(det) > log(previous_det) (222.981971914448422 > 222.331845451006274). You may want to try with a higher value of support_fraction (current value: 0.501).\n",
      "  RuntimeWarning)\n",
      "/anaconda3/lib/python3.6/site-packages/sklearn/covariance/robust_covariance.py:171: RuntimeWarning: Determinant has increased; this should not happen: log(det) > log(previous_det) (239.697307460068004 > 186.794225745835320). You may want to try with a higher value of support_fraction (current value: 0.501).\n",
      "  RuntimeWarning)\n",
      "/anaconda3/lib/python3.6/site-packages/sklearn/covariance/robust_covariance.py:171: RuntimeWarning: Determinant has increased; this should not happen: log(det) > log(previous_det) (178.015908059043568 > 165.748683380547703). You may want to try with a higher value of support_fraction (current value: 0.501).\n",
      "  RuntimeWarning)\n",
      "/anaconda3/lib/python3.6/site-packages/sklearn/covariance/robust_covariance.py:171: RuntimeWarning: Determinant has increased; this should not happen: log(det) > log(previous_det) (236.392726858585576 > 218.641236634395909). You may want to try with a higher value of support_fraction (current value: 0.501).\n",
      "  RuntimeWarning)\n",
      "/anaconda3/lib/python3.6/site-packages/sklearn/covariance/robust_covariance.py:171: RuntimeWarning: Determinant has increased; this should not happen: log(det) > log(previous_det) (232.370723822202336 > 212.771577443645015). You may want to try with a higher value of support_fraction (current value: 0.501).\n",
      "  RuntimeWarning)\n",
      "/anaconda3/lib/python3.6/site-packages/sklearn/covariance/robust_covariance.py:171: RuntimeWarning: Determinant has increased; this should not happen: log(det) > log(previous_det) (199.226215133646349 > 191.676408318204551). You may want to try with a higher value of support_fraction (current value: 0.500).\n",
      "  RuntimeWarning)\n"
     ]
    },
    {
     "data": {
      "text/plain": [
       "EllipticEnvelope(assume_centered=False, contamination=0.2, random_state=0,\n",
       "         store_precision=True, support_fraction=None)"
      ]
     },
     "execution_count": 25,
     "metadata": {},
     "output_type": "execute_result"
    }
   ],
   "source": [
    "eenv = EllipticEnvelope(contamination=0.2, random_state=0)\n",
    "eenv.fit(X_train[train_normal])"
   ]
  },
  {
   "cell_type": "code",
   "execution_count": 36,
   "metadata": {},
   "outputs": [
    {
     "data": {
      "text/plain": [
       "0.7075123032235447"
      ]
     },
     "execution_count": 36,
     "metadata": {},
     "output_type": "execute_result"
    }
   ],
   "source": [
    "roc_auc_score(y_test,eenv.predict(X_test))"
   ]
  },
  {
   "cell_type": "markdown",
   "metadata": {},
   "source": [
    "# Local Outlier Factor"
   ]
  },
  {
   "cell_type": "code",
   "execution_count": 59,
   "metadata": {},
   "outputs": [
    {
     "name": "stderr",
     "output_type": "stream",
     "text": [
      "/anaconda3/lib/python3.6/site-packages/sklearn/neighbors/lof.py:236: FutureWarning: default contamination parameter 0.1 will change in version 0.22 to \"auto\". This will change the predict method behavior.\n",
      "  FutureWarning)\n"
     ]
    }
   ],
   "source": [
    "lof = LocalOutlierFactor()\n",
    "y_pred = lof.fit_predict(X_train)"
   ]
  },
  {
   "cell_type": "code",
   "execution_count": 43,
   "metadata": {},
   "outputs": [],
   "source": [
    "neg_scores = lof.negative_outlier_factor_\n",
    "out_scores = (neg_scores.max()-neg_scores)/(neg_scores.max()-neg_scores.min())"
   ]
  },
  {
   "cell_type": "code",
   "execution_count": 53,
   "metadata": {},
   "outputs": [
    {
     "data": {
      "text/plain": [
       "count    1.315050e+05\n",
       "mean    -7.703878e+12\n",
       "std      2.633116e+14\n",
       "min     -2.320057e+16\n",
       "25%     -1.078605e+00\n",
       "50%     -1.004495e+00\n",
       "75%     -1.000000e+00\n",
       "max     -8.769621e-01\n",
       "dtype: float64"
      ]
     },
     "execution_count": 53,
     "metadata": {},
     "output_type": "execute_result"
    }
   ],
   "source": [
    "pd.Series(neg_scores).describe()"
   ]
  },
  {
   "cell_type": "code",
   "execution_count": 54,
   "metadata": {},
   "outputs": [
    {
     "name": "stdout",
     "output_type": "stream",
     "text": [
      "0.5005816494689044\n",
      "0.5\n",
      "0.5\n",
      "0.5\n",
      "0.5\n",
      "0.5\n",
      "0.5\n",
      "0.5\n",
      "0.5\n",
      "0.5\n"
     ]
    }
   ],
   "source": [
    "for lim in np.linspace(1e-5,1e1,10):\n",
    "    print(roc_auc_score(y_train, list(map(y_anomaly_format, out_scores > lim))))"
   ]
  },
  {
   "cell_type": "code",
   "execution_count": 61,
   "metadata": {},
   "outputs": [
    {
     "data": {
      "text/plain": [
       "0.5393576376419513"
      ]
     },
     "execution_count": 61,
     "metadata": {},
     "output_type": "execute_result"
    }
   ],
   "source": [
    "roc_auc_score(y_train, y_pred)"
   ]
  },
  {
   "cell_type": "code",
   "execution_count": null,
   "metadata": {},
   "outputs": [],
   "source": []
  }
 ],
 "metadata": {
  "kernelspec": {
   "display_name": "Python 3",
   "language": "python",
   "name": "python3"
  },
  "language_info": {
   "codemirror_mode": {
    "name": "ipython",
    "version": 3
   },
   "file_extension": ".py",
   "mimetype": "text/x-python",
   "name": "python",
   "nbconvert_exporter": "python",
   "pygments_lexer": "ipython3",
   "version": "3.6.5"
  }
 },
 "nbformat": 4,
 "nbformat_minor": 2
}
